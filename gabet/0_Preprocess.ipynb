{
 "cells": [
  {
   "cell_type": "code",
   "execution_count": 1,
   "metadata": {},
   "outputs": [],
   "source": [
    "import pandas as pd\n",
    "import numpy as np\n",
    "import matplotlib\n",
    "import matplotlib.pyplot as plt\n",
    "import seaborn as sns\n",
    "from functools import reduce\n",
    "import re\n",
    "from sklearn.feature_extraction.text import CountVectorizer\n",
    "from collections import Counter\n",
    "from sklearn.cluster import KMeans\n",
    "from scipy import stats\n",
    "from nltk.corpus import stopwords"
   ]
  },
  {
   "cell_type": "markdown",
   "metadata": {},
   "source": [
    "### Read in Data"
   ]
  },
  {
   "cell_type": "code",
   "execution_count": 4,
   "metadata": {},
   "outputs": [
    {
     "name": "stderr",
     "output_type": "stream",
     "text": [
      "/Users/gabrieltaylor/.pyenv/versions/3.7.3/lib/python3.7/site-packages/IPython/core/interactiveshell.py:3063: DtypeWarning: Columns (0,3,5,19,20,24,25,26,27,28,36,37,38,39,48) have mixed types.Specify dtype option on import or set low_memory=False.\n",
      "  interactivity=interactivity, compiler=compiler, result=result)\n"
     ]
    }
   ],
   "source": [
    "df = pd.read_csv(\"/Users/gabrieltaylor/Python/STAT542/en.openfoodfacts.org.products.tsv\", sep = \"\\t\")"
   ]
  },
  {
   "cell_type": "code",
   "execution_count": 4,
   "metadata": {},
   "outputs": [
    {
     "data": {
      "text/html": [
       "<div>\n",
       "<style scoped>\n",
       "    .dataframe tbody tr th:only-of-type {\n",
       "        vertical-align: middle;\n",
       "    }\n",
       "\n",
       "    .dataframe tbody tr th {\n",
       "        vertical-align: top;\n",
       "    }\n",
       "\n",
       "    .dataframe thead th {\n",
       "        text-align: right;\n",
       "    }\n",
       "</style>\n",
       "<table border=\"1\" class=\"dataframe\">\n",
       "  <thead>\n",
       "    <tr style=\"text-align: right;\">\n",
       "      <th></th>\n",
       "      <th>code</th>\n",
       "      <th>url</th>\n",
       "      <th>creator</th>\n",
       "      <th>created_t</th>\n",
       "      <th>created_datetime</th>\n",
       "      <th>last_modified_t</th>\n",
       "      <th>last_modified_datetime</th>\n",
       "      <th>product_name</th>\n",
       "      <th>generic_name</th>\n",
       "      <th>quantity</th>\n",
       "      <th>...</th>\n",
       "      <th>fruits-vegetables-nuts_100g</th>\n",
       "      <th>fruits-vegetables-nuts-estimate_100g</th>\n",
       "      <th>collagen-meat-protein-ratio_100g</th>\n",
       "      <th>cocoa_100g</th>\n",
       "      <th>chlorophyl_100g</th>\n",
       "      <th>carbon-footprint_100g</th>\n",
       "      <th>nutrition-score-fr_100g</th>\n",
       "      <th>nutrition-score-uk_100g</th>\n",
       "      <th>glycemic-index_100g</th>\n",
       "      <th>water-hardness_100g</th>\n",
       "    </tr>\n",
       "  </thead>\n",
       "  <tbody>\n",
       "    <tr>\n",
       "      <th>0</th>\n",
       "      <td>3087</td>\n",
       "      <td>http://world-en.openfoodfacts.org/product/0000...</td>\n",
       "      <td>openfoodfacts-contributors</td>\n",
       "      <td>1474103866</td>\n",
       "      <td>2016-09-17T09:17:46Z</td>\n",
       "      <td>1474103893</td>\n",
       "      <td>2016-09-17T09:18:13Z</td>\n",
       "      <td>Farine de blé noir</td>\n",
       "      <td>NaN</td>\n",
       "      <td>1kg</td>\n",
       "      <td>...</td>\n",
       "      <td>NaN</td>\n",
       "      <td>NaN</td>\n",
       "      <td>NaN</td>\n",
       "      <td>NaN</td>\n",
       "      <td>NaN</td>\n",
       "      <td>NaN</td>\n",
       "      <td>NaN</td>\n",
       "      <td>NaN</td>\n",
       "      <td>NaN</td>\n",
       "      <td>NaN</td>\n",
       "    </tr>\n",
       "    <tr>\n",
       "      <th>1</th>\n",
       "      <td>4530</td>\n",
       "      <td>http://world-en.openfoodfacts.org/product/0000...</td>\n",
       "      <td>usda-ndb-import</td>\n",
       "      <td>1489069957</td>\n",
       "      <td>2017-03-09T14:32:37Z</td>\n",
       "      <td>1489069957</td>\n",
       "      <td>2017-03-09T14:32:37Z</td>\n",
       "      <td>Banana Chips Sweetened (Whole)</td>\n",
       "      <td>NaN</td>\n",
       "      <td>NaN</td>\n",
       "      <td>...</td>\n",
       "      <td>NaN</td>\n",
       "      <td>NaN</td>\n",
       "      <td>NaN</td>\n",
       "      <td>NaN</td>\n",
       "      <td>NaN</td>\n",
       "      <td>NaN</td>\n",
       "      <td>14.0</td>\n",
       "      <td>14.0</td>\n",
       "      <td>NaN</td>\n",
       "      <td>NaN</td>\n",
       "    </tr>\n",
       "    <tr>\n",
       "      <th>2</th>\n",
       "      <td>4559</td>\n",
       "      <td>http://world-en.openfoodfacts.org/product/0000...</td>\n",
       "      <td>usda-ndb-import</td>\n",
       "      <td>1489069957</td>\n",
       "      <td>2017-03-09T14:32:37Z</td>\n",
       "      <td>1489069957</td>\n",
       "      <td>2017-03-09T14:32:37Z</td>\n",
       "      <td>Peanuts</td>\n",
       "      <td>NaN</td>\n",
       "      <td>NaN</td>\n",
       "      <td>...</td>\n",
       "      <td>NaN</td>\n",
       "      <td>NaN</td>\n",
       "      <td>NaN</td>\n",
       "      <td>NaN</td>\n",
       "      <td>NaN</td>\n",
       "      <td>NaN</td>\n",
       "      <td>0.0</td>\n",
       "      <td>0.0</td>\n",
       "      <td>NaN</td>\n",
       "      <td>NaN</td>\n",
       "    </tr>\n",
       "    <tr>\n",
       "      <th>3</th>\n",
       "      <td>16087</td>\n",
       "      <td>http://world-en.openfoodfacts.org/product/0000...</td>\n",
       "      <td>usda-ndb-import</td>\n",
       "      <td>1489055731</td>\n",
       "      <td>2017-03-09T10:35:31Z</td>\n",
       "      <td>1489055731</td>\n",
       "      <td>2017-03-09T10:35:31Z</td>\n",
       "      <td>Organic Salted Nut Mix</td>\n",
       "      <td>NaN</td>\n",
       "      <td>NaN</td>\n",
       "      <td>...</td>\n",
       "      <td>NaN</td>\n",
       "      <td>NaN</td>\n",
       "      <td>NaN</td>\n",
       "      <td>NaN</td>\n",
       "      <td>NaN</td>\n",
       "      <td>NaN</td>\n",
       "      <td>12.0</td>\n",
       "      <td>12.0</td>\n",
       "      <td>NaN</td>\n",
       "      <td>NaN</td>\n",
       "    </tr>\n",
       "    <tr>\n",
       "      <th>4</th>\n",
       "      <td>16094</td>\n",
       "      <td>http://world-en.openfoodfacts.org/product/0000...</td>\n",
       "      <td>usda-ndb-import</td>\n",
       "      <td>1489055653</td>\n",
       "      <td>2017-03-09T10:34:13Z</td>\n",
       "      <td>1489055653</td>\n",
       "      <td>2017-03-09T10:34:13Z</td>\n",
       "      <td>Organic Polenta</td>\n",
       "      <td>NaN</td>\n",
       "      <td>NaN</td>\n",
       "      <td>...</td>\n",
       "      <td>NaN</td>\n",
       "      <td>NaN</td>\n",
       "      <td>NaN</td>\n",
       "      <td>NaN</td>\n",
       "      <td>NaN</td>\n",
       "      <td>NaN</td>\n",
       "      <td>NaN</td>\n",
       "      <td>NaN</td>\n",
       "      <td>NaN</td>\n",
       "      <td>NaN</td>\n",
       "    </tr>\n",
       "  </tbody>\n",
       "</table>\n",
       "<p>5 rows × 163 columns</p>\n",
       "</div>"
      ],
      "text/plain": [
       "    code                                                url  \\\n",
       "0   3087  http://world-en.openfoodfacts.org/product/0000...   \n",
       "1   4530  http://world-en.openfoodfacts.org/product/0000...   \n",
       "2   4559  http://world-en.openfoodfacts.org/product/0000...   \n",
       "3  16087  http://world-en.openfoodfacts.org/product/0000...   \n",
       "4  16094  http://world-en.openfoodfacts.org/product/0000...   \n",
       "\n",
       "                      creator   created_t      created_datetime  \\\n",
       "0  openfoodfacts-contributors  1474103866  2016-09-17T09:17:46Z   \n",
       "1             usda-ndb-import  1489069957  2017-03-09T14:32:37Z   \n",
       "2             usda-ndb-import  1489069957  2017-03-09T14:32:37Z   \n",
       "3             usda-ndb-import  1489055731  2017-03-09T10:35:31Z   \n",
       "4             usda-ndb-import  1489055653  2017-03-09T10:34:13Z   \n",
       "\n",
       "  last_modified_t last_modified_datetime                    product_name  \\\n",
       "0      1474103893   2016-09-17T09:18:13Z              Farine de blé noir   \n",
       "1      1489069957   2017-03-09T14:32:37Z  Banana Chips Sweetened (Whole)   \n",
       "2      1489069957   2017-03-09T14:32:37Z                         Peanuts   \n",
       "3      1489055731   2017-03-09T10:35:31Z          Organic Salted Nut Mix   \n",
       "4      1489055653   2017-03-09T10:34:13Z                 Organic Polenta   \n",
       "\n",
       "  generic_name quantity  ... fruits-vegetables-nuts_100g  \\\n",
       "0          NaN      1kg  ...                         NaN   \n",
       "1          NaN      NaN  ...                         NaN   \n",
       "2          NaN      NaN  ...                         NaN   \n",
       "3          NaN      NaN  ...                         NaN   \n",
       "4          NaN      NaN  ...                         NaN   \n",
       "\n",
       "  fruits-vegetables-nuts-estimate_100g collagen-meat-protein-ratio_100g  \\\n",
       "0                                  NaN                              NaN   \n",
       "1                                  NaN                              NaN   \n",
       "2                                  NaN                              NaN   \n",
       "3                                  NaN                              NaN   \n",
       "4                                  NaN                              NaN   \n",
       "\n",
       "  cocoa_100g chlorophyl_100g carbon-footprint_100g nutrition-score-fr_100g  \\\n",
       "0        NaN             NaN                   NaN                     NaN   \n",
       "1        NaN             NaN                   NaN                    14.0   \n",
       "2        NaN             NaN                   NaN                     0.0   \n",
       "3        NaN             NaN                   NaN                    12.0   \n",
       "4        NaN             NaN                   NaN                     NaN   \n",
       "\n",
       "  nutrition-score-uk_100g glycemic-index_100g water-hardness_100g  \n",
       "0                     NaN                 NaN                 NaN  \n",
       "1                    14.0                 NaN                 NaN  \n",
       "2                     0.0                 NaN                 NaN  \n",
       "3                    12.0                 NaN                 NaN  \n",
       "4                     NaN                 NaN                 NaN  \n",
       "\n",
       "[5 rows x 163 columns]"
      ]
     },
     "execution_count": 4,
     "metadata": {},
     "output_type": "execute_result"
    }
   ],
   "source": [
    "df.head()"
   ]
  },
  {
   "cell_type": "code",
   "execution_count": 5,
   "metadata": {},
   "outputs": [
    {
     "data": {
      "text/plain": [
       "'Peanuts, wheat flour, sugar, rice flour, tapioca starch, salt, leavening (ammonium bicarbonate, baking soda), soy sauce (water, soybeans, wheat, salt), potato starch.'"
      ]
     },
     "execution_count": 5,
     "metadata": {},
     "output_type": "execute_result"
    }
   ],
   "source": [
    "df['ingredients_text'][2]"
   ]
  },
  {
   "cell_type": "markdown",
   "metadata": {},
   "source": [
    "### Plot Missing Values"
   ]
  },
  {
   "cell_type": "code",
   "execution_count": 4,
   "metadata": {},
   "outputs": [],
   "source": [
    "miss_vals = pd.DataFrame(df.isna().mean()).reset_index()\n",
    "miss_vals.columns = [\"Columns\", \"MV Rate\"]\n",
    "miss_vals = miss_vals.sort_values(\"MV Rate\")"
   ]
  },
  {
   "cell_type": "code",
   "execution_count": 88,
   "metadata": {},
   "outputs": [
    {
     "data": {
      "text/plain": [
       "<matplotlib.axes._subplots.AxesSubplot at 0x16f25cbe0>"
      ]
     },
     "execution_count": 88,
     "metadata": {},
     "output_type": "execute_result"
    },
    {
     "data": {
      "image/png": "[encoded data removed]",
      "text/plain": [
       "<Figure size 720x1800 with 1 Axes>"
      ]
     },
     "metadata": {
      "needs_background": "light"
     },
     "output_type": "display_data"
    }
   ],
   "source": [
    "plt.figure(figsize = (10, 25))\n",
    "sns.barplot(\"MV Rate\", \"Columns\", data = miss_vals, orient = \"h\")"
   ]
  },
  {
   "cell_type": "markdown",
   "metadata": {},
   "source": [
    "### Remove Columns above 30% Missing Values"
   ]
  },
  {
   "cell_type": "code",
   "execution_count": 5,
   "metadata": {},
   "outputs": [],
   "source": [
    "keep_cols = miss_vals[miss_vals[\"MV Rate\"] < 0.3][\"Columns\"]"
   ]
  },
  {
   "cell_type": "code",
   "execution_count": 6,
   "metadata": {},
   "outputs": [],
   "source": [
    "df2 = df[keep_cols]"
   ]
  },
  {
   "cell_type": "markdown",
   "metadata": {},
   "source": [
    "### Remove General Information "
   ]
  },
  {
   "cell_type": "code",
   "execution_count": 7,
   "metadata": {},
   "outputs": [],
   "source": [
    "rm_cols = [ 'last_modified_t',\n",
    "            'last_modified_datetime',\n",
    "             'creator',\n",
    "             'created_t',\n",
    "             'created_datetime',\n",
    "             'code',\n",
    "             'url',\n",
    "             'states',\n",
    "             'states_en',\n",
    "             'states_tags',\n",
    "             'countries_tags',\n",
    "             'countries',\n",
    "             'ingredients_that_may_be_from_palm_oil_n',\n",
    "             'ingredients_from_palm_oil_n',\n",
    "             'product_name', ### Perhaps Keep\n",
    "             'brands', ### Perhaps Keep\n",
    "             'brands_tags',\n",
    "             'additives', ### contained in ingredients\n",
    "             'additives_n',\n",
    "             'nutrition-score-uk_100g', ### Related to target\n",
    "             'nutrition_grade_fr', ### Related to target\n",
    "             'salt_100g' ### Sodium will suffice\n",
    "          ]"
   ]
  },
  {
   "cell_type": "code",
   "execution_count": 8,
   "metadata": {},
   "outputs": [],
   "source": [
    "df3 = df2.drop(rm_cols, axis = 1)"
   ]
  },
  {
   "cell_type": "markdown",
   "metadata": {},
   "source": [
    "## Check Missingness"
   ]
  },
  {
   "cell_type": "code",
   "execution_count": 9,
   "metadata": {},
   "outputs": [
    {
     "data": {
      "text/html": [
       "<div>\n",
       "<style scoped>\n",
       "    .dataframe tbody tr th:only-of-type {\n",
       "        vertical-align: middle;\n",
       "    }\n",
       "\n",
       "    .dataframe tbody tr th {\n",
       "        vertical-align: top;\n",
       "    }\n",
       "\n",
       "    .dataframe thead th {\n",
       "        text-align: right;\n",
       "    }\n",
       "</style>\n",
       "<table border=\"1\" class=\"dataframe\">\n",
       "  <thead>\n",
       "    <tr style=\"text-align: right;\">\n",
       "      <th></th>\n",
       "      <th>index</th>\n",
       "      <th>0</th>\n",
       "    </tr>\n",
       "  </thead>\n",
       "  <tbody>\n",
       "    <tr>\n",
       "      <th>0</th>\n",
       "      <td>countries_en</td>\n",
       "      <td>0.000772</td>\n",
       "    </tr>\n",
       "    <tr>\n",
       "      <th>1</th>\n",
       "      <td>energy_100g</td>\n",
       "      <td>0.170380</td>\n",
       "    </tr>\n",
       "    <tr>\n",
       "      <th>2</th>\n",
       "      <td>proteins_100g</td>\n",
       "      <td>0.173768</td>\n",
       "    </tr>\n",
       "    <tr>\n",
       "      <th>3</th>\n",
       "      <td>sodium_100g</td>\n",
       "      <td>0.186315</td>\n",
       "    </tr>\n",
       "    <tr>\n",
       "      <th>4</th>\n",
       "      <td>ingredients_text</td>\n",
       "      <td>0.202608</td>\n",
       "    </tr>\n",
       "    <tr>\n",
       "      <th>5</th>\n",
       "      <td>fat_100g</td>\n",
       "      <td>0.214956</td>\n",
       "    </tr>\n",
       "    <tr>\n",
       "      <th>6</th>\n",
       "      <td>carbohydrates_100g</td>\n",
       "      <td>0.215734</td>\n",
       "    </tr>\n",
       "    <tr>\n",
       "      <th>7</th>\n",
       "      <td>sugars_100g</td>\n",
       "      <td>0.215829</td>\n",
       "    </tr>\n",
       "    <tr>\n",
       "      <th>8</th>\n",
       "      <td>saturated-fat_100g</td>\n",
       "      <td>0.258980</td>\n",
       "    </tr>\n",
       "    <tr>\n",
       "      <th>9</th>\n",
       "      <td>nutrition-score-fr_100g</td>\n",
       "      <td>0.284167</td>\n",
       "    </tr>\n",
       "  </tbody>\n",
       "</table>\n",
       "</div>"
      ],
      "text/plain": [
       "                     index         0\n",
       "0             countries_en  0.000772\n",
       "1              energy_100g  0.170380\n",
       "2            proteins_100g  0.173768\n",
       "3              sodium_100g  0.186315\n",
       "4         ingredients_text  0.202608\n",
       "5                 fat_100g  0.214956\n",
       "6       carbohydrates_100g  0.215734\n",
       "7              sugars_100g  0.215829\n",
       "8       saturated-fat_100g  0.258980\n",
       "9  nutrition-score-fr_100g  0.284167"
      ]
     },
     "execution_count": 9,
     "metadata": {},
     "output_type": "execute_result"
    }
   ],
   "source": [
    "pd.DataFrame(df3.isna().mean()).reset_index()"
   ]
  },
  {
   "cell_type": "markdown",
   "metadata": {},
   "source": [
    "### Remove All Missing Rows For Right Now"
   ]
  },
  {
   "cell_type": "code",
   "execution_count": 10,
   "metadata": {},
   "outputs": [],
   "source": [
    "df4 = df3.dropna()"
   ]
  },
  {
   "cell_type": "code",
   "execution_count": 11,
   "metadata": {},
   "outputs": [
    {
     "data": {
      "text/plain": [
       "0.6426394627373767"
      ]
     },
     "execution_count": 11,
     "metadata": {},
     "output_type": "execute_result"
    }
   ],
   "source": [
    "df4.shape[0] / df3.shape[0]"
   ]
  },
  {
   "cell_type": "markdown",
   "metadata": {},
   "source": [
    "# Unsupervised Task"
   ]
  },
  {
   "cell_type": "code",
   "execution_count": 2,
   "metadata": {},
   "outputs": [],
   "source": [
    "def scale(x):\n",
    "    return (x - np.mean(x)) / np.std(x)"
   ]
  },
  {
   "cell_type": "markdown",
   "metadata": {},
   "source": [
    "## Clustering Macronutrients"
   ]
  },
  {
   "cell_type": "code",
   "execution_count": 5,
   "metadata": {},
   "outputs": [],
   "source": [
    "keep_cols = ['ingredients_text',\n",
    "             'carbohydrates_100g',\n",
    "             'fiber_100g',\n",
    "             'sugars_100g',\n",
    "             'proteins_100g', \n",
    "             'fat_100g', \n",
    "             'saturated-fat_100g']\n",
    "clust_df = df[keep_cols]\n",
    "clust_df = clust_df.dropna()"
   ]
  },
  {
   "cell_type": "code",
   "execution_count": 6,
   "metadata": {},
   "outputs": [],
   "source": [
    "clean_ingre = lambda s: \" \".join( map( lambda s1: s1.strip().replace(\" \", \"-\") , s.lower().replace(\".\",\"\").replace(\"(\",\",\").replace(\")\",\",\").split(\",\") ) )"
   ]
  },
  {
   "cell_type": "code",
   "execution_count": 7,
   "metadata": {},
   "outputs": [],
   "source": [
    "clust_df[\"ingredients_text\"] = [clean_ingre(i) for i in clust_df[\"ingredients_text\"]]"
   ]
  },
  {
   "cell_type": "markdown",
   "metadata": {},
   "source": [
    "### Keep Only Rows With The Most Common Ingredients\n",
    "\n",
    "Rows containing ingredients that are **not** in the the most common words list are dropped"
   ]
  },
  {
   "cell_type": "code",
   "execution_count": 8,
   "metadata": {},
   "outputs": [],
   "source": [
    "all_words = [i for ing in clust_df['ingredients_text'] for i in ing.split()]"
   ]
  },
  {
   "cell_type": "code",
   "execution_count": 9,
   "metadata": {},
   "outputs": [],
   "source": [
    "most_common_words = dict(Counter(all_words).most_common(1000))"
   ]
  },
  {
   "cell_type": "code",
   "execution_count": 10,
   "metadata": {},
   "outputs": [],
   "source": [
    "clust_df = clust_df[[all(i in most_common_words.keys() for i in i_list.split()) for i_list in clust_df['ingredients_text']]]"
   ]
  },
  {
   "cell_type": "code",
   "execution_count": 10,
   "metadata": {},
   "outputs": [
    {
     "data": {
      "text/html": [
       "<div>\n",
       "<style scoped>\n",
       "    .dataframe tbody tr th:only-of-type {\n",
       "        vertical-align: middle;\n",
       "    }\n",
       "\n",
       "    .dataframe tbody tr th {\n",
       "        vertical-align: top;\n",
       "    }\n",
       "\n",
       "    .dataframe thead th {\n",
       "        text-align: right;\n",
       "    }\n",
       "</style>\n",
       "<table border=\"1\" class=\"dataframe\">\n",
       "  <thead>\n",
       "    <tr style=\"text-align: right;\">\n",
       "      <th></th>\n",
       "      <th>ingredients_text</th>\n",
       "      <th>carbohydrates_100g</th>\n",
       "      <th>fiber_100g</th>\n",
       "      <th>sugars_100g</th>\n",
       "      <th>proteins_100g</th>\n",
       "      <th>fat_100g</th>\n",
       "      <th>saturated-fat_100g</th>\n",
       "    </tr>\n",
       "  </thead>\n",
       "  <tbody>\n",
       "    <tr>\n",
       "      <th>2</th>\n",
       "      <td>peanuts wheat-flour sugar rice-flour tapioca-s...</td>\n",
       "      <td>60.71</td>\n",
       "      <td>7.1</td>\n",
       "      <td>17.86</td>\n",
       "      <td>17.86</td>\n",
       "      <td>17.86</td>\n",
       "      <td>0.00</td>\n",
       "    </tr>\n",
       "    <tr>\n",
       "      <th>30</th>\n",
       "      <td>organic-coconut</td>\n",
       "      <td>53.33</td>\n",
       "      <td>6.7</td>\n",
       "      <td>6.67</td>\n",
       "      <td>6.67</td>\n",
       "      <td>30.00</td>\n",
       "      <td>26.67</td>\n",
       "    </tr>\n",
       "    <tr>\n",
       "      <th>38</th>\n",
       "      <td>organic-coconut</td>\n",
       "      <td>24.00</td>\n",
       "      <td>16.0</td>\n",
       "      <td>7.00</td>\n",
       "      <td>6.00</td>\n",
       "      <td>65.00</td>\n",
       "      <td>57.00</td>\n",
       "    </tr>\n",
       "    <tr>\n",
       "      <th>148</th>\n",
       "      <td>cranberries sugar sunflower-oil</td>\n",
       "      <td>83.33</td>\n",
       "      <td>10.0</td>\n",
       "      <td>66.67</td>\n",
       "      <td>0.00</td>\n",
       "      <td>0.00</td>\n",
       "      <td>0.00</td>\n",
       "    </tr>\n",
       "    <tr>\n",
       "      <th>149</th>\n",
       "      <td>apricots sulfur-dioxide</td>\n",
       "      <td>62.50</td>\n",
       "      <td>7.5</td>\n",
       "      <td>52.50</td>\n",
       "      <td>2.50</td>\n",
       "      <td>0.00</td>\n",
       "      <td>0.00</td>\n",
       "    </tr>\n",
       "  </tbody>\n",
       "</table>\n",
       "</div>"
      ],
      "text/plain": [
       "                                      ingredients_text  carbohydrates_100g  \\\n",
       "2    peanuts wheat-flour sugar rice-flour tapioca-s...               60.71   \n",
       "30                                     organic-coconut               53.33   \n",
       "38                                     organic-coconut               24.00   \n",
       "148                    cranberries sugar sunflower-oil               83.33   \n",
       "149                            apricots sulfur-dioxide               62.50   \n",
       "\n",
       "     fiber_100g  sugars_100g  proteins_100g  fat_100g  saturated-fat_100g  \n",
       "2           7.1        17.86          17.86     17.86                0.00  \n",
       "30          6.7         6.67           6.67     30.00               26.67  \n",
       "38         16.0         7.00           6.00     65.00               57.00  \n",
       "148        10.0        66.67           0.00      0.00                0.00  \n",
       "149         7.5        52.50           2.50      0.00                0.00  "
      ]
     },
     "execution_count": 10,
     "metadata": {},
     "output_type": "execute_result"
    }
   ],
   "source": [
    "clust_df.head()"
   ]
  },
  {
   "cell_type": "markdown",
   "metadata": {},
   "source": [
    "### Remove outliers"
   ]
  },
  {
   "cell_type": "code",
   "execution_count": 11,
   "metadata": {},
   "outputs": [],
   "source": [
    "clust_df = clust_df[(np.abs(stats.zscore(clust_df.drop([\"ingredients_text\"], axis = 1))) < 3).all(axis = 1)]"
   ]
  },
  {
   "cell_type": "code",
   "execution_count": 12,
   "metadata": {},
   "outputs": [
    {
     "data": {
      "text/html": [
       "<div>\n",
       "<style scoped>\n",
       "    .dataframe tbody tr th:only-of-type {\n",
       "        vertical-align: middle;\n",
       "    }\n",
       "\n",
       "    .dataframe tbody tr th {\n",
       "        vertical-align: top;\n",
       "    }\n",
       "\n",
       "    .dataframe thead th {\n",
       "        text-align: right;\n",
       "    }\n",
       "</style>\n",
       "<table border=\"1\" class=\"dataframe\">\n",
       "  <thead>\n",
       "    <tr style=\"text-align: right;\">\n",
       "      <th></th>\n",
       "      <th>carbohydrates_100g</th>\n",
       "      <th>fiber_100g</th>\n",
       "      <th>sugars_100g</th>\n",
       "      <th>proteins_100g</th>\n",
       "      <th>fat_100g</th>\n",
       "      <th>saturated-fat_100g</th>\n",
       "    </tr>\n",
       "  </thead>\n",
       "  <tbody>\n",
       "    <tr>\n",
       "      <th>count</th>\n",
       "      <td>12277.000000</td>\n",
       "      <td>12277.000000</td>\n",
       "      <td>12277.000000</td>\n",
       "      <td>12277.000000</td>\n",
       "      <td>12277.00000</td>\n",
       "      <td>12277.000000</td>\n",
       "    </tr>\n",
       "    <tr>\n",
       "      <th>mean</th>\n",
       "      <td>28.127085</td>\n",
       "      <td>2.700839</td>\n",
       "      <td>11.176865</td>\n",
       "      <td>9.885555</td>\n",
       "      <td>15.22132</td>\n",
       "      <td>4.956619</td>\n",
       "    </tr>\n",
       "    <tr>\n",
       "      <th>std</th>\n",
       "      <td>29.103303</td>\n",
       "      <td>3.504133</td>\n",
       "      <td>18.002026</td>\n",
       "      <td>9.279081</td>\n",
       "      <td>19.13315</td>\n",
       "      <td>7.077012</td>\n",
       "    </tr>\n",
       "    <tr>\n",
       "      <th>min</th>\n",
       "      <td>0.000000</td>\n",
       "      <td>0.000000</td>\n",
       "      <td>-1.200000</td>\n",
       "      <td>0.000000</td>\n",
       "      <td>0.00000</td>\n",
       "      <td>0.000000</td>\n",
       "    </tr>\n",
       "    <tr>\n",
       "      <th>25%</th>\n",
       "      <td>3.700000</td>\n",
       "      <td>0.000000</td>\n",
       "      <td>0.000000</td>\n",
       "      <td>1.600000</td>\n",
       "      <td>0.00000</td>\n",
       "      <td>0.000000</td>\n",
       "    </tr>\n",
       "    <tr>\n",
       "      <th>50%</th>\n",
       "      <td>14.290000</td>\n",
       "      <td>1.600000</td>\n",
       "      <td>3.570000</td>\n",
       "      <td>7.000000</td>\n",
       "      <td>3.33000</td>\n",
       "      <td>0.340000</td>\n",
       "    </tr>\n",
       "    <tr>\n",
       "      <th>75%</th>\n",
       "      <td>56.250000</td>\n",
       "      <td>3.600000</td>\n",
       "      <td>10.620000</td>\n",
       "      <td>17.650000</td>\n",
       "      <td>28.57000</td>\n",
       "      <td>7.140000</td>\n",
       "    </tr>\n",
       "    <tr>\n",
       "      <th>max</th>\n",
       "      <td>100.000000</td>\n",
       "      <td>18.000000</td>\n",
       "      <td>73.330000</td>\n",
       "      <td>38.460000</td>\n",
       "      <td>82.14000</td>\n",
       "      <td>30.000000</td>\n",
       "    </tr>\n",
       "  </tbody>\n",
       "</table>\n",
       "</div>"
      ],
      "text/plain": [
       "       carbohydrates_100g    fiber_100g   sugars_100g  proteins_100g  \\\n",
       "count        12277.000000  12277.000000  12277.000000   12277.000000   \n",
       "mean            28.127085      2.700839     11.176865       9.885555   \n",
       "std             29.103303      3.504133     18.002026       9.279081   \n",
       "min              0.000000      0.000000     -1.200000       0.000000   \n",
       "25%              3.700000      0.000000      0.000000       1.600000   \n",
       "50%             14.290000      1.600000      3.570000       7.000000   \n",
       "75%             56.250000      3.600000     10.620000      17.650000   \n",
       "max            100.000000     18.000000     73.330000      38.460000   \n",
       "\n",
       "          fat_100g  saturated-fat_100g  \n",
       "count  12277.00000        12277.000000  \n",
       "mean      15.22132            4.956619  \n",
       "std       19.13315            7.077012  \n",
       "min        0.00000            0.000000  \n",
       "25%        0.00000            0.000000  \n",
       "50%        3.33000            0.340000  \n",
       "75%       28.57000            7.140000  \n",
       "max       82.14000           30.000000  "
      ]
     },
     "execution_count": 12,
     "metadata": {},
     "output_type": "execute_result"
    }
   ],
   "source": [
    "clust_df.describe()"
   ]
  },
  {
   "cell_type": "markdown",
   "metadata": {},
   "source": [
    "### Center and Scale"
   ]
  },
  {
   "cell_type": "code",
   "execution_count": 13,
   "metadata": {},
   "outputs": [],
   "source": [
    "for col in keep_cols[1:]:\n",
    "    clust_df[col] = scale(np.array(clust_df[col]))"
   ]
  },
  {
   "cell_type": "code",
   "execution_count": 14,
   "metadata": {},
   "outputs": [
    {
     "data": {
      "text/html": [
       "<div>\n",
       "<style scoped>\n",
       "    .dataframe tbody tr th:only-of-type {\n",
       "        vertical-align: middle;\n",
       "    }\n",
       "\n",
       "    .dataframe tbody tr th {\n",
       "        vertical-align: top;\n",
       "    }\n",
       "\n",
       "    .dataframe thead th {\n",
       "        text-align: right;\n",
       "    }\n",
       "</style>\n",
       "<table border=\"1\" class=\"dataframe\">\n",
       "  <thead>\n",
       "    <tr style=\"text-align: right;\">\n",
       "      <th></th>\n",
       "      <th>carbohydrates_100g</th>\n",
       "      <th>fiber_100g</th>\n",
       "      <th>sugars_100g</th>\n",
       "      <th>proteins_100g</th>\n",
       "      <th>fat_100g</th>\n",
       "      <th>saturated-fat_100g</th>\n",
       "    </tr>\n",
       "  </thead>\n",
       "  <tbody>\n",
       "    <tr>\n",
       "      <th>count</th>\n",
       "      <td>1.227700e+04</td>\n",
       "      <td>1.227700e+04</td>\n",
       "      <td>1.227700e+04</td>\n",
       "      <td>1.227700e+04</td>\n",
       "      <td>1.227700e+04</td>\n",
       "      <td>1.227700e+04</td>\n",
       "    </tr>\n",
       "    <tr>\n",
       "      <th>mean</th>\n",
       "      <td>1.111218e-16</td>\n",
       "      <td>-4.167067e-17</td>\n",
       "      <td>9.260148e-17</td>\n",
       "      <td>4.282818e-17</td>\n",
       "      <td>3.935563e-17</td>\n",
       "      <td>1.574225e-16</td>\n",
       "    </tr>\n",
       "    <tr>\n",
       "      <th>std</th>\n",
       "      <td>1.000041e+00</td>\n",
       "      <td>1.000041e+00</td>\n",
       "      <td>1.000041e+00</td>\n",
       "      <td>1.000041e+00</td>\n",
       "      <td>1.000041e+00</td>\n",
       "      <td>1.000041e+00</td>\n",
       "    </tr>\n",
       "    <tr>\n",
       "      <th>min</th>\n",
       "      <td>-9.664962e-01</td>\n",
       "      <td>-7.707895e-01</td>\n",
       "      <td>-6.875542e-01</td>\n",
       "      <td>-1.065403e+00</td>\n",
       "      <td>-7.955794e-01</td>\n",
       "      <td>-7.004115e-01</td>\n",
       "    </tr>\n",
       "    <tr>\n",
       "      <th>25%</th>\n",
       "      <td>-8.393577e-01</td>\n",
       "      <td>-7.707895e-01</td>\n",
       "      <td>-6.208924e-01</td>\n",
       "      <td>-8.929648e-01</td>\n",
       "      <td>-7.955794e-01</td>\n",
       "      <td>-7.004115e-01</td>\n",
       "    </tr>\n",
       "    <tr>\n",
       "      <th>50%</th>\n",
       "      <td>-4.754666e-01</td>\n",
       "      <td>-3.141672e-01</td>\n",
       "      <td>-4.225733e-01</td>\n",
       "      <td>-3.109869e-01</td>\n",
       "      <td>-6.215288e-01</td>\n",
       "      <td>-6.523667e-01</td>\n",
       "    </tr>\n",
       "    <tr>\n",
       "      <th>75%</th>\n",
       "      <td>9.663529e-01</td>\n",
       "      <td>2.566106e-01</td>\n",
       "      <td>-3.093475e-02</td>\n",
       "      <td>8.368028e-01</td>\n",
       "      <td>6.977013e-01</td>\n",
       "      <td>3.085299e-01</td>\n",
       "    </tr>\n",
       "    <tr>\n",
       "      <th>max</th>\n",
       "      <td>2.469680e+00</td>\n",
       "      <td>4.366211e+00</td>\n",
       "      <td>3.452704e+00</td>\n",
       "      <td>3.079573e+00</td>\n",
       "      <td>3.497668e+00</td>\n",
       "      <td>3.538838e+00</td>\n",
       "    </tr>\n",
       "  </tbody>\n",
       "</table>\n",
       "</div>"
      ],
      "text/plain": [
       "       carbohydrates_100g    fiber_100g   sugars_100g  proteins_100g  \\\n",
       "count        1.227700e+04  1.227700e+04  1.227700e+04   1.227700e+04   \n",
       "mean         1.111218e-16 -4.167067e-17  9.260148e-17   4.282818e-17   \n",
       "std          1.000041e+00  1.000041e+00  1.000041e+00   1.000041e+00   \n",
       "min         -9.664962e-01 -7.707895e-01 -6.875542e-01  -1.065403e+00   \n",
       "25%         -8.393577e-01 -7.707895e-01 -6.208924e-01  -8.929648e-01   \n",
       "50%         -4.754666e-01 -3.141672e-01 -4.225733e-01  -3.109869e-01   \n",
       "75%          9.663529e-01  2.566106e-01 -3.093475e-02   8.368028e-01   \n",
       "max          2.469680e+00  4.366211e+00  3.452704e+00   3.079573e+00   \n",
       "\n",
       "           fat_100g  saturated-fat_100g  \n",
       "count  1.227700e+04        1.227700e+04  \n",
       "mean   3.935563e-17        1.574225e-16  \n",
       "std    1.000041e+00        1.000041e+00  \n",
       "min   -7.955794e-01       -7.004115e-01  \n",
       "25%   -7.955794e-01       -7.004115e-01  \n",
       "50%   -6.215288e-01       -6.523667e-01  \n",
       "75%    6.977013e-01        3.085299e-01  \n",
       "max    3.497668e+00        3.538838e+00  "
      ]
     },
     "execution_count": 14,
     "metadata": {},
     "output_type": "execute_result"
    }
   ],
   "source": [
    "clust_df.describe()"
   ]
  },
  {
   "cell_type": "markdown",
   "metadata": {},
   "source": [
    "### Kmeans"
   ]
  },
  {
   "cell_type": "code",
   "execution_count": 27,
   "metadata": {},
   "outputs": [],
   "source": [
    "n_clust = 8"
   ]
  },
  {
   "cell_type": "code",
   "execution_count": 28,
   "metadata": {},
   "outputs": [],
   "source": [
    "X = np.array(clust_df.drop([\"ingredients_text\"], axis = 1))\n",
    "kmeans = KMeans(n_clusters = n_clust, random_state = 69).fit(X)"
   ]
  },
  {
   "cell_type": "markdown",
   "metadata": {},
   "source": [
    "### Macro Profile of Clusters"
   ]
  },
  {
   "cell_type": "code",
   "execution_count": 29,
   "metadata": {},
   "outputs": [],
   "source": [
    "clust_df['clust'] = kmeans.labels_"
   ]
  },
  {
   "cell_type": "code",
   "execution_count": 30,
   "metadata": {},
   "outputs": [
    {
     "data": {
      "text/html": [
       "<div>\n",
       "<style scoped>\n",
       "    .dataframe tbody tr th:only-of-type {\n",
       "        vertical-align: middle;\n",
       "    }\n",
       "\n",
       "    .dataframe tbody tr th {\n",
       "        vertical-align: top;\n",
       "    }\n",
       "\n",
       "    .dataframe thead th {\n",
       "        text-align: right;\n",
       "    }\n",
       "</style>\n",
       "<table border=\"1\" class=\"dataframe\">\n",
       "  <thead>\n",
       "    <tr style=\"text-align: right;\">\n",
       "      <th></th>\n",
       "      <th>carbohydrates_100g</th>\n",
       "      <th>fiber_100g</th>\n",
       "      <th>sugars_100g</th>\n",
       "      <th>proteins_100g</th>\n",
       "      <th>fat_100g</th>\n",
       "      <th>saturated-fat_100g</th>\n",
       "    </tr>\n",
       "    <tr>\n",
       "      <th>clust</th>\n",
       "      <th></th>\n",
       "      <th></th>\n",
       "      <th></th>\n",
       "      <th></th>\n",
       "      <th></th>\n",
       "      <th></th>\n",
       "    </tr>\n",
       "  </thead>\n",
       "  <tbody>\n",
       "    <tr>\n",
       "      <th>0</th>\n",
       "      <td>-0.599117</td>\n",
       "      <td>-0.346711</td>\n",
       "      <td>-0.266867</td>\n",
       "      <td>-0.875232</td>\n",
       "      <td>-0.732303</td>\n",
       "      <td>-0.639367</td>\n",
       "    </tr>\n",
       "    <tr>\n",
       "      <th>1</th>\n",
       "      <td>-0.829622</td>\n",
       "      <td>-0.717171</td>\n",
       "      <td>-0.565961</td>\n",
       "      <td>1.285209</td>\n",
       "      <td>0.817975</td>\n",
       "      <td>1.644872</td>\n",
       "    </tr>\n",
       "    <tr>\n",
       "      <th>2</th>\n",
       "      <td>-0.288530</td>\n",
       "      <td>1.927533</td>\n",
       "      <td>-0.368166</td>\n",
       "      <td>1.004154</td>\n",
       "      <td>2.073787</td>\n",
       "      <td>0.142697</td>\n",
       "    </tr>\n",
       "    <tr>\n",
       "      <th>3</th>\n",
       "      <td>0.967731</td>\n",
       "      <td>0.373045</td>\n",
       "      <td>1.977174</td>\n",
       "      <td>-0.408991</td>\n",
       "      <td>0.916395</td>\n",
       "      <td>2.087732</td>\n",
       "    </tr>\n",
       "    <tr>\n",
       "      <th>4</th>\n",
       "      <td>1.504563</td>\n",
       "      <td>0.147824</td>\n",
       "      <td>-0.448531</td>\n",
       "      <td>0.054174</td>\n",
       "      <td>-0.603353</td>\n",
       "      <td>-0.637281</td>\n",
       "    </tr>\n",
       "    <tr>\n",
       "      <th>5</th>\n",
       "      <td>0.886807</td>\n",
       "      <td>0.736614</td>\n",
       "      <td>0.562672</td>\n",
       "      <td>-0.173847</td>\n",
       "      <td>0.229292</td>\n",
       "      <td>-0.050826</td>\n",
       "    </tr>\n",
       "    <tr>\n",
       "      <th>6</th>\n",
       "      <td>1.735259</td>\n",
       "      <td>-0.172824</td>\n",
       "      <td>2.635465</td>\n",
       "      <td>-0.835264</td>\n",
       "      <td>-0.734591</td>\n",
       "      <td>-0.634301</td>\n",
       "    </tr>\n",
       "    <tr>\n",
       "      <th>7</th>\n",
       "      <td>-0.888866</td>\n",
       "      <td>-0.751819</td>\n",
       "      <td>-0.553224</td>\n",
       "      <td>0.984135</td>\n",
       "      <td>-0.417133</td>\n",
       "      <td>-0.328099</td>\n",
       "    </tr>\n",
       "  </tbody>\n",
       "</table>\n",
       "</div>"
      ],
      "text/plain": [
       "       carbohydrates_100g  fiber_100g  sugars_100g  proteins_100g  fat_100g  \\\n",
       "clust                                                                         \n",
       "0               -0.599117   -0.346711    -0.266867      -0.875232 -0.732303   \n",
       "1               -0.829622   -0.717171    -0.565961       1.285209  0.817975   \n",
       "2               -0.288530    1.927533    -0.368166       1.004154  2.073787   \n",
       "3                0.967731    0.373045     1.977174      -0.408991  0.916395   \n",
       "4                1.504563    0.147824    -0.448531       0.054174 -0.603353   \n",
       "5                0.886807    0.736614     0.562672      -0.173847  0.229292   \n",
       "6                1.735259   -0.172824     2.635465      -0.835264 -0.734591   \n",
       "7               -0.888866   -0.751819    -0.553224       0.984135 -0.417133   \n",
       "\n",
       "       saturated-fat_100g  \n",
       "clust                      \n",
       "0               -0.639367  \n",
       "1                1.644872  \n",
       "2                0.142697  \n",
       "3                2.087732  \n",
       "4               -0.637281  \n",
       "5               -0.050826  \n",
       "6               -0.634301  \n",
       "7               -0.328099  "
      ]
     },
     "execution_count": 30,
     "metadata": {},
     "output_type": "execute_result"
    }
   ],
   "source": [
    "clust_df.groupby('clust').mean()"
   ]
  },
  {
   "cell_type": "code",
   "execution_count": 31,
   "metadata": {},
   "outputs": [
    {
     "data": {
      "text/html": [
       "<div>\n",
       "<style scoped>\n",
       "    .dataframe tbody tr th:only-of-type {\n",
       "        vertical-align: middle;\n",
       "    }\n",
       "\n",
       "    .dataframe tbody tr th {\n",
       "        vertical-align: top;\n",
       "    }\n",
       "\n",
       "    .dataframe thead th {\n",
       "        text-align: right;\n",
       "    }\n",
       "</style>\n",
       "<table border=\"1\" class=\"dataframe\">\n",
       "  <thead>\n",
       "    <tr style=\"text-align: right;\">\n",
       "      <th></th>\n",
       "      <th>ingredients_text</th>\n",
       "      <th>carbohydrates_100g</th>\n",
       "      <th>fiber_100g</th>\n",
       "      <th>sugars_100g</th>\n",
       "      <th>proteins_100g</th>\n",
       "      <th>fat_100g</th>\n",
       "      <th>saturated-fat_100g</th>\n",
       "    </tr>\n",
       "    <tr>\n",
       "      <th>clust</th>\n",
       "      <th></th>\n",
       "      <th></th>\n",
       "      <th></th>\n",
       "      <th></th>\n",
       "      <th></th>\n",
       "      <th></th>\n",
       "      <th></th>\n",
       "    </tr>\n",
       "  </thead>\n",
       "  <tbody>\n",
       "    <tr>\n",
       "      <th>0</th>\n",
       "      <td>4158</td>\n",
       "      <td>4158</td>\n",
       "      <td>4158</td>\n",
       "      <td>4158</td>\n",
       "      <td>4158</td>\n",
       "      <td>4158</td>\n",
       "      <td>4158</td>\n",
       "    </tr>\n",
       "    <tr>\n",
       "      <th>1</th>\n",
       "      <td>1988</td>\n",
       "      <td>1988</td>\n",
       "      <td>1988</td>\n",
       "      <td>1988</td>\n",
       "      <td>1988</td>\n",
       "      <td>1988</td>\n",
       "      <td>1988</td>\n",
       "    </tr>\n",
       "    <tr>\n",
       "      <th>2</th>\n",
       "      <td>1256</td>\n",
       "      <td>1256</td>\n",
       "      <td>1256</td>\n",
       "      <td>1256</td>\n",
       "      <td>1256</td>\n",
       "      <td>1256</td>\n",
       "      <td>1256</td>\n",
       "    </tr>\n",
       "    <tr>\n",
       "      <th>3</th>\n",
       "      <td>511</td>\n",
       "      <td>511</td>\n",
       "      <td>511</td>\n",
       "      <td>511</td>\n",
       "      <td>511</td>\n",
       "      <td>511</td>\n",
       "      <td>511</td>\n",
       "    </tr>\n",
       "    <tr>\n",
       "      <th>4</th>\n",
       "      <td>1541</td>\n",
       "      <td>1541</td>\n",
       "      <td>1541</td>\n",
       "      <td>1541</td>\n",
       "      <td>1541</td>\n",
       "      <td>1541</td>\n",
       "      <td>1541</td>\n",
       "    </tr>\n",
       "    <tr>\n",
       "      <th>5</th>\n",
       "      <td>1116</td>\n",
       "      <td>1116</td>\n",
       "      <td>1116</td>\n",
       "      <td>1116</td>\n",
       "      <td>1116</td>\n",
       "      <td>1116</td>\n",
       "      <td>1116</td>\n",
       "    </tr>\n",
       "    <tr>\n",
       "      <th>6</th>\n",
       "      <td>845</td>\n",
       "      <td>845</td>\n",
       "      <td>845</td>\n",
       "      <td>845</td>\n",
       "      <td>845</td>\n",
       "      <td>845</td>\n",
       "      <td>845</td>\n",
       "    </tr>\n",
       "    <tr>\n",
       "      <th>7</th>\n",
       "      <td>862</td>\n",
       "      <td>862</td>\n",
       "      <td>862</td>\n",
       "      <td>862</td>\n",
       "      <td>862</td>\n",
       "      <td>862</td>\n",
       "      <td>862</td>\n",
       "    </tr>\n",
       "  </tbody>\n",
       "</table>\n",
       "</div>"
      ],
      "text/plain": [
       "       ingredients_text  carbohydrates_100g  fiber_100g  sugars_100g  \\\n",
       "clust                                                                  \n",
       "0                  4158                4158        4158         4158   \n",
       "1                  1988                1988        1988         1988   \n",
       "2                  1256                1256        1256         1256   \n",
       "3                   511                 511         511          511   \n",
       "4                  1541                1541        1541         1541   \n",
       "5                  1116                1116        1116         1116   \n",
       "6                   845                 845         845          845   \n",
       "7                   862                 862         862          862   \n",
       "\n",
       "       proteins_100g  fat_100g  saturated-fat_100g  \n",
       "clust                                               \n",
       "0               4158      4158                4158  \n",
       "1               1988      1988                1988  \n",
       "2               1256      1256                1256  \n",
       "3                511       511                 511  \n",
       "4               1541      1541                1541  \n",
       "5               1116      1116                1116  \n",
       "6                845       845                 845  \n",
       "7                862       862                 862  "
      ]
     },
     "execution_count": 31,
     "metadata": {},
     "output_type": "execute_result"
    }
   ],
   "source": [
    "clust_df.groupby('clust').count()"
   ]
  },
  {
   "cell_type": "markdown",
   "metadata": {},
   "source": [
    "### Most Common Ingredients For Each Cluster"
   ]
  },
  {
   "cell_type": "code",
   "execution_count": 32,
   "metadata": {},
   "outputs": [
    {
     "data": {
      "text/plain": [
       "[None, None, None, None, None, None]"
      ]
     },
     "execution_count": 32,
     "metadata": {},
     "output_type": "execute_result"
    }
   ],
   "source": [
    "rm_words = set(stopwords.words('english') + ['de', 'contains', 's', 'et', 'of', 'en', \"fr\",'less', 'p', 'exists', 'following', 'ok'])\n",
    "better_words = rm_words\n",
    "[better_words.add(i) for i in ['water', 'sea-salt', 'sugar', 'salt', 'sel', 'eau']]"
   ]
  },
  {
   "cell_type": "code",
   "execution_count": 33,
   "metadata": {},
   "outputs": [],
   "source": [
    "all_words = [i for ing in clust_df['ingredients_text'] for i in ing.split()]"
   ]
  },
  {
   "cell_type": "code",
   "execution_count": 34,
   "metadata": {},
   "outputs": [],
   "source": [
    "tot_word_counts = dict(Counter(all_words))"
   ]
  },
  {
   "cell_type": "code",
   "execution_count": 35,
   "metadata": {},
   "outputs": [],
   "source": [
    "### TD IDF\n",
    "N = clust_df.shape[0]"
   ]
  },
  {
   "cell_type": "markdown",
   "metadata": {},
   "source": [
    "### WE USE TF-IDF TO DEFINE WORD PREVELANCE BY CLUSTER "
   ]
  },
  {
   "cell_type": "code",
   "execution_count": 36,
   "metadata": {},
   "outputs": [],
   "source": [
    "def clust_word_prevelance(col):\n",
    "    \n",
    "    ### All Words For Cluster\n",
    "    all_words = [i for ing in col for i in ing.split()]\n",
    "    \n",
    "    ### Stop Words\n",
    "    reduced_words = [w for w in all_words if w not in better_words]\n",
    "    \n",
    "    ### Count Words\n",
    "    clust_word_counts = dict(Counter(reduced_words).most_common())\n",
    "    \n",
    "    ### TF IDF To Obtain True Cluster Prevelance \n",
    "    for key in clust_word_counts.keys():\n",
    "        clust_word_counts[key] = clust_word_counts[key] * np.log(N / tot_word_counts[key])\n",
    "    \n",
    "    return clust_word_counts"
   ]
  },
  {
   "cell_type": "code",
   "execution_count": 37,
   "metadata": {},
   "outputs": [],
   "source": [
    "clust_words = clust_df.groupby('clust')['ingredients_text'].apply(clust_word_prevelance)"
   ]
  },
  {
   "cell_type": "markdown",
   "metadata": {},
   "source": [
    "## Let's Plot It Shall We"
   ]
  },
  {
   "cell_type": "code",
   "execution_count": 38,
   "metadata": {},
   "outputs": [
    {
     "name": "stdout",
     "output_type": "stream",
     "text": [
      "               ingredients_text\n",
      "citric-acid         1656.967940\n",
      "green-beans         1191.414808\n",
      "ascorbic-acid       1149.537083\n",
      "tomatoes            1109.536551\n",
      "vitamin-d3          1089.547548\n"
     ]
    },
    {
     "data": {
      "image/png": "[encoded data removed]",
      "text/plain": [
       "<Figure size 432x288 with 1 Axes>"
      ]
     },
     "metadata": {
      "needs_background": "light"
     },
     "output_type": "display_data"
    },
    {
     "name": "stdout",
     "output_type": "stream",
     "text": [
      "                  ingredients_text\n",
      "enzymes                2726.522938\n",
      "pasteurized-milk       2089.341084\n",
      "cheese-culture         1973.114246\n",
      "cheese-cultures        1109.098392\n",
      "annatto                1046.411315\n"
     ]
    },
    {
     "data": {
      "image/png": "[encoded data removed]",
      "text/plain": [
       "<Figure size 432x288 with 1 Axes>"
      ]
     },
     "metadata": {
      "needs_background": "light"
     },
     "output_type": "display_data"
    },
    {
     "name": "stdout",
     "output_type": "stream",
     "text": [
      "            ingredients_text\n",
      "almonds          1305.867186\n",
      "peanuts           988.065561\n",
      "pecans            841.733001\n",
      "walnuts           737.525318\n",
      "peanut-oil        653.877207\n"
     ]
    },
    {
     "data": {
      "image/png": "[encoded data removed]",
      "text/plain": [
       "<Figure size 432x288 with 1 Axes>"
      ]
     },
     "metadata": {
      "needs_background": "light"
     },
     "output_type": "display_data"
    },
    {
     "name": "stdout",
     "output_type": "stream",
     "text": [
      "                  ingredients_text\n",
      "cocoa-butter           1283.022964\n",
      "chocolate-liquor        920.941356\n",
      "soy-lecithin            895.471693\n",
      "vanilla                 699.265337\n",
      "milk-chocolate          520.172732\n"
     ]
    },
    {
     "data": {
      "image/png": "[encoded data removed]",
      "text/plain": [
       "<Figure size 432x288 with 1 Axes>"
      ]
     },
     "metadata": {
      "needs_background": "light"
     },
     "output_type": "display_data"
    },
    {
     "name": "stdout",
     "output_type": "stream",
     "text": [
      "                 ingredients_text\n",
      "niacin                1843.054209\n",
      "riboflavin            1811.198810\n",
      "folic-acid            1783.986384\n",
      "iron                  1637.845599\n",
      "ferrous-sulfate       1587.111991\n"
     ]
    },
    {
     "data": {
      "image/png": "[encoded data removed]",
      "text/plain": [
       "<Figure size 432x288 with 1 Axes>"
      ]
     },
     "metadata": {
      "needs_background": "light"
     },
     "output_type": "display_data"
    },
    {
     "name": "stdout",
     "output_type": "stream",
     "text": [
      "               ingredients_text\n",
      "vegetable-oil        615.255469\n",
      "wheat-flour          584.672551\n",
      "palm-oil             583.415469\n",
      "reduced-iron         583.195393\n",
      "butter               551.981217\n"
     ]
    },
    {
     "data": {
      "image/png": "[encoded data removed]",
      "text/plain": [
       "<Figure size 432x288 with 1 Axes>"
      ]
     },
     "metadata": {
      "needs_background": "light"
     },
     "output_type": "display_data"
    },
    {
     "name": "stdout",
     "output_type": "stream",
     "text": [
      "                                ingredients_text\n",
      "corn-syrup                            971.265354\n",
      "red-40                                829.846724\n",
      "yellow-5                              784.699900\n",
      "natural-and-artificial-flavors        731.325627\n",
      "gelatin                               704.236635\n"
     ]
    },
    {
     "data": {
      "image/png": "[encoded data removed]",
      "text/plain": [
       "<Figure size 432x288 with 1 Axes>"
      ]
     },
     "metadata": {
      "needs_background": "light"
     },
     "output_type": "display_data"
    },
    {
     "name": "stdout",
     "output_type": "stream",
     "text": [
      "                         ingredients_text\n",
      "shrimp                        1085.769701\n",
      "sodium-tripolyphosphate        772.736200\n",
      "to-retain-moisture             686.759430\n",
      "sodium-nitrite                 570.816543\n",
      "sodium-erythorbate             530.222023\n"
     ]
    },
    {
     "data": {
      "image/png": "[encoded data removed]",
      "text/plain": [
       "<Figure size 432x288 with 1 Axes>"
      ]
     },
     "metadata": {
      "needs_background": "light"
     },
     "output_type": "display_data"
    }
   ],
   "source": [
    "for c in range(n_clust):\n",
    "    print(pd.DataFrame(clust_words[c]).dropna().sort_values('ingredients_text', ascending = False).iloc[:5, ])\n",
    "    \n",
    "    temp_df = clust_df[clust_df.clust == c]\n",
    "    plot_df = pd.DataFrame(temp_df.drop(['clust', 'ingredients_text'], axis = 1).stack()).reset_index()\n",
    "    plot_df.columns = ['fuck this column', 'nutrient', 'val']\n",
    "    sns.boxplot(x = 'nutrient', y = 'val', data = plot_df)\n",
    "    plt.title(\"Cluster: \" + str(c + 1))\n",
    "    plt.ylabel(\"Z\")\n",
    "    plt.xticks(rotation = 45)\n",
    "    plt.show()"
   ]
  },
  {
   "cell_type": "code",
   "execution_count": null,
   "metadata": {},
   "outputs": [],
   "source": []
  },
  {
   "cell_type": "code",
   "execution_count": null,
   "metadata": {},
   "outputs": [],
   "source": []
  },
  {
   "cell_type": "markdown",
   "metadata": {},
   "source": [
    "# Supervised Task"
   ]
  },
  {
   "cell_type": "code",
   "execution_count": 39,
   "metadata": {},
   "outputs": [],
   "source": [
    "sup_df = clust_df.join(df['nutrition-score-fr_100g']).dropna()"
   ]
  },
  {
   "cell_type": "code",
   "execution_count": 397,
   "metadata": {},
   "outputs": [
    {
     "data": {
      "text/html": [
       "<div>\n",
       "<style scoped>\n",
       "    .dataframe tbody tr th:only-of-type {\n",
       "        vertical-align: middle;\n",
       "    }\n",
       "\n",
       "    .dataframe tbody tr th {\n",
       "        vertical-align: top;\n",
       "    }\n",
       "\n",
       "    .dataframe thead th {\n",
       "        text-align: right;\n",
       "    }\n",
       "</style>\n",
       "<table border=\"1\" class=\"dataframe\">\n",
       "  <thead>\n",
       "    <tr style=\"text-align: right;\">\n",
       "      <th></th>\n",
       "      <th>ingredients_text</th>\n",
       "      <th>carbohydrates_100g</th>\n",
       "      <th>fiber_100g</th>\n",
       "      <th>sugars_100g</th>\n",
       "      <th>proteins_100g</th>\n",
       "      <th>fat_100g</th>\n",
       "      <th>saturated-fat_100g</th>\n",
       "      <th>clust</th>\n",
       "      <th>nutrition-score-fr_100g</th>\n",
       "    </tr>\n",
       "  </thead>\n",
       "  <tbody>\n",
       "    <tr>\n",
       "      <th>2</th>\n",
       "      <td>peanuts wheat-flour sugar rice-flour tapioca-s...</td>\n",
       "      <td>1.119606</td>\n",
       "      <td>1.255472</td>\n",
       "      <td>0.371259</td>\n",
       "      <td>0.859435</td>\n",
       "      <td>0.137917</td>\n",
       "      <td>-0.700412</td>\n",
       "      <td>2</td>\n",
       "      <td>0.0</td>\n",
       "    </tr>\n",
       "    <tr>\n",
       "      <th>148</th>\n",
       "      <td>cranberries sugar sunflower-oil</td>\n",
       "      <td>1.896869</td>\n",
       "      <td>2.083100</td>\n",
       "      <td>3.082730</td>\n",
       "      <td>-1.065403</td>\n",
       "      <td>-0.795579</td>\n",
       "      <td>-0.700412</td>\n",
       "      <td>1</td>\n",
       "      <td>8.0</td>\n",
       "    </tr>\n",
       "    <tr>\n",
       "      <th>149</th>\n",
       "      <td>apricots sulfur-dioxide</td>\n",
       "      <td>1.181114</td>\n",
       "      <td>1.369627</td>\n",
       "      <td>2.295565</td>\n",
       "      <td>-0.795968</td>\n",
       "      <td>-0.795579</td>\n",
       "      <td>-0.700412</td>\n",
       "      <td>1</td>\n",
       "      <td>8.0</td>\n",
       "    </tr>\n",
       "    <tr>\n",
       "      <th>200</th>\n",
       "      <td>wheat-flour butter cream  water yeast sugar sa...</td>\n",
       "      <td>0.550919</td>\n",
       "      <td>-0.399784</td>\n",
       "      <td>-0.332580</td>\n",
       "      <td>-0.225846</td>\n",
       "      <td>0.086695</td>\n",
       "      <td>0.767782</td>\n",
       "      <td>2</td>\n",
       "      <td>18.0</td>\n",
       "    </tr>\n",
       "    <tr>\n",
       "      <th>201</th>\n",
       "      <td>enriched-wheat-flour wheat-flour malted-barley...</td>\n",
       "      <td>0.656066</td>\n",
       "      <td>-0.513939</td>\n",
       "      <td>0.819560</td>\n",
       "      <td>-0.367029</td>\n",
       "      <td>0.027110</td>\n",
       "      <td>-0.177571</td>\n",
       "      <td>2</td>\n",
       "      <td>14.0</td>\n",
       "    </tr>\n",
       "    <tr>\n",
       "      <th>...</th>\n",
       "      <td>...</td>\n",
       "      <td>...</td>\n",
       "      <td>...</td>\n",
       "      <td>...</td>\n",
       "      <td>...</td>\n",
       "      <td>...</td>\n",
       "      <td>...</td>\n",
       "      <td>...</td>\n",
       "      <td>...</td>\n",
       "    </tr>\n",
       "    <tr>\n",
       "      <th>355083</th>\n",
       "      <td>almonds</td>\n",
       "      <td>-0.815304</td>\n",
       "      <td>1.740633</td>\n",
       "      <td>-0.376465</td>\n",
       "      <td>1.090071</td>\n",
       "      <td>0.249769</td>\n",
       "      <td>-0.191702</td>\n",
       "      <td>3</td>\n",
       "      <td>0.0</td>\n",
       "    </tr>\n",
       "    <tr>\n",
       "      <th>355269</th>\n",
       "      <td>shrimp salt</td>\n",
       "      <td>-0.966496</td>\n",
       "      <td>-0.770789</td>\n",
       "      <td>-0.620892</td>\n",
       "      <td>0.202016</td>\n",
       "      <td>-0.795579</td>\n",
       "      <td>-0.700412</td>\n",
       "      <td>6</td>\n",
       "      <td>0.0</td>\n",
       "    </tr>\n",
       "    <tr>\n",
       "      <th>355474</th>\n",
       "      <td>beef sugar salt tomato-paste garlic spices mon...</td>\n",
       "      <td>-0.843825</td>\n",
       "      <td>-0.770789</td>\n",
       "      <td>-0.422573</td>\n",
       "      <td>1.244187</td>\n",
       "      <td>0.230953</td>\n",
       "      <td>0.561472</td>\n",
       "      <td>6</td>\n",
       "      <td>19.0</td>\n",
       "    </tr>\n",
       "    <tr>\n",
       "      <th>355525</th>\n",
       "      <td>eggs</td>\n",
       "      <td>-0.956188</td>\n",
       "      <td>-0.770789</td>\n",
       "      <td>-0.604227</td>\n",
       "      <td>0.314100</td>\n",
       "      <td>-0.267678</td>\n",
       "      <td>-0.262356</td>\n",
       "      <td>6</td>\n",
       "      <td>0.0</td>\n",
       "    </tr>\n",
       "    <tr>\n",
       "      <th>355586</th>\n",
       "      <td>peanuts</td>\n",
       "      <td>-0.622879</td>\n",
       "      <td>1.141316</td>\n",
       "      <td>-0.435906</td>\n",
       "      <td>1.448957</td>\n",
       "      <td>1.643742</td>\n",
       "      <td>-0.229855</td>\n",
       "      <td>3</td>\n",
       "      <td>0.0</td>\n",
       "    </tr>\n",
       "  </tbody>\n",
       "</table>\n",
       "<p>12243 rows × 9 columns</p>\n",
       "</div>"
      ],
      "text/plain": [
       "                                         ingredients_text  carbohydrates_100g  \\\n",
       "2       peanuts wheat-flour sugar rice-flour tapioca-s...            1.119606   \n",
       "148                       cranberries sugar sunflower-oil            1.896869   \n",
       "149                               apricots sulfur-dioxide            1.181114   \n",
       "200     wheat-flour butter cream  water yeast sugar sa...            0.550919   \n",
       "201     enriched-wheat-flour wheat-flour malted-barley...            0.656066   \n",
       "...                                                   ...                 ...   \n",
       "355083                                            almonds           -0.815304   \n",
       "355269                                        shrimp salt           -0.966496   \n",
       "355474  beef sugar salt tomato-paste garlic spices mon...           -0.843825   \n",
       "355525                                               eggs           -0.956188   \n",
       "355586                                            peanuts           -0.622879   \n",
       "\n",
       "        fiber_100g  sugars_100g  proteins_100g  fat_100g  saturated-fat_100g  \\\n",
       "2         1.255472     0.371259       0.859435  0.137917           -0.700412   \n",
       "148       2.083100     3.082730      -1.065403 -0.795579           -0.700412   \n",
       "149       1.369627     2.295565      -0.795968 -0.795579           -0.700412   \n",
       "200      -0.399784    -0.332580      -0.225846  0.086695            0.767782   \n",
       "201      -0.513939     0.819560      -0.367029  0.027110           -0.177571   \n",
       "...            ...          ...            ...       ...                 ...   \n",
       "355083    1.740633    -0.376465       1.090071  0.249769           -0.191702   \n",
       "355269   -0.770789    -0.620892       0.202016 -0.795579           -0.700412   \n",
       "355474   -0.770789    -0.422573       1.244187  0.230953            0.561472   \n",
       "355525   -0.770789    -0.604227       0.314100 -0.267678           -0.262356   \n",
       "355586    1.141316    -0.435906       1.448957  1.643742           -0.229855   \n",
       "\n",
       "        clust  nutrition-score-fr_100g  \n",
       "2           2                      0.0  \n",
       "148         1                      8.0  \n",
       "149         1                      8.0  \n",
       "200         2                     18.0  \n",
       "201         2                     14.0  \n",
       "...       ...                      ...  \n",
       "355083      3                      0.0  \n",
       "355269      6                      0.0  \n",
       "355474      6                     19.0  \n",
       "355525      6                      0.0  \n",
       "355586      3                      0.0  \n",
       "\n",
       "[12243 rows x 9 columns]"
      ]
     },
     "execution_count": 397,
     "metadata": {},
     "output_type": "execute_result"
    }
   ],
   "source": [
    "sup_df"
   ]
  },
  {
   "cell_type": "markdown",
   "metadata": {},
   "source": [
    "## Is there a clear ranking of nutrition scores by cluster?"
   ]
  },
  {
   "cell_type": "code",
   "execution_count": 47,
   "metadata": {},
   "outputs": [
    {
     "data": {
      "text/html": [
       "<div>\n",
       "<style scoped>\n",
       "    .dataframe tbody tr th:only-of-type {\n",
       "        vertical-align: middle;\n",
       "    }\n",
       "\n",
       "    .dataframe tbody tr th {\n",
       "        vertical-align: top;\n",
       "    }\n",
       "\n",
       "    .dataframe thead th {\n",
       "        text-align: right;\n",
       "    }\n",
       "</style>\n",
       "<table border=\"1\" class=\"dataframe\">\n",
       "  <thead>\n",
       "    <tr style=\"text-align: right;\">\n",
       "      <th></th>\n",
       "      <th>nutrition-score-fr_100g</th>\n",
       "    </tr>\n",
       "    <tr>\n",
       "      <th>clust</th>\n",
       "      <th></th>\n",
       "    </tr>\n",
       "  </thead>\n",
       "  <tbody>\n",
       "    <tr>\n",
       "      <th>4</th>\n",
       "      <td>-1.172436</td>\n",
       "    </tr>\n",
       "    <tr>\n",
       "      <th>0</th>\n",
       "      <td>0.649735</td>\n",
       "    </tr>\n",
       "    <tr>\n",
       "      <th>7</th>\n",
       "      <td>5.508121</td>\n",
       "    </tr>\n",
       "    <tr>\n",
       "      <th>2</th>\n",
       "      <td>8.516800</td>\n",
       "    </tr>\n",
       "    <tr>\n",
       "      <th>5</th>\n",
       "      <td>11.623762</td>\n",
       "    </tr>\n",
       "    <tr>\n",
       "      <th>6</th>\n",
       "      <td>12.686833</td>\n",
       "    </tr>\n",
       "    <tr>\n",
       "      <th>1</th>\n",
       "      <td>20.119899</td>\n",
       "    </tr>\n",
       "    <tr>\n",
       "      <th>3</th>\n",
       "      <td>22.402367</td>\n",
       "    </tr>\n",
       "  </tbody>\n",
       "</table>\n",
       "</div>"
      ],
      "text/plain": [
       "       nutrition-score-fr_100g\n",
       "clust                         \n",
       "4                    -1.172436\n",
       "0                     0.649735\n",
       "7                     5.508121\n",
       "2                     8.516800\n",
       "5                    11.623762\n",
       "6                    12.686833\n",
       "1                    20.119899\n",
       "3                    22.402367"
      ]
     },
     "execution_count": 47,
     "metadata": {},
     "output_type": "execute_result"
    }
   ],
   "source": [
    "ranks = pd.DataFrame(sup_df.groupby('clust').mean()['nutrition-score-fr_100g']).sort_values('nutrition-score-fr_100g')\n",
    "ranks.sort_values(\"nutrition-score-fr_100g\")"
   ]
  },
  {
   "cell_type": "code",
   "execution_count": 48,
   "metadata": {},
   "outputs": [
    {
     "data": {
      "image/png": "[encoded data removed]",
      "text/plain": [
       "<Figure size 720x720 with 1 Axes>"
      ]
     },
     "metadata": {
      "needs_background": "light"
     },
     "output_type": "display_data"
    }
   ],
   "source": [
    "plt.figure(figsize = (10, 10))\n",
    "sns.violinplot(data=sup_df, x = 'nutrition-score-fr_100g', y=\"clust\", orient=\"h\", order = [4, 0, 7, 2, 5, 6, 1, 3])\n",
    "plt.show()"
   ]
  },
  {
   "cell_type": "markdown",
   "metadata": {},
   "source": [
    "Yes, there is clearly a ranking of nutrition scores by cluster."
   ]
  },
  {
   "cell_type": "markdown",
   "metadata": {},
   "source": [
    "## How well can clusters alone predict nutrition score?"
   ]
  },
  {
   "cell_type": "markdown",
   "metadata": {},
   "source": [
    "First, we will make this a supremely easy task by splitting the nutrition score into binary categories. "
   ]
  },
  {
   "cell_type": "code",
   "execution_count": 44,
   "metadata": {},
   "outputs": [
    {
     "data": {
      "text/plain": [
       "count    12243.000000\n",
       "mean         7.449400\n",
       "std          9.621761\n",
       "min        -12.000000\n",
       "25%         -1.000000\n",
       "50%          6.000000\n",
       "75%         16.000000\n",
       "max         34.000000\n",
       "Name: nutrition-score-fr_100g, dtype: float64"
      ]
     },
     "execution_count": 44,
     "metadata": {},
     "output_type": "execute_result"
    }
   ],
   "source": [
    "sup_df['nutrition-score-fr_100g'].describe()"
   ]
  },
  {
   "cell_type": "code",
   "execution_count": 54,
   "metadata": {},
   "outputs": [
    {
     "data": {
      "text/html": [
       "<div>\n",
       "<style scoped>\n",
       "    .dataframe tbody tr th:only-of-type {\n",
       "        vertical-align: middle;\n",
       "    }\n",
       "\n",
       "    .dataframe tbody tr th {\n",
       "        vertical-align: top;\n",
       "    }\n",
       "\n",
       "    .dataframe thead th {\n",
       "        text-align: right;\n",
       "    }\n",
       "</style>\n",
       "<table border=\"1\" class=\"dataframe\">\n",
       "  <thead>\n",
       "    <tr style=\"text-align: right;\">\n",
       "      <th></th>\n",
       "      <th>ingredients_text</th>\n",
       "      <th>carbohydrates_100g</th>\n",
       "      <th>fiber_100g</th>\n",
       "      <th>sugars_100g</th>\n",
       "      <th>proteins_100g</th>\n",
       "      <th>fat_100g</th>\n",
       "      <th>saturated-fat_100g</th>\n",
       "      <th>clust</th>\n",
       "      <th>nutrition-score-fr_100g</th>\n",
       "      <th>new_score</th>\n",
       "    </tr>\n",
       "  </thead>\n",
       "  <tbody>\n",
       "    <tr>\n",
       "      <th>2</th>\n",
       "      <td>peanuts wheat-flour sugar rice-flour tapioca-s...</td>\n",
       "      <td>1.119606</td>\n",
       "      <td>1.255472</td>\n",
       "      <td>0.371259</td>\n",
       "      <td>0.859435</td>\n",
       "      <td>0.137917</td>\n",
       "      <td>-0.700412</td>\n",
       "      <td>4</td>\n",
       "      <td>0.0</td>\n",
       "      <td>0</td>\n",
       "    </tr>\n",
       "    <tr>\n",
       "      <th>148</th>\n",
       "      <td>cranberries sugar sunflower-oil</td>\n",
       "      <td>1.896869</td>\n",
       "      <td>2.083100</td>\n",
       "      <td>3.082730</td>\n",
       "      <td>-1.065403</td>\n",
       "      <td>-0.795579</td>\n",
       "      <td>-0.700412</td>\n",
       "      <td>6</td>\n",
       "      <td>8.0</td>\n",
       "      <td>1</td>\n",
       "    </tr>\n",
       "    <tr>\n",
       "      <th>149</th>\n",
       "      <td>apricots sulfur-dioxide</td>\n",
       "      <td>1.181114</td>\n",
       "      <td>1.369627</td>\n",
       "      <td>2.295565</td>\n",
       "      <td>-0.795968</td>\n",
       "      <td>-0.795579</td>\n",
       "      <td>-0.700412</td>\n",
       "      <td>6</td>\n",
       "      <td>8.0</td>\n",
       "      <td>1</td>\n",
       "    </tr>\n",
       "    <tr>\n",
       "      <th>200</th>\n",
       "      <td>wheat-flour butter cream  water yeast sugar sa...</td>\n",
       "      <td>0.550919</td>\n",
       "      <td>-0.399784</td>\n",
       "      <td>-0.332580</td>\n",
       "      <td>-0.225846</td>\n",
       "      <td>0.086695</td>\n",
       "      <td>0.767782</td>\n",
       "      <td>5</td>\n",
       "      <td>18.0</td>\n",
       "      <td>1</td>\n",
       "    </tr>\n",
       "    <tr>\n",
       "      <th>201</th>\n",
       "      <td>enriched-wheat-flour wheat-flour malted-barley...</td>\n",
       "      <td>0.656066</td>\n",
       "      <td>-0.513939</td>\n",
       "      <td>0.819560</td>\n",
       "      <td>-0.367029</td>\n",
       "      <td>0.027110</td>\n",
       "      <td>-0.177571</td>\n",
       "      <td>5</td>\n",
       "      <td>14.0</td>\n",
       "      <td>1</td>\n",
       "    </tr>\n",
       "  </tbody>\n",
       "</table>\n",
       "</div>"
      ],
      "text/plain": [
       "                                      ingredients_text  carbohydrates_100g  \\\n",
       "2    peanuts wheat-flour sugar rice-flour tapioca-s...            1.119606   \n",
       "148                    cranberries sugar sunflower-oil            1.896869   \n",
       "149                            apricots sulfur-dioxide            1.181114   \n",
       "200  wheat-flour butter cream  water yeast sugar sa...            0.550919   \n",
       "201  enriched-wheat-flour wheat-flour malted-barley...            0.656066   \n",
       "\n",
       "     fiber_100g  sugars_100g  proteins_100g  fat_100g  saturated-fat_100g  \\\n",
       "2      1.255472     0.371259       0.859435  0.137917           -0.700412   \n",
       "148    2.083100     3.082730      -1.065403 -0.795579           -0.700412   \n",
       "149    1.369627     2.295565      -0.795968 -0.795579           -0.700412   \n",
       "200   -0.399784    -0.332580      -0.225846  0.086695            0.767782   \n",
       "201   -0.513939     0.819560      -0.367029  0.027110           -0.177571   \n",
       "\n",
       "     clust  nutrition-score-fr_100g  new_score  \n",
       "2        4                      0.0          0  \n",
       "148      6                      8.0          1  \n",
       "149      6                      8.0          1  \n",
       "200      5                     18.0          1  \n",
       "201      5                     14.0          1  "
      ]
     },
     "execution_count": 54,
     "metadata": {},
     "output_type": "execute_result"
    }
   ],
   "source": [
    "sup_df['new_score'] = list(map(lambda x : 1 if x > 6 else 0, sup_df['nutrition-score-fr_100g']))\n",
    "sup_df.head()"
   ]
  },
  {
   "cell_type": "code",
   "execution_count": 57,
   "metadata": {},
   "outputs": [],
   "source": [
    "from xgboost import XGBClassifier\n",
    "from sklearn.model_selection import train_test_split\n",
    "from sklearn.metrics import accuracy_score"
   ]
  },
  {
   "cell_type": "code",
   "execution_count": 48,
   "metadata": {},
   "outputs": [],
   "source": [
    "X = sup_df['clust']\n",
    "y = sup_df['new_score']\n",
    "X_train, X_test, y_train, y_test = train_test_split(X, y, test_size=0.2, random_state=69)"
   ]
  },
  {
   "cell_type": "code",
   "execution_count": 51,
   "metadata": {},
   "outputs": [
    {
     "data": {
      "text/plain": [
       "XGBClassifier(base_score=0.5, booster='gbtree', colsample_bylevel=1,\n",
       "              colsample_bynode=1, colsample_bytree=1, gamma=0, gpu_id=-1,\n",
       "              importance_type='gain', interaction_constraints='',\n",
       "              learning_rate=0.300000012, max_delta_step=0, max_depth=6,\n",
       "              min_child_weight=1, missing=nan, monotone_constraints='()',\n",
       "              n_estimators=100, n_jobs=0, num_parallel_tree=1, random_state=0,\n",
       "              reg_alpha=0, reg_lambda=1, scale_pos_weight=1, subsample=1,\n",
       "              tree_method='exact', validate_parameters=1, verbosity=None)"
      ]
     },
     "execution_count": 51,
     "metadata": {},
     "output_type": "execute_result"
    }
   ],
   "source": [
    "model = XGBClassifier()\n",
    "model.fit(X_train.values.reshape(-1, 1), y_train)"
   ]
  },
  {
   "cell_type": "code",
   "execution_count": 57,
   "metadata": {},
   "outputs": [
    {
     "data": {
      "text/plain": [
       "0.8542262147815435"
      ]
     },
     "execution_count": 57,
     "metadata": {},
     "output_type": "execute_result"
    }
   ],
   "source": [
    "y_pred = model.predict(X_test.values.reshape(-1, 1))\n",
    "accuracy_score(y_test, y_pred)"
   ]
  },
  {
   "cell_type": "markdown",
   "metadata": {},
   "source": [
    "85% accuracy is not bad. Now, how can we use the clusters and text information to predict nutrition score?"
   ]
  },
  {
   "cell_type": "markdown",
   "metadata": {},
   "source": [
    "## Let's take the top 100 most common ingredients as our predictors, but input the TD-IDF scores from the cluster corresponding to that row"
   ]
  },
  {
   "cell_type": "markdown",
   "metadata": {},
   "source": [
    "First, lets get the 100 most common ingredients"
   ]
  },
  {
   "cell_type": "code",
   "execution_count": 49,
   "metadata": {},
   "outputs": [],
   "source": [
    "all_common = list(most_common_words.keys())\n",
    "reduced_words = [w for w in all_common if w not in better_words]\n",
    "top_100 = reduced_words[:100]"
   ]
  },
  {
   "cell_type": "code",
   "execution_count": 50,
   "metadata": {},
   "outputs": [],
   "source": [
    "TD_IDF_key = pd.DataFrame(clust_words).reset_index()\n",
    "TD_IDF_key.columns = ['cluster', 'ingredient', 'td-idf']"
   ]
  },
  {
   "cell_type": "code",
   "execution_count": 51,
   "metadata": {},
   "outputs": [
    {
     "data": {
      "text/html": [
       "<div>\n",
       "<style scoped>\n",
       "    .dataframe tbody tr th:only-of-type {\n",
       "        vertical-align: middle;\n",
       "    }\n",
       "\n",
       "    .dataframe tbody tr th {\n",
       "        vertical-align: top;\n",
       "    }\n",
       "\n",
       "    .dataframe thead th {\n",
       "        text-align: right;\n",
       "    }\n",
       "</style>\n",
       "<table border=\"1\" class=\"dataframe\">\n",
       "  <thead>\n",
       "    <tr style=\"text-align: right;\">\n",
       "      <th></th>\n",
       "      <th>cluster</th>\n",
       "      <th>ingredient</th>\n",
       "      <th>td-idf</th>\n",
       "    </tr>\n",
       "  </thead>\n",
       "  <tbody>\n",
       "    <tr>\n",
       "      <th>0</th>\n",
       "      <td>0</td>\n",
       "      <td>citric-acid</td>\n",
       "      <td>1656.967940</td>\n",
       "    </tr>\n",
       "    <tr>\n",
       "      <th>1</th>\n",
       "      <td>0</td>\n",
       "      <td>green-beans</td>\n",
       "      <td>1191.414808</td>\n",
       "    </tr>\n",
       "    <tr>\n",
       "      <th>2</th>\n",
       "      <td>0</td>\n",
       "      <td>ascorbic-acid</td>\n",
       "      <td>1149.537083</td>\n",
       "    </tr>\n",
       "    <tr>\n",
       "      <th>3</th>\n",
       "      <td>0</td>\n",
       "      <td>corn-syrup</td>\n",
       "      <td>815.662119</td>\n",
       "    </tr>\n",
       "    <tr>\n",
       "      <th>4</th>\n",
       "      <td>0</td>\n",
       "      <td>corn</td>\n",
       "      <td>1074.186925</td>\n",
       "    </tr>\n",
       "    <tr>\n",
       "      <th>...</th>\n",
       "      <td>...</td>\n",
       "      <td>...</td>\n",
       "      <td>...</td>\n",
       "    </tr>\n",
       "    <tr>\n",
       "      <th>832</th>\n",
       "      <td>0</td>\n",
       "      <td>viande-de-porc</td>\n",
       "      <td>NaN</td>\n",
       "    </tr>\n",
       "    <tr>\n",
       "      <th>833</th>\n",
       "      <td>0</td>\n",
       "      <td>antioxydant-:-ascorbate-de-sodium</td>\n",
       "      <td>NaN</td>\n",
       "    </tr>\n",
       "    <tr>\n",
       "      <th>834</th>\n",
       "      <td>0</td>\n",
       "      <td>conservateur-:-nitrite-de-sodium</td>\n",
       "      <td>NaN</td>\n",
       "    </tr>\n",
       "    <tr>\n",
       "      <th>835</th>\n",
       "      <td>0</td>\n",
       "      <td>extrait-de-levure</td>\n",
       "      <td>NaN</td>\n",
       "    </tr>\n",
       "    <tr>\n",
       "      <th>836</th>\n",
       "      <td>0</td>\n",
       "      <td>plantes-aromatiques</td>\n",
       "      <td>NaN</td>\n",
       "    </tr>\n",
       "  </tbody>\n",
       "</table>\n",
       "<p>837 rows × 3 columns</p>\n",
       "</div>"
      ],
      "text/plain": [
       "     cluster                         ingredient       td-idf\n",
       "0          0                        citric-acid  1656.967940\n",
       "1          0                        green-beans  1191.414808\n",
       "2          0                      ascorbic-acid  1149.537083\n",
       "3          0                         corn-syrup   815.662119\n",
       "4          0                               corn  1074.186925\n",
       "..       ...                                ...          ...\n",
       "832        0                     viande-de-porc          NaN\n",
       "833        0  antioxydant-:-ascorbate-de-sodium          NaN\n",
       "834        0   conservateur-:-nitrite-de-sodium          NaN\n",
       "835        0                  extrait-de-levure          NaN\n",
       "836        0                plantes-aromatiques          NaN\n",
       "\n",
       "[837 rows x 3 columns]"
      ]
     },
     "execution_count": 51,
     "metadata": {},
     "output_type": "execute_result"
    }
   ],
   "source": [
    "TD_IDF_key[TD_IDF_key.cluster == 0]"
   ]
  },
  {
   "cell_type": "markdown",
   "metadata": {},
   "source": [
    "Iterate through sup_df, and grab the TD-IDF corresponding to each ingredient in the assigned cluster. If an ingredient is not in the top 100 words, then we skip it."
   ]
  },
  {
   "cell_type": "code",
   "execution_count": 52,
   "metadata": {},
   "outputs": [],
   "source": [
    "#zero_mat = np.zeros((sup_df.shape[0], 100))\n",
    "our_dtm = pd.DataFrame(columns = top_100)"
   ]
  },
  {
   "cell_type": "code",
   "execution_count": 139,
   "metadata": {},
   "outputs": [
    {
     "data": {
      "text/html": [
       "<div>\n",
       "<style scoped>\n",
       "    .dataframe tbody tr th:only-of-type {\n",
       "        vertical-align: middle;\n",
       "    }\n",
       "\n",
       "    .dataframe tbody tr th {\n",
       "        vertical-align: top;\n",
       "    }\n",
       "\n",
       "    .dataframe thead th {\n",
       "        text-align: right;\n",
       "    }\n",
       "</style>\n",
       "<table border=\"1\" class=\"dataframe\">\n",
       "  <thead>\n",
       "    <tr style=\"text-align: right;\">\n",
       "      <th></th>\n",
       "      <th>sucre</th>\n",
       "      <th>citric-acid</th>\n",
       "      <th>niacin</th>\n",
       "      <th>riboflavin</th>\n",
       "      <th>folic-acid</th>\n",
       "      <th>wheat-flour</th>\n",
       "      <th>corn-syrup</th>\n",
       "      <th>dextrose</th>\n",
       "      <th>soy-lecithin</th>\n",
       "      <th>reduced-iron</th>\n",
       "      <th>...</th>\n",
       "      <th>pectin</th>\n",
       "      <th>ail</th>\n",
       "      <th>filtered-water</th>\n",
       "      <th>vanilla</th>\n",
       "      <th>nonfat-milk</th>\n",
       "      <th>monosodium-glutamate</th>\n",
       "      <th>tomatoes</th>\n",
       "      <th>ferrous-sulfate</th>\n",
       "      <th>locust-bean-gum</th>\n",
       "      <th>levure</th>\n",
       "    </tr>\n",
       "  </thead>\n",
       "  <tbody>\n",
       "  </tbody>\n",
       "</table>\n",
       "<p>0 rows × 100 columns</p>\n",
       "</div>"
      ],
      "text/plain": [
       "Empty DataFrame\n",
       "Columns: [sucre, citric-acid, niacin, riboflavin, folic-acid, wheat-flour, corn-syrup, dextrose, soy-lecithin, reduced-iron, natural-flavor, spices, thiamine-mononitrate, soybean-oil, enzymes, milk, cream, xanthan-gum, maltodextrin, whey, cocoa-butter, natural-flavors, thiamin-mononitrate, garlic, high-fructose-corn-syrup, palm-oil, yeast, vegetable-oil, vinegar, guar-gum, iron, corn-starch, garlic-powder, malted-barley-flour, canola-oil, carrageenan, onion-powder, cheese-culture, huile-de-tournesol, modified-corn-starch, ascorbic-acid, 5%, butter, modified-food-starch, caramel-color, pasteurized-milk, arôme, honey, huile-de-colza, almonds, arômes, brown-sugar, baking-soda, tomato-paste, cheese-cultures, color, paprika, sodium-bicarbonate, onion, chocolate-liquor, sunflower-oil, lactic-acid, vitamin-a-palmitate, sodium-phosphate, yeast-extract, sirop-de-glucose, spice, beurre-de-cacao, cane-sugar, artificial-flavor, distilled-vinegar, preservative, natural-and-artificial-flavors, cocoa, eggs, peanuts, molasses, enriched-flour, skim-milk, pâte-de-cacao, farine-de-_blé_, potassium-sorbate, enriched-wheat-flour, onions, farine-de-blé, sodium-citrate, corn, leavening, wheat, mono-and-diglycerides, pectin, ail, filtered-water, vanilla, nonfat-milk, monosodium-glutamate, tomatoes, ferrous-sulfate, locust-bean-gum, levure]\n",
       "Index: []\n",
       "\n",
       "[0 rows x 100 columns]"
      ]
     },
     "execution_count": 139,
     "metadata": {},
     "output_type": "execute_result"
    }
   ],
   "source": [
    "our_dtm"
   ]
  },
  {
   "cell_type": "markdown",
   "metadata": {},
   "source": [
    "### This is really inefficient"
   ]
  },
  {
   "cell_type": "code",
   "execution_count": 53,
   "metadata": {},
   "outputs": [],
   "source": [
    "for ingredients, cluster in zip(sup_df['ingredients_text'], sup_df['clust']):\n",
    "    \n",
    "    ### Grab Cluster\n",
    "    clust_key = TD_IDF_key[TD_IDF_key.cluster == cluster]\n",
    "    \n",
    "    ### List of ingredients\n",
    "    ing_list = ingredients.split()\n",
    "    \n",
    "    ### Grab values from key\n",
    "    new_row = [clust_key[clust_key.ingredient == i]['td-idf'].item() if i in ing_list else 0 for i in top_100]\n",
    "    \n",
    "    our_dtm = our_dtm.append({k: v for k, v in zip(top_100, new_row)}, ignore_index = True)"
   ]
  },
  {
   "cell_type": "code",
   "execution_count": 141,
   "metadata": {},
   "outputs": [],
   "source": [
    "our_dtm.to_csv(\"/Users/gabrieltaylor/Python/STAT542/dtm.csv\")"
   ]
  },
  {
   "cell_type": "code",
   "execution_count": 55,
   "metadata": {},
   "outputs": [
    {
     "data": {
      "text/html": [
       "<div>\n",
       "<style scoped>\n",
       "    .dataframe tbody tr th:only-of-type {\n",
       "        vertical-align: middle;\n",
       "    }\n",
       "\n",
       "    .dataframe tbody tr th {\n",
       "        vertical-align: top;\n",
       "    }\n",
       "\n",
       "    .dataframe thead th {\n",
       "        text-align: right;\n",
       "    }\n",
       "</style>\n",
       "<table border=\"1\" class=\"dataframe\">\n",
       "  <thead>\n",
       "    <tr style=\"text-align: right;\">\n",
       "      <th></th>\n",
       "      <th>sucre</th>\n",
       "      <th>citric-acid</th>\n",
       "      <th>niacin</th>\n",
       "      <th>riboflavin</th>\n",
       "      <th>folic-acid</th>\n",
       "      <th>wheat-flour</th>\n",
       "      <th>corn-syrup</th>\n",
       "      <th>dextrose</th>\n",
       "      <th>soy-lecithin</th>\n",
       "      <th>reduced-iron</th>\n",
       "      <th>...</th>\n",
       "      <th>pectin</th>\n",
       "      <th>ail</th>\n",
       "      <th>filtered-water</th>\n",
       "      <th>vanilla</th>\n",
       "      <th>nonfat-milk</th>\n",
       "      <th>monosodium-glutamate</th>\n",
       "      <th>tomatoes</th>\n",
       "      <th>ferrous-sulfate</th>\n",
       "      <th>locust-bean-gum</th>\n",
       "      <th>levure</th>\n",
       "    </tr>\n",
       "  </thead>\n",
       "  <tbody>\n",
       "    <tr>\n",
       "      <th>0</th>\n",
       "      <td>0.0</td>\n",
       "      <td>0.0</td>\n",
       "      <td>0.000000</td>\n",
       "      <td>0.000000</td>\n",
       "      <td>0.000000</td>\n",
       "      <td>762.217095</td>\n",
       "      <td>0.0</td>\n",
       "      <td>0.0</td>\n",
       "      <td>0.0</td>\n",
       "      <td>0.0</td>\n",
       "      <td>...</td>\n",
       "      <td>0.0</td>\n",
       "      <td>0.0</td>\n",
       "      <td>0.0</td>\n",
       "      <td>0.0</td>\n",
       "      <td>0.0</td>\n",
       "      <td>0.0</td>\n",
       "      <td>0.0</td>\n",
       "      <td>0.0</td>\n",
       "      <td>0.0</td>\n",
       "      <td>0.0</td>\n",
       "    </tr>\n",
       "    <tr>\n",
       "      <th>1</th>\n",
       "      <td>0.0</td>\n",
       "      <td>0.0</td>\n",
       "      <td>0.000000</td>\n",
       "      <td>0.000000</td>\n",
       "      <td>0.000000</td>\n",
       "      <td>0.000000</td>\n",
       "      <td>0.0</td>\n",
       "      <td>0.0</td>\n",
       "      <td>0.0</td>\n",
       "      <td>0.0</td>\n",
       "      <td>...</td>\n",
       "      <td>0.0</td>\n",
       "      <td>0.0</td>\n",
       "      <td>0.0</td>\n",
       "      <td>0.0</td>\n",
       "      <td>0.0</td>\n",
       "      <td>0.0</td>\n",
       "      <td>0.0</td>\n",
       "      <td>0.0</td>\n",
       "      <td>0.0</td>\n",
       "      <td>0.0</td>\n",
       "    </tr>\n",
       "    <tr>\n",
       "      <th>2</th>\n",
       "      <td>0.0</td>\n",
       "      <td>0.0</td>\n",
       "      <td>0.000000</td>\n",
       "      <td>0.000000</td>\n",
       "      <td>0.000000</td>\n",
       "      <td>0.000000</td>\n",
       "      <td>0.0</td>\n",
       "      <td>0.0</td>\n",
       "      <td>0.0</td>\n",
       "      <td>0.0</td>\n",
       "      <td>...</td>\n",
       "      <td>0.0</td>\n",
       "      <td>0.0</td>\n",
       "      <td>0.0</td>\n",
       "      <td>0.0</td>\n",
       "      <td>0.0</td>\n",
       "      <td>0.0</td>\n",
       "      <td>0.0</td>\n",
       "      <td>0.0</td>\n",
       "      <td>0.0</td>\n",
       "      <td>0.0</td>\n",
       "    </tr>\n",
       "    <tr>\n",
       "      <th>3</th>\n",
       "      <td>0.0</td>\n",
       "      <td>0.0</td>\n",
       "      <td>0.000000</td>\n",
       "      <td>0.000000</td>\n",
       "      <td>0.000000</td>\n",
       "      <td>584.672551</td>\n",
       "      <td>0.0</td>\n",
       "      <td>0.0</td>\n",
       "      <td>0.0</td>\n",
       "      <td>0.0</td>\n",
       "      <td>...</td>\n",
       "      <td>0.0</td>\n",
       "      <td>0.0</td>\n",
       "      <td>0.0</td>\n",
       "      <td>0.0</td>\n",
       "      <td>0.0</td>\n",
       "      <td>0.0</td>\n",
       "      <td>0.0</td>\n",
       "      <td>0.0</td>\n",
       "      <td>0.0</td>\n",
       "      <td>0.0</td>\n",
       "    </tr>\n",
       "    <tr>\n",
       "      <th>4</th>\n",
       "      <td>0.0</td>\n",
       "      <td>0.0</td>\n",
       "      <td>487.646636</td>\n",
       "      <td>475.026897</td>\n",
       "      <td>476.405455</td>\n",
       "      <td>584.672551</td>\n",
       "      <td>0.0</td>\n",
       "      <td>0.0</td>\n",
       "      <td>0.0</td>\n",
       "      <td>0.0</td>\n",
       "      <td>...</td>\n",
       "      <td>0.0</td>\n",
       "      <td>0.0</td>\n",
       "      <td>0.0</td>\n",
       "      <td>0.0</td>\n",
       "      <td>0.0</td>\n",
       "      <td>0.0</td>\n",
       "      <td>0.0</td>\n",
       "      <td>0.0</td>\n",
       "      <td>0.0</td>\n",
       "      <td>0.0</td>\n",
       "    </tr>\n",
       "  </tbody>\n",
       "</table>\n",
       "<p>5 rows × 100 columns</p>\n",
       "</div>"
      ],
      "text/plain": [
       "   sucre  citric-acid      niacin  riboflavin  folic-acid  wheat-flour  \\\n",
       "0    0.0          0.0    0.000000    0.000000    0.000000   762.217095   \n",
       "1    0.0          0.0    0.000000    0.000000    0.000000     0.000000   \n",
       "2    0.0          0.0    0.000000    0.000000    0.000000     0.000000   \n",
       "3    0.0          0.0    0.000000    0.000000    0.000000   584.672551   \n",
       "4    0.0          0.0  487.646636  475.026897  476.405455   584.672551   \n",
       "\n",
       "   corn-syrup  dextrose  soy-lecithin  reduced-iron  ...  pectin  ail  \\\n",
       "0         0.0       0.0           0.0           0.0  ...     0.0  0.0   \n",
       "1         0.0       0.0           0.0           0.0  ...     0.0  0.0   \n",
       "2         0.0       0.0           0.0           0.0  ...     0.0  0.0   \n",
       "3         0.0       0.0           0.0           0.0  ...     0.0  0.0   \n",
       "4         0.0       0.0           0.0           0.0  ...     0.0  0.0   \n",
       "\n",
       "   filtered-water  vanilla  nonfat-milk  monosodium-glutamate  tomatoes  \\\n",
       "0             0.0      0.0          0.0                   0.0       0.0   \n",
       "1             0.0      0.0          0.0                   0.0       0.0   \n",
       "2             0.0      0.0          0.0                   0.0       0.0   \n",
       "3             0.0      0.0          0.0                   0.0       0.0   \n",
       "4             0.0      0.0          0.0                   0.0       0.0   \n",
       "\n",
       "   ferrous-sulfate  locust-bean-gum  levure  \n",
       "0              0.0              0.0     0.0  \n",
       "1              0.0              0.0     0.0  \n",
       "2              0.0              0.0     0.0  \n",
       "3              0.0              0.0     0.0  \n",
       "4              0.0              0.0     0.0  \n",
       "\n",
       "[5 rows x 100 columns]"
      ]
     },
     "execution_count": 55,
     "metadata": {},
     "output_type": "execute_result"
    }
   ],
   "source": [
    "our_dtm.head()"
   ]
  },
  {
   "cell_type": "code",
   "execution_count": 58,
   "metadata": {},
   "outputs": [],
   "source": [
    "X = our_dtm\n",
    "y = sup_df['new_score']\n",
    "X_train, X_test, y_train, y_test = train_test_split(X, y, test_size=0.2, random_state=69)"
   ]
  },
  {
   "cell_type": "code",
   "execution_count": 59,
   "metadata": {},
   "outputs": [
    {
     "data": {
      "text/plain": [
       "XGBClassifier(base_score=0.5, booster='gbtree', colsample_bylevel=1,\n",
       "              colsample_bynode=1, colsample_bytree=1, gamma=0, gpu_id=-1,\n",
       "              importance_type='gain', interaction_constraints='',\n",
       "              learning_rate=0.300000012, max_delta_step=0, max_depth=6,\n",
       "              min_child_weight=1, missing=nan, monotone_constraints='()',\n",
       "              n_estimators=100, n_jobs=0, num_parallel_tree=1, random_state=0,\n",
       "              reg_alpha=0, reg_lambda=1, scale_pos_weight=1, subsample=1,\n",
       "              tree_method='exact', validate_parameters=1, verbosity=None)"
      ]
     },
     "execution_count": 59,
     "metadata": {},
     "output_type": "execute_result"
    }
   ],
   "source": [
    "model = XGBClassifier()\n",
    "model.fit(X_train, y_train)"
   ]
  },
  {
   "cell_type": "code",
   "execution_count": 60,
   "metadata": {},
   "outputs": [
    {
     "data": {
      "text/plain": [
       "0.8513679052674561"
      ]
     },
     "execution_count": 60,
     "metadata": {},
     "output_type": "execute_result"
    }
   ],
   "source": [
    "y_pred = model.predict(X_test)\n",
    "accuracy_score(y_test, y_pred)"
   ]
  },
  {
   "cell_type": "markdown",
   "metadata": {},
   "source": [
    "## Now let's do regression"
   ]
  },
  {
   "cell_type": "code",
   "execution_count": 61,
   "metadata": {},
   "outputs": [],
   "source": [
    "from xgboost import XGBRegressor\n",
    "from sklearn.metrics import mean_squared_error"
   ]
  },
  {
   "cell_type": "code",
   "execution_count": 62,
   "metadata": {},
   "outputs": [],
   "source": [
    "X = our_dtm\n",
    "y = sup_df['nutrition-score-fr_100g']\n",
    "X_train, X_test, y_train, y_test = train_test_split(X, y, test_size=0.2, random_state=69)"
   ]
  },
  {
   "cell_type": "code",
   "execution_count": 63,
   "metadata": {},
   "outputs": [
    {
     "data": {
      "text/plain": [
       "XGBRegressor(base_score=0.5, booster='gbtree', colsample_bylevel=1,\n",
       "             colsample_bynode=1, colsample_bytree=1, gamma=0, gpu_id=-1,\n",
       "             importance_type='gain', interaction_constraints='',\n",
       "             learning_rate=0.300000012, max_delta_step=0, max_depth=6,\n",
       "             min_child_weight=1, missing=nan, monotone_constraints='()',\n",
       "             n_estimators=100, n_jobs=0, num_parallel_tree=1, random_state=0,\n",
       "             reg_alpha=0, reg_lambda=1, scale_pos_weight=1, subsample=1,\n",
       "             tree_method='exact', validate_parameters=1, verbosity=None)"
      ]
     },
     "execution_count": 63,
     "metadata": {},
     "output_type": "execute_result"
    }
   ],
   "source": [
    "model = XGBRegressor()\n",
    "model.fit(X_train, y_train)"
   ]
  },
  {
   "cell_type": "code",
   "execution_count": 65,
   "metadata": {},
   "outputs": [
    {
     "data": {
      "text/plain": [
       "5.049153435550386"
      ]
     },
     "execution_count": 65,
     "metadata": {},
     "output_type": "execute_result"
    }
   ],
   "source": [
    "y_pred = model.predict(X_test)\n",
    "np.sqrt(mean_squared_error(y_test, y_pred))"
   ]
  },
  {
   "cell_type": "markdown",
   "metadata": {},
   "source": [
    "## In case using cluster info is cheating, lets try regular old count vectorization"
   ]
  },
  {
   "cell_type": "code",
   "execution_count": 78,
   "metadata": {},
   "outputs": [],
   "source": [
    "new_dtm = pd.DataFrame(columns = top_100)"
   ]
  },
  {
   "cell_type": "code",
   "execution_count": 79,
   "metadata": {},
   "outputs": [],
   "source": [
    "for ingredients in sup_df['ingredients_text']:\n",
    "    \n",
    "    ### List of ingredients\n",
    "    ing_list = ingredients.split()\n",
    "    \n",
    "    ### Grab values from key\n",
    "    new_row = [1.0 if i in ing_list else 0.0 for i in top_100]\n",
    "    \n",
    "    new_dtm = new_dtm.append({k: v for k, v in zip(top_100, new_row)}, ignore_index = True)"
   ]
  },
  {
   "cell_type": "code",
   "execution_count": 80,
   "metadata": {},
   "outputs": [
    {
     "data": {
      "text/html": [
       "<div>\n",
       "<style scoped>\n",
       "    .dataframe tbody tr th:only-of-type {\n",
       "        vertical-align: middle;\n",
       "    }\n",
       "\n",
       "    .dataframe tbody tr th {\n",
       "        vertical-align: top;\n",
       "    }\n",
       "\n",
       "    .dataframe thead th {\n",
       "        text-align: right;\n",
       "    }\n",
       "</style>\n",
       "<table border=\"1\" class=\"dataframe\">\n",
       "  <thead>\n",
       "    <tr style=\"text-align: right;\">\n",
       "      <th></th>\n",
       "      <th>sucre</th>\n",
       "      <th>citric-acid</th>\n",
       "      <th>niacin</th>\n",
       "      <th>riboflavin</th>\n",
       "      <th>folic-acid</th>\n",
       "      <th>wheat-flour</th>\n",
       "      <th>corn-syrup</th>\n",
       "      <th>dextrose</th>\n",
       "      <th>soy-lecithin</th>\n",
       "      <th>reduced-iron</th>\n",
       "      <th>...</th>\n",
       "      <th>pectin</th>\n",
       "      <th>ail</th>\n",
       "      <th>filtered-water</th>\n",
       "      <th>vanilla</th>\n",
       "      <th>nonfat-milk</th>\n",
       "      <th>monosodium-glutamate</th>\n",
       "      <th>tomatoes</th>\n",
       "      <th>ferrous-sulfate</th>\n",
       "      <th>locust-bean-gum</th>\n",
       "      <th>levure</th>\n",
       "    </tr>\n",
       "  </thead>\n",
       "  <tbody>\n",
       "    <tr>\n",
       "      <th>0</th>\n",
       "      <td>0.0</td>\n",
       "      <td>0.0</td>\n",
       "      <td>0.0</td>\n",
       "      <td>0.0</td>\n",
       "      <td>0.0</td>\n",
       "      <td>1.0</td>\n",
       "      <td>0.0</td>\n",
       "      <td>0.0</td>\n",
       "      <td>0.0</td>\n",
       "      <td>0.0</td>\n",
       "      <td>...</td>\n",
       "      <td>0.0</td>\n",
       "      <td>0.0</td>\n",
       "      <td>0.0</td>\n",
       "      <td>0.0</td>\n",
       "      <td>0.0</td>\n",
       "      <td>0.0</td>\n",
       "      <td>0.0</td>\n",
       "      <td>0.0</td>\n",
       "      <td>0.0</td>\n",
       "      <td>0.0</td>\n",
       "    </tr>\n",
       "    <tr>\n",
       "      <th>1</th>\n",
       "      <td>0.0</td>\n",
       "      <td>0.0</td>\n",
       "      <td>0.0</td>\n",
       "      <td>0.0</td>\n",
       "      <td>0.0</td>\n",
       "      <td>0.0</td>\n",
       "      <td>0.0</td>\n",
       "      <td>0.0</td>\n",
       "      <td>0.0</td>\n",
       "      <td>0.0</td>\n",
       "      <td>...</td>\n",
       "      <td>0.0</td>\n",
       "      <td>0.0</td>\n",
       "      <td>0.0</td>\n",
       "      <td>0.0</td>\n",
       "      <td>0.0</td>\n",
       "      <td>0.0</td>\n",
       "      <td>0.0</td>\n",
       "      <td>0.0</td>\n",
       "      <td>0.0</td>\n",
       "      <td>0.0</td>\n",
       "    </tr>\n",
       "    <tr>\n",
       "      <th>2</th>\n",
       "      <td>0.0</td>\n",
       "      <td>0.0</td>\n",
       "      <td>0.0</td>\n",
       "      <td>0.0</td>\n",
       "      <td>0.0</td>\n",
       "      <td>0.0</td>\n",
       "      <td>0.0</td>\n",
       "      <td>0.0</td>\n",
       "      <td>0.0</td>\n",
       "      <td>0.0</td>\n",
       "      <td>...</td>\n",
       "      <td>0.0</td>\n",
       "      <td>0.0</td>\n",
       "      <td>0.0</td>\n",
       "      <td>0.0</td>\n",
       "      <td>0.0</td>\n",
       "      <td>0.0</td>\n",
       "      <td>0.0</td>\n",
       "      <td>0.0</td>\n",
       "      <td>0.0</td>\n",
       "      <td>0.0</td>\n",
       "    </tr>\n",
       "    <tr>\n",
       "      <th>3</th>\n",
       "      <td>0.0</td>\n",
       "      <td>0.0</td>\n",
       "      <td>0.0</td>\n",
       "      <td>0.0</td>\n",
       "      <td>0.0</td>\n",
       "      <td>1.0</td>\n",
       "      <td>0.0</td>\n",
       "      <td>0.0</td>\n",
       "      <td>0.0</td>\n",
       "      <td>0.0</td>\n",
       "      <td>...</td>\n",
       "      <td>0.0</td>\n",
       "      <td>0.0</td>\n",
       "      <td>0.0</td>\n",
       "      <td>0.0</td>\n",
       "      <td>0.0</td>\n",
       "      <td>0.0</td>\n",
       "      <td>0.0</td>\n",
       "      <td>0.0</td>\n",
       "      <td>0.0</td>\n",
       "      <td>0.0</td>\n",
       "    </tr>\n",
       "    <tr>\n",
       "      <th>4</th>\n",
       "      <td>0.0</td>\n",
       "      <td>0.0</td>\n",
       "      <td>1.0</td>\n",
       "      <td>1.0</td>\n",
       "      <td>1.0</td>\n",
       "      <td>1.0</td>\n",
       "      <td>0.0</td>\n",
       "      <td>0.0</td>\n",
       "      <td>0.0</td>\n",
       "      <td>0.0</td>\n",
       "      <td>...</td>\n",
       "      <td>0.0</td>\n",
       "      <td>0.0</td>\n",
       "      <td>0.0</td>\n",
       "      <td>0.0</td>\n",
       "      <td>0.0</td>\n",
       "      <td>0.0</td>\n",
       "      <td>0.0</td>\n",
       "      <td>0.0</td>\n",
       "      <td>0.0</td>\n",
       "      <td>0.0</td>\n",
       "    </tr>\n",
       "  </tbody>\n",
       "</table>\n",
       "<p>5 rows × 100 columns</p>\n",
       "</div>"
      ],
      "text/plain": [
       "   sucre  citric-acid  niacin  riboflavin  folic-acid  wheat-flour  \\\n",
       "0    0.0          0.0     0.0         0.0         0.0          1.0   \n",
       "1    0.0          0.0     0.0         0.0         0.0          0.0   \n",
       "2    0.0          0.0     0.0         0.0         0.0          0.0   \n",
       "3    0.0          0.0     0.0         0.0         0.0          1.0   \n",
       "4    0.0          0.0     1.0         1.0         1.0          1.0   \n",
       "\n",
       "   corn-syrup  dextrose  soy-lecithin  reduced-iron  ...  pectin  ail  \\\n",
       "0         0.0       0.0           0.0           0.0  ...     0.0  0.0   \n",
       "1         0.0       0.0           0.0           0.0  ...     0.0  0.0   \n",
       "2         0.0       0.0           0.0           0.0  ...     0.0  0.0   \n",
       "3         0.0       0.0           0.0           0.0  ...     0.0  0.0   \n",
       "4         0.0       0.0           0.0           0.0  ...     0.0  0.0   \n",
       "\n",
       "   filtered-water  vanilla  nonfat-milk  monosodium-glutamate  tomatoes  \\\n",
       "0             0.0      0.0          0.0                   0.0       0.0   \n",
       "1             0.0      0.0          0.0                   0.0       0.0   \n",
       "2             0.0      0.0          0.0                   0.0       0.0   \n",
       "3             0.0      0.0          0.0                   0.0       0.0   \n",
       "4             0.0      0.0          0.0                   0.0       0.0   \n",
       "\n",
       "   ferrous-sulfate  locust-bean-gum  levure  \n",
       "0              0.0              0.0     0.0  \n",
       "1              0.0              0.0     0.0  \n",
       "2              0.0              0.0     0.0  \n",
       "3              0.0              0.0     0.0  \n",
       "4              0.0              0.0     0.0  \n",
       "\n",
       "[5 rows x 100 columns]"
      ]
     },
     "execution_count": 80,
     "metadata": {},
     "output_type": "execute_result"
    }
   ],
   "source": [
    "new_dtm.head()"
   ]
  },
  {
   "cell_type": "markdown",
   "metadata": {},
   "source": [
    "## Classification"
   ]
  },
  {
   "cell_type": "code",
   "execution_count": 85,
   "metadata": {},
   "outputs": [],
   "source": [
    "X = new_dtm\n",
    "y = sup_df['new_score']\n",
    "X_train, X_test, y_train, y_test = train_test_split(X, y, test_size=0.2, random_state=69)"
   ]
  },
  {
   "cell_type": "code",
   "execution_count": 86,
   "metadata": {},
   "outputs": [
    {
     "data": {
      "text/plain": [
       "XGBClassifier(base_score=0.5, booster='gbtree', colsample_bylevel=1,\n",
       "              colsample_bynode=1, colsample_bytree=1, gamma=0, gpu_id=-1,\n",
       "              importance_type='gain', interaction_constraints='',\n",
       "              learning_rate=0.300000012, max_delta_step=0, max_depth=6,\n",
       "              min_child_weight=1, missing=nan, monotone_constraints='()',\n",
       "              n_estimators=100, n_jobs=0, num_parallel_tree=1, random_state=0,\n",
       "              reg_alpha=0, reg_lambda=1, scale_pos_weight=1, subsample=1,\n",
       "              tree_method='exact', validate_parameters=1, verbosity=None)"
      ]
     },
     "execution_count": 86,
     "metadata": {},
     "output_type": "execute_result"
    }
   ],
   "source": [
    "model = XGBClassifier()\n",
    "model.fit(X_train, y_train)"
   ]
  },
  {
   "cell_type": "code",
   "execution_count": 87,
   "metadata": {},
   "outputs": [
    {
     "data": {
      "text/plain": [
       "0.8227848101265823"
      ]
     },
     "execution_count": 87,
     "metadata": {},
     "output_type": "execute_result"
    }
   ],
   "source": [
    "y_pred = model.predict(X_test)\n",
    "accuracy_score(y_test, y_pred)"
   ]
  },
  {
   "cell_type": "code",
   "execution_count": null,
   "metadata": {},
   "outputs": [],
   "source": []
  },
  {
   "cell_type": "markdown",
   "metadata": {},
   "source": [
    "## Regression"
   ]
  },
  {
   "cell_type": "code",
   "execution_count": 82,
   "metadata": {},
   "outputs": [],
   "source": [
    "X = new_dtm\n",
    "y = sup_df['nutrition-score-fr_100g']\n",
    "X_train, X_test, y_train, y_test = train_test_split(X, y, test_size=0.2, random_state=69)"
   ]
  },
  {
   "cell_type": "code",
   "execution_count": 83,
   "metadata": {},
   "outputs": [
    {
     "data": {
      "text/plain": [
       "XGBRegressor(base_score=0.5, booster='gbtree', colsample_bylevel=1,\n",
       "             colsample_bynode=1, colsample_bytree=1, gamma=0, gpu_id=-1,\n",
       "             importance_type='gain', interaction_constraints='',\n",
       "             learning_rate=0.300000012, max_delta_step=0, max_depth=6,\n",
       "             min_child_weight=1, missing=nan, monotone_constraints='()',\n",
       "             n_estimators=100, n_jobs=0, num_parallel_tree=1, random_state=0,\n",
       "             reg_alpha=0, reg_lambda=1, scale_pos_weight=1, subsample=1,\n",
       "             tree_method='exact', validate_parameters=1, verbosity=None)"
      ]
     },
     "execution_count": 83,
     "metadata": {},
     "output_type": "execute_result"
    }
   ],
   "source": [
    "model = XGBRegressor()\n",
    "model.fit(X_train, y_train)"
   ]
  },
  {
   "cell_type": "code",
   "execution_count": 84,
   "metadata": {},
   "outputs": [
    {
     "data": {
      "text/plain": [
       "5.571640317123625"
      ]
     },
     "execution_count": 84,
     "metadata": {},
     "output_type": "execute_result"
    }
   ],
   "source": [
    "y_pred = model.predict(X_test)\n",
    "np.sqrt(mean_squared_error(y_test, y_pred))"
   ]
  }
 ],
 "metadata": {
  "kernelspec": {
   "display_name": "Python 3",
   "language": "python",
   "name": "python3"
  },
  "language_info": {
   "codemirror_mode": {
    "name": "ipython",
    "version": 3
   },
   "file_extension": ".py",
   "mimetype": "text/x-python",
   "name": "python",
   "nbconvert_exporter": "python",
   "pygments_lexer": "ipython3",
   "version": "3.7.3"
  }
 },
 "nbformat": 4,
 "nbformat_minor": 4
}
