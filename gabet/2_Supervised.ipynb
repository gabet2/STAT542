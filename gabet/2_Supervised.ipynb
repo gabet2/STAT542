{
 "cells": [
  {
   "cell_type": "code",
   "execution_count": 194,
   "metadata": {},
   "outputs": [],
   "source": [
    "import pandas as pd\n",
    "import numpy as np\n",
    "import matplotlib\n",
    "import matplotlib.pyplot as plt\n",
    "import seaborn as sns\n",
    "from functools import reduce\n",
    "import re\n",
    "from sklearn.feature_extraction.text import CountVectorizer\n",
    "from collections import Counter\n",
    "from sklearn.cluster import KMeans\n",
    "from scipy import stats\n",
    "from nltk.corpus import stopwords\n",
    "import sklearn.feature_extraction.text as text\n",
    "from nltk.tokenize import word_tokenize \n",
    "import re"
   ]
  },
  {
   "cell_type": "code",
   "execution_count": 221,
   "metadata": {},
   "outputs": [],
   "source": [
    "plt.style.use('fivethirtyeight')"
   ]
  },
  {
   "cell_type": "code",
   "execution_count": 195,
   "metadata": {},
   "outputs": [
    {
     "name": "stderr",
     "output_type": "stream",
     "text": [
      "/Users/gabrieltaylor/.pyenv/versions/3.7.3/lib/python3.7/site-packages/IPython/core/interactiveshell.py:3063: DtypeWarning: Columns (0,3,5,19,20,24,25,26,27,28,36,37,38,39,48) have mixed types.Specify dtype option on import or set low_memory=False.\n",
      "  interactivity=interactivity, compiler=compiler, result=result)\n"
     ]
    }
   ],
   "source": [
    "df = pd.read_csv(\"/Users/gabrieltaylor/Python/STAT542/en.openfoodfacts.org.products.tsv\", sep = \"\\t\")"
   ]
  },
  {
   "cell_type": "code",
   "execution_count": 196,
   "metadata": {},
   "outputs": [],
   "source": [
    "clust_df = pd.read_csv('/Users/gabrieltaylor/Python/STAT542/STAT542/gabet/clust_df.csv', index_col = 0)"
   ]
  },
  {
   "cell_type": "markdown",
   "metadata": {},
   "source": [
    "# Supervised Task"
   ]
  },
  {
   "cell_type": "code",
   "execution_count": 197,
   "metadata": {},
   "outputs": [],
   "source": [
    "sup_df = clust_df.join(df[['additives', 'nutrition-score-fr_100g']]).dropna()"
   ]
  },
  {
   "cell_type": "code",
   "execution_count": 198,
   "metadata": {},
   "outputs": [
    {
     "data": {
      "text/html": [
       "<div>\n",
       "<style scoped>\n",
       "    .dataframe tbody tr th:only-of-type {\n",
       "        vertical-align: middle;\n",
       "    }\n",
       "\n",
       "    .dataframe tbody tr th {\n",
       "        vertical-align: top;\n",
       "    }\n",
       "\n",
       "    .dataframe thead th {\n",
       "        text-align: right;\n",
       "    }\n",
       "</style>\n",
       "<table border=\"1\" class=\"dataframe\">\n",
       "  <thead>\n",
       "    <tr style=\"text-align: right;\">\n",
       "      <th></th>\n",
       "      <th>ingredients_text</th>\n",
       "      <th>carbohydrates_100g</th>\n",
       "      <th>fiber_100g</th>\n",
       "      <th>sugars_100g</th>\n",
       "      <th>proteins_100g</th>\n",
       "      <th>fat_100g</th>\n",
       "      <th>saturated-fat_100g</th>\n",
       "      <th>clust</th>\n",
       "      <th>additives</th>\n",
       "      <th>nutrition-score-fr_100g</th>\n",
       "    </tr>\n",
       "  </thead>\n",
       "  <tbody>\n",
       "    <tr>\n",
       "      <th>2</th>\n",
       "      <td>peanuts wheat-flour sugar rice-flour tapioca-s...</td>\n",
       "      <td>1.119606</td>\n",
       "      <td>1.255472</td>\n",
       "      <td>0.371259</td>\n",
       "      <td>0.859435</td>\n",
       "      <td>0.137917</td>\n",
       "      <td>-0.700412</td>\n",
       "      <td>5</td>\n",
       "      <td>[ peanuts -&gt; en:peanuts  ]  [ wheat-flour -&gt; ...</td>\n",
       "      <td>0.0</td>\n",
       "    </tr>\n",
       "    <tr>\n",
       "      <th>148</th>\n",
       "      <td>cranberries sugar sunflower-oil</td>\n",
       "      <td>1.896869</td>\n",
       "      <td>2.083100</td>\n",
       "      <td>3.082730</td>\n",
       "      <td>-1.065403</td>\n",
       "      <td>-0.795579</td>\n",
       "      <td>-0.700412</td>\n",
       "      <td>3</td>\n",
       "      <td>[ cranberries -&gt; en:cranberries  ]  [ sugar -...</td>\n",
       "      <td>8.0</td>\n",
       "    </tr>\n",
       "    <tr>\n",
       "      <th>149</th>\n",
       "      <td>apricots sulfur-dioxide</td>\n",
       "      <td>1.181114</td>\n",
       "      <td>1.369627</td>\n",
       "      <td>2.295565</td>\n",
       "      <td>-0.795968</td>\n",
       "      <td>-0.795579</td>\n",
       "      <td>-0.700412</td>\n",
       "      <td>3</td>\n",
       "      <td>[ apricots -&gt; en:apricots  ]  [ sulfur-dioxid...</td>\n",
       "      <td>8.0</td>\n",
       "    </tr>\n",
       "    <tr>\n",
       "      <th>200</th>\n",
       "      <td>wheat-flour butter cream  water yeast sugar sa...</td>\n",
       "      <td>0.550919</td>\n",
       "      <td>-0.399784</td>\n",
       "      <td>-0.332580</td>\n",
       "      <td>-0.225846</td>\n",
       "      <td>0.086695</td>\n",
       "      <td>0.767782</td>\n",
       "      <td>5</td>\n",
       "      <td>[ wheat-flour -&gt; en:wheat-flour  ]  [ flour -...</td>\n",
       "      <td>18.0</td>\n",
       "    </tr>\n",
       "    <tr>\n",
       "      <th>201</th>\n",
       "      <td>enriched-wheat-flour wheat-flour malted-barley...</td>\n",
       "      <td>0.656066</td>\n",
       "      <td>-0.513939</td>\n",
       "      <td>0.819560</td>\n",
       "      <td>-0.367029</td>\n",
       "      <td>0.027110</td>\n",
       "      <td>-0.177571</td>\n",
       "      <td>5</td>\n",
       "      <td>[ enriched-wheat-flour -&gt; en:enriched-wheat-f...</td>\n",
       "      <td>14.0</td>\n",
       "    </tr>\n",
       "  </tbody>\n",
       "</table>\n",
       "</div>"
      ],
      "text/plain": [
       "                                      ingredients_text  carbohydrates_100g  \\\n",
       "2    peanuts wheat-flour sugar rice-flour tapioca-s...            1.119606   \n",
       "148                    cranberries sugar sunflower-oil            1.896869   \n",
       "149                            apricots sulfur-dioxide            1.181114   \n",
       "200  wheat-flour butter cream  water yeast sugar sa...            0.550919   \n",
       "201  enriched-wheat-flour wheat-flour malted-barley...            0.656066   \n",
       "\n",
       "     fiber_100g  sugars_100g  proteins_100g  fat_100g  saturated-fat_100g  \\\n",
       "2      1.255472     0.371259       0.859435  0.137917           -0.700412   \n",
       "148    2.083100     3.082730      -1.065403 -0.795579           -0.700412   \n",
       "149    1.369627     2.295565      -0.795968 -0.795579           -0.700412   \n",
       "200   -0.399784    -0.332580      -0.225846  0.086695            0.767782   \n",
       "201   -0.513939     0.819560      -0.367029  0.027110           -0.177571   \n",
       "\n",
       "     clust                                          additives  \\\n",
       "2        5   [ peanuts -> en:peanuts  ]  [ wheat-flour -> ...   \n",
       "148      3   [ cranberries -> en:cranberries  ]  [ sugar -...   \n",
       "149      3   [ apricots -> en:apricots  ]  [ sulfur-dioxid...   \n",
       "200      5   [ wheat-flour -> en:wheat-flour  ]  [ flour -...   \n",
       "201      5   [ enriched-wheat-flour -> en:enriched-wheat-f...   \n",
       "\n",
       "     nutrition-score-fr_100g  \n",
       "2                        0.0  \n",
       "148                      8.0  \n",
       "149                      8.0  \n",
       "200                     18.0  \n",
       "201                     14.0  "
      ]
     },
     "execution_count": 198,
     "metadata": {},
     "output_type": "execute_result"
    }
   ],
   "source": [
    "sup_df.head()"
   ]
  },
  {
   "cell_type": "markdown",
   "metadata": {},
   "source": [
    "## Is there a clear ranking of nutrition scores by cluster?"
   ]
  },
  {
   "cell_type": "code",
   "execution_count": 199,
   "metadata": {},
   "outputs": [
    {
     "data": {
      "text/html": [
       "<div>\n",
       "<style scoped>\n",
       "    .dataframe tbody tr th:only-of-type {\n",
       "        vertical-align: middle;\n",
       "    }\n",
       "\n",
       "    .dataframe tbody tr th {\n",
       "        vertical-align: top;\n",
       "    }\n",
       "\n",
       "    .dataframe thead th {\n",
       "        text-align: right;\n",
       "    }\n",
       "</style>\n",
       "<table border=\"1\" class=\"dataframe\">\n",
       "  <thead>\n",
       "    <tr style=\"text-align: right;\">\n",
       "      <th></th>\n",
       "      <th>nutrition-score-fr_100g</th>\n",
       "    </tr>\n",
       "    <tr>\n",
       "      <th>clust</th>\n",
       "      <th></th>\n",
       "    </tr>\n",
       "  </thead>\n",
       "  <tbody>\n",
       "    <tr>\n",
       "      <th>5</th>\n",
       "      <td>0.334542</td>\n",
       "    </tr>\n",
       "    <tr>\n",
       "      <th>1</th>\n",
       "      <td>1.170208</td>\n",
       "    </tr>\n",
       "    <tr>\n",
       "      <th>6</th>\n",
       "      <td>5.114522</td>\n",
       "    </tr>\n",
       "    <tr>\n",
       "      <th>4</th>\n",
       "      <td>8.904300</td>\n",
       "    </tr>\n",
       "    <tr>\n",
       "      <th>3</th>\n",
       "      <td>13.166827</td>\n",
       "    </tr>\n",
       "    <tr>\n",
       "      <th>2</th>\n",
       "      <td>20.422587</td>\n",
       "    </tr>\n",
       "    <tr>\n",
       "      <th>0</th>\n",
       "      <td>21.349800</td>\n",
       "    </tr>\n",
       "  </tbody>\n",
       "</table>\n",
       "</div>"
      ],
      "text/plain": [
       "       nutrition-score-fr_100g\n",
       "clust                         \n",
       "5                     0.334542\n",
       "1                     1.170208\n",
       "6                     5.114522\n",
       "4                     8.904300\n",
       "3                    13.166827\n",
       "2                    20.422587\n",
       "0                    21.349800"
      ]
     },
     "execution_count": 199,
     "metadata": {},
     "output_type": "execute_result"
    }
   ],
   "source": [
    "ranks = pd.DataFrame(sup_df.groupby('clust').mean()['nutrition-score-fr_100g']).sort_values('nutrition-score-fr_100g')\n",
    "ranks.sort_values(\"nutrition-score-fr_100g\")"
   ]
  },
  {
   "cell_type": "code",
   "execution_count": 200,
   "metadata": {},
   "outputs": [
    {
     "data": {
      "image/png": "[encoded data removed]",
      "text/plain": [
       "<Figure size 720x720 with 1 Axes>"
      ]
     },
     "metadata": {
      "needs_background": "light"
     },
     "output_type": "display_data"
    }
   ],
   "source": [
    "plt.figure(figsize = (10, 10))\n",
    "sns.violinplot(data=sup_df, x = 'nutrition-score-fr_100g', y=\"clust\", orient=\"h\", order = [5, 1, 6, 4, 3, 2, 0])\n",
    "plt.show()"
   ]
  },
  {
   "cell_type": "markdown",
   "metadata": {},
   "source": [
    "Yes, there is clearly a ranking of nutrition scores by cluster."
   ]
  },
  {
   "cell_type": "markdown",
   "metadata": {},
   "source": [
    "## How well can clusters alone predict nutrition score?"
   ]
  },
  {
   "cell_type": "markdown",
   "metadata": {},
   "source": [
    "First, we will make this a supremely easy task by splitting the nutrition score into binary categories. "
   ]
  },
  {
   "cell_type": "code",
   "execution_count": 201,
   "metadata": {},
   "outputs": [
    {
     "data": {
      "text/plain": [
       "count    12222.000000\n",
       "mean         7.449435\n",
       "std          9.623551\n",
       "min        -12.000000\n",
       "25%         -1.000000\n",
       "50%          6.000000\n",
       "75%         16.000000\n",
       "max         34.000000\n",
       "Name: nutrition-score-fr_100g, dtype: float64"
      ]
     },
     "execution_count": 201,
     "metadata": {},
     "output_type": "execute_result"
    }
   ],
   "source": [
    "sup_df['nutrition-score-fr_100g'].describe()"
   ]
  },
  {
   "cell_type": "code",
   "execution_count": 202,
   "metadata": {},
   "outputs": [
    {
     "data": {
      "text/html": [
       "<div>\n",
       "<style scoped>\n",
       "    .dataframe tbody tr th:only-of-type {\n",
       "        vertical-align: middle;\n",
       "    }\n",
       "\n",
       "    .dataframe tbody tr th {\n",
       "        vertical-align: top;\n",
       "    }\n",
       "\n",
       "    .dataframe thead th {\n",
       "        text-align: right;\n",
       "    }\n",
       "</style>\n",
       "<table border=\"1\" class=\"dataframe\">\n",
       "  <thead>\n",
       "    <tr style=\"text-align: right;\">\n",
       "      <th></th>\n",
       "      <th>ingredients_text</th>\n",
       "      <th>carbohydrates_100g</th>\n",
       "      <th>fiber_100g</th>\n",
       "      <th>sugars_100g</th>\n",
       "      <th>proteins_100g</th>\n",
       "      <th>fat_100g</th>\n",
       "      <th>saturated-fat_100g</th>\n",
       "      <th>clust</th>\n",
       "      <th>additives</th>\n",
       "      <th>nutrition-score-fr_100g</th>\n",
       "      <th>new_score</th>\n",
       "    </tr>\n",
       "  </thead>\n",
       "  <tbody>\n",
       "    <tr>\n",
       "      <th>2</th>\n",
       "      <td>peanuts wheat-flour sugar rice-flour tapioca-s...</td>\n",
       "      <td>1.119606</td>\n",
       "      <td>1.255472</td>\n",
       "      <td>0.371259</td>\n",
       "      <td>0.859435</td>\n",
       "      <td>0.137917</td>\n",
       "      <td>-0.700412</td>\n",
       "      <td>5</td>\n",
       "      <td>[ peanuts -&gt; en:peanuts  ]  [ wheat-flour -&gt; ...</td>\n",
       "      <td>0.0</td>\n",
       "      <td>0</td>\n",
       "    </tr>\n",
       "    <tr>\n",
       "      <th>148</th>\n",
       "      <td>cranberries sugar sunflower-oil</td>\n",
       "      <td>1.896869</td>\n",
       "      <td>2.083100</td>\n",
       "      <td>3.082730</td>\n",
       "      <td>-1.065403</td>\n",
       "      <td>-0.795579</td>\n",
       "      <td>-0.700412</td>\n",
       "      <td>3</td>\n",
       "      <td>[ cranberries -&gt; en:cranberries  ]  [ sugar -...</td>\n",
       "      <td>8.0</td>\n",
       "      <td>1</td>\n",
       "    </tr>\n",
       "    <tr>\n",
       "      <th>149</th>\n",
       "      <td>apricots sulfur-dioxide</td>\n",
       "      <td>1.181114</td>\n",
       "      <td>1.369627</td>\n",
       "      <td>2.295565</td>\n",
       "      <td>-0.795968</td>\n",
       "      <td>-0.795579</td>\n",
       "      <td>-0.700412</td>\n",
       "      <td>3</td>\n",
       "      <td>[ apricots -&gt; en:apricots  ]  [ sulfur-dioxid...</td>\n",
       "      <td>8.0</td>\n",
       "      <td>1</td>\n",
       "    </tr>\n",
       "    <tr>\n",
       "      <th>200</th>\n",
       "      <td>wheat-flour butter cream  water yeast sugar sa...</td>\n",
       "      <td>0.550919</td>\n",
       "      <td>-0.399784</td>\n",
       "      <td>-0.332580</td>\n",
       "      <td>-0.225846</td>\n",
       "      <td>0.086695</td>\n",
       "      <td>0.767782</td>\n",
       "      <td>5</td>\n",
       "      <td>[ wheat-flour -&gt; en:wheat-flour  ]  [ flour -...</td>\n",
       "      <td>18.0</td>\n",
       "      <td>1</td>\n",
       "    </tr>\n",
       "    <tr>\n",
       "      <th>201</th>\n",
       "      <td>enriched-wheat-flour wheat-flour malted-barley...</td>\n",
       "      <td>0.656066</td>\n",
       "      <td>-0.513939</td>\n",
       "      <td>0.819560</td>\n",
       "      <td>-0.367029</td>\n",
       "      <td>0.027110</td>\n",
       "      <td>-0.177571</td>\n",
       "      <td>5</td>\n",
       "      <td>[ enriched-wheat-flour -&gt; en:enriched-wheat-f...</td>\n",
       "      <td>14.0</td>\n",
       "      <td>1</td>\n",
       "    </tr>\n",
       "  </tbody>\n",
       "</table>\n",
       "</div>"
      ],
      "text/plain": [
       "                                      ingredients_text  carbohydrates_100g  \\\n",
       "2    peanuts wheat-flour sugar rice-flour tapioca-s...            1.119606   \n",
       "148                    cranberries sugar sunflower-oil            1.896869   \n",
       "149                            apricots sulfur-dioxide            1.181114   \n",
       "200  wheat-flour butter cream  water yeast sugar sa...            0.550919   \n",
       "201  enriched-wheat-flour wheat-flour malted-barley...            0.656066   \n",
       "\n",
       "     fiber_100g  sugars_100g  proteins_100g  fat_100g  saturated-fat_100g  \\\n",
       "2      1.255472     0.371259       0.859435  0.137917           -0.700412   \n",
       "148    2.083100     3.082730      -1.065403 -0.795579           -0.700412   \n",
       "149    1.369627     2.295565      -0.795968 -0.795579           -0.700412   \n",
       "200   -0.399784    -0.332580      -0.225846  0.086695            0.767782   \n",
       "201   -0.513939     0.819560      -0.367029  0.027110           -0.177571   \n",
       "\n",
       "     clust                                          additives  \\\n",
       "2        5   [ peanuts -> en:peanuts  ]  [ wheat-flour -> ...   \n",
       "148      3   [ cranberries -> en:cranberries  ]  [ sugar -...   \n",
       "149      3   [ apricots -> en:apricots  ]  [ sulfur-dioxid...   \n",
       "200      5   [ wheat-flour -> en:wheat-flour  ]  [ flour -...   \n",
       "201      5   [ enriched-wheat-flour -> en:enriched-wheat-f...   \n",
       "\n",
       "     nutrition-score-fr_100g  new_score  \n",
       "2                        0.0          0  \n",
       "148                      8.0          1  \n",
       "149                      8.0          1  \n",
       "200                     18.0          1  \n",
       "201                     14.0          1  "
      ]
     },
     "execution_count": 202,
     "metadata": {},
     "output_type": "execute_result"
    }
   ],
   "source": [
    "sup_df['new_score'] = list(map(lambda x : 1 if x > 6 else 0, sup_df['nutrition-score-fr_100g']))\n",
    "sup_df.head()"
   ]
  },
  {
   "cell_type": "code",
   "execution_count": 203,
   "metadata": {},
   "outputs": [],
   "source": [
    "from xgboost import XGBClassifier\n",
    "from sklearn.model_selection import train_test_split\n",
    "from sklearn.metrics import accuracy_score"
   ]
  },
  {
   "cell_type": "code",
   "execution_count": 204,
   "metadata": {},
   "outputs": [],
   "source": [
    "X = sup_df['clust']\n",
    "y = sup_df['new_score']\n",
    "X_train, X_test, y_train, y_test = train_test_split(X, y, test_size=0.2, random_state=69)"
   ]
  },
  {
   "cell_type": "code",
   "execution_count": 205,
   "metadata": {},
   "outputs": [
    {
     "data": {
      "text/plain": [
       "XGBClassifier(base_score=0.5, booster='gbtree', colsample_bylevel=1,\n",
       "              colsample_bynode=1, colsample_bytree=1, gamma=0, gpu_id=-1,\n",
       "              importance_type='gain', interaction_constraints='',\n",
       "              learning_rate=0.300000012, max_delta_step=0, max_depth=6,\n",
       "              min_child_weight=1, missing=nan, monotone_constraints='()',\n",
       "              n_estimators=100, n_jobs=0, num_parallel_tree=1, random_state=0,\n",
       "              reg_alpha=0, reg_lambda=1, scale_pos_weight=1, subsample=1,\n",
       "              tree_method='exact', validate_parameters=1, verbosity=None)"
      ]
     },
     "execution_count": 205,
     "metadata": {},
     "output_type": "execute_result"
    }
   ],
   "source": [
    "model = XGBClassifier()\n",
    "model.fit(X_train.values.reshape(-1, 1), y_train)"
   ]
  },
  {
   "cell_type": "code",
   "execution_count": 206,
   "metadata": {},
   "outputs": [
    {
     "data": {
      "text/plain": [
       "0.8638036809815951"
      ]
     },
     "execution_count": 206,
     "metadata": {},
     "output_type": "execute_result"
    }
   ],
   "source": [
    "y_pred = model.predict(X_test.values.reshape(-1, 1))\n",
    "accuracy_score(y_test, y_pred)"
   ]
  },
  {
   "cell_type": "markdown",
   "metadata": {},
   "source": [
    "85% accuracy is not bad. Now, how can we use the clusters and text information to predict nutrition score?"
   ]
  },
  {
   "cell_type": "markdown",
   "metadata": {},
   "source": [
    "# In case using cluster info is cheating, lets try regular TF_IDF"
   ]
  },
  {
   "cell_type": "markdown",
   "metadata": {},
   "source": [
    "### EDIT: it is"
   ]
  },
  {
   "cell_type": "code",
   "execution_count": 207,
   "metadata": {},
   "outputs": [
    {
     "data": {
      "text/html": [
       "<div>\n",
       "<style scoped>\n",
       "    .dataframe tbody tr th:only-of-type {\n",
       "        vertical-align: middle;\n",
       "    }\n",
       "\n",
       "    .dataframe tbody tr th {\n",
       "        vertical-align: top;\n",
       "    }\n",
       "\n",
       "    .dataframe thead th {\n",
       "        text-align: right;\n",
       "    }\n",
       "</style>\n",
       "<table border=\"1\" class=\"dataframe\">\n",
       "  <thead>\n",
       "    <tr style=\"text-align: right;\">\n",
       "      <th></th>\n",
       "      <th>ingredients_text</th>\n",
       "      <th>carbohydrates_100g</th>\n",
       "      <th>fiber_100g</th>\n",
       "      <th>sugars_100g</th>\n",
       "      <th>proteins_100g</th>\n",
       "      <th>fat_100g</th>\n",
       "      <th>saturated-fat_100g</th>\n",
       "      <th>clust</th>\n",
       "      <th>additives</th>\n",
       "      <th>nutrition-score-fr_100g</th>\n",
       "      <th>new_score</th>\n",
       "    </tr>\n",
       "  </thead>\n",
       "  <tbody>\n",
       "    <tr>\n",
       "      <th>2</th>\n",
       "      <td>peanuts wheat-flour sugar rice-flour tapioca-s...</td>\n",
       "      <td>1.119606</td>\n",
       "      <td>1.255472</td>\n",
       "      <td>0.371259</td>\n",
       "      <td>0.859435</td>\n",
       "      <td>0.137917</td>\n",
       "      <td>-0.700412</td>\n",
       "      <td>5</td>\n",
       "      <td>[ peanuts -&gt; en:peanuts  ]  [ wheat-flour -&gt; ...</td>\n",
       "      <td>0.0</td>\n",
       "      <td>0</td>\n",
       "    </tr>\n",
       "    <tr>\n",
       "      <th>148</th>\n",
       "      <td>cranberries sugar sunflower-oil</td>\n",
       "      <td>1.896869</td>\n",
       "      <td>2.083100</td>\n",
       "      <td>3.082730</td>\n",
       "      <td>-1.065403</td>\n",
       "      <td>-0.795579</td>\n",
       "      <td>-0.700412</td>\n",
       "      <td>3</td>\n",
       "      <td>[ cranberries -&gt; en:cranberries  ]  [ sugar -...</td>\n",
       "      <td>8.0</td>\n",
       "      <td>1</td>\n",
       "    </tr>\n",
       "    <tr>\n",
       "      <th>149</th>\n",
       "      <td>apricots sulfur-dioxide</td>\n",
       "      <td>1.181114</td>\n",
       "      <td>1.369627</td>\n",
       "      <td>2.295565</td>\n",
       "      <td>-0.795968</td>\n",
       "      <td>-0.795579</td>\n",
       "      <td>-0.700412</td>\n",
       "      <td>3</td>\n",
       "      <td>[ apricots -&gt; en:apricots  ]  [ sulfur-dioxid...</td>\n",
       "      <td>8.0</td>\n",
       "      <td>1</td>\n",
       "    </tr>\n",
       "    <tr>\n",
       "      <th>200</th>\n",
       "      <td>wheat-flour butter cream  water yeast sugar sa...</td>\n",
       "      <td>0.550919</td>\n",
       "      <td>-0.399784</td>\n",
       "      <td>-0.332580</td>\n",
       "      <td>-0.225846</td>\n",
       "      <td>0.086695</td>\n",
       "      <td>0.767782</td>\n",
       "      <td>5</td>\n",
       "      <td>[ wheat-flour -&gt; en:wheat-flour  ]  [ flour -...</td>\n",
       "      <td>18.0</td>\n",
       "      <td>1</td>\n",
       "    </tr>\n",
       "    <tr>\n",
       "      <th>201</th>\n",
       "      <td>enriched-wheat-flour wheat-flour malted-barley...</td>\n",
       "      <td>0.656066</td>\n",
       "      <td>-0.513939</td>\n",
       "      <td>0.819560</td>\n",
       "      <td>-0.367029</td>\n",
       "      <td>0.027110</td>\n",
       "      <td>-0.177571</td>\n",
       "      <td>5</td>\n",
       "      <td>[ enriched-wheat-flour -&gt; en:enriched-wheat-f...</td>\n",
       "      <td>14.0</td>\n",
       "      <td>1</td>\n",
       "    </tr>\n",
       "  </tbody>\n",
       "</table>\n",
       "</div>"
      ],
      "text/plain": [
       "                                      ingredients_text  carbohydrates_100g  \\\n",
       "2    peanuts wheat-flour sugar rice-flour tapioca-s...            1.119606   \n",
       "148                    cranberries sugar sunflower-oil            1.896869   \n",
       "149                            apricots sulfur-dioxide            1.181114   \n",
       "200  wheat-flour butter cream  water yeast sugar sa...            0.550919   \n",
       "201  enriched-wheat-flour wheat-flour malted-barley...            0.656066   \n",
       "\n",
       "     fiber_100g  sugars_100g  proteins_100g  fat_100g  saturated-fat_100g  \\\n",
       "2      1.255472     0.371259       0.859435  0.137917           -0.700412   \n",
       "148    2.083100     3.082730      -1.065403 -0.795579           -0.700412   \n",
       "149    1.369627     2.295565      -0.795968 -0.795579           -0.700412   \n",
       "200   -0.399784    -0.332580      -0.225846  0.086695            0.767782   \n",
       "201   -0.513939     0.819560      -0.367029  0.027110           -0.177571   \n",
       "\n",
       "     clust                                          additives  \\\n",
       "2        5   [ peanuts -> en:peanuts  ]  [ wheat-flour -> ...   \n",
       "148      3   [ cranberries -> en:cranberries  ]  [ sugar -...   \n",
       "149      3   [ apricots -> en:apricots  ]  [ sulfur-dioxid...   \n",
       "200      5   [ wheat-flour -> en:wheat-flour  ]  [ flour -...   \n",
       "201      5   [ enriched-wheat-flour -> en:enriched-wheat-f...   \n",
       "\n",
       "     nutrition-score-fr_100g  new_score  \n",
       "2                        0.0          0  \n",
       "148                      8.0          1  \n",
       "149                      8.0          1  \n",
       "200                     18.0          1  \n",
       "201                     14.0          1  "
      ]
     },
     "execution_count": 207,
     "metadata": {},
     "output_type": "execute_result"
    }
   ],
   "source": [
    "sup_df.head()"
   ]
  },
  {
   "cell_type": "markdown",
   "metadata": {},
   "source": [
    "### Clean additives"
   ]
  },
  {
   "cell_type": "code",
   "execution_count": 208,
   "metadata": {},
   "outputs": [],
   "source": [
    "clean_additives = lambda s: re.sub(r'[^a-z- ]+' , \" \", s.lower().replace(\"en:\",\"\").replace(\"->\",\"\")).strip()\n",
    "sup_df[\"additives\"] = sup_df[\"additives\"].apply(clean_additives)"
   ]
  },
  {
   "cell_type": "code",
   "execution_count": 209,
   "metadata": {},
   "outputs": [
    {
     "data": {
      "text/html": [
       "<div>\n",
       "<style scoped>\n",
       "    .dataframe tbody tr th:only-of-type {\n",
       "        vertical-align: middle;\n",
       "    }\n",
       "\n",
       "    .dataframe tbody tr th {\n",
       "        vertical-align: top;\n",
       "    }\n",
       "\n",
       "    .dataframe thead th {\n",
       "        text-align: right;\n",
       "    }\n",
       "</style>\n",
       "<table border=\"1\" class=\"dataframe\">\n",
       "  <thead>\n",
       "    <tr style=\"text-align: right;\">\n",
       "      <th></th>\n",
       "      <th>ingredients_text</th>\n",
       "      <th>carbohydrates_100g</th>\n",
       "      <th>fiber_100g</th>\n",
       "      <th>sugars_100g</th>\n",
       "      <th>proteins_100g</th>\n",
       "      <th>fat_100g</th>\n",
       "      <th>saturated-fat_100g</th>\n",
       "      <th>clust</th>\n",
       "      <th>additives</th>\n",
       "      <th>nutrition-score-fr_100g</th>\n",
       "      <th>new_score</th>\n",
       "    </tr>\n",
       "  </thead>\n",
       "  <tbody>\n",
       "    <tr>\n",
       "      <th>2</th>\n",
       "      <td>peanuts wheat-flour sugar rice-flour tapioca-s...</td>\n",
       "      <td>1.119606</td>\n",
       "      <td>1.255472</td>\n",
       "      <td>0.371259</td>\n",
       "      <td>0.859435</td>\n",
       "      <td>0.137917</td>\n",
       "      <td>-0.700412</td>\n",
       "      <td>5</td>\n",
       "      <td>peanuts  peanuts       wheat-flour  wheat-flou...</td>\n",
       "      <td>0.0</td>\n",
       "      <td>0</td>\n",
       "    </tr>\n",
       "    <tr>\n",
       "      <th>148</th>\n",
       "      <td>cranberries sugar sunflower-oil</td>\n",
       "      <td>1.896869</td>\n",
       "      <td>2.083100</td>\n",
       "      <td>3.082730</td>\n",
       "      <td>-1.065403</td>\n",
       "      <td>-0.795579</td>\n",
       "      <td>-0.700412</td>\n",
       "      <td>3</td>\n",
       "      <td>cranberries  cranberries       sugar  sugar   ...</td>\n",
       "      <td>8.0</td>\n",
       "      <td>1</td>\n",
       "    </tr>\n",
       "    <tr>\n",
       "      <th>149</th>\n",
       "      <td>apricots sulfur-dioxide</td>\n",
       "      <td>1.181114</td>\n",
       "      <td>1.369627</td>\n",
       "      <td>2.295565</td>\n",
       "      <td>-0.795968</td>\n",
       "      <td>-0.795579</td>\n",
       "      <td>-0.700412</td>\n",
       "      <td>3</td>\n",
       "      <td>apricots  apricots       sulfur-dioxide  e    ...</td>\n",
       "      <td>8.0</td>\n",
       "      <td>1</td>\n",
       "    </tr>\n",
       "    <tr>\n",
       "      <th>200</th>\n",
       "      <td>wheat-flour butter cream  water yeast sugar sa...</td>\n",
       "      <td>0.550919</td>\n",
       "      <td>-0.399784</td>\n",
       "      <td>-0.332580</td>\n",
       "      <td>-0.225846</td>\n",
       "      <td>0.086695</td>\n",
       "      <td>0.767782</td>\n",
       "      <td>5</td>\n",
       "      <td>wheat-flour  wheat-flour       flour  flour   ...</td>\n",
       "      <td>18.0</td>\n",
       "      <td>1</td>\n",
       "    </tr>\n",
       "    <tr>\n",
       "      <th>201</th>\n",
       "      <td>enriched-wheat-flour wheat-flour malted-barley...</td>\n",
       "      <td>0.656066</td>\n",
       "      <td>-0.513939</td>\n",
       "      <td>0.819560</td>\n",
       "      <td>-0.367029</td>\n",
       "      <td>0.027110</td>\n",
       "      <td>-0.177571</td>\n",
       "      <td>5</td>\n",
       "      <td>enriched-wheat-flour  enriched-wheat-flour    ...</td>\n",
       "      <td>14.0</td>\n",
       "      <td>1</td>\n",
       "    </tr>\n",
       "  </tbody>\n",
       "</table>\n",
       "</div>"
      ],
      "text/plain": [
       "                                      ingredients_text  carbohydrates_100g  \\\n",
       "2    peanuts wheat-flour sugar rice-flour tapioca-s...            1.119606   \n",
       "148                    cranberries sugar sunflower-oil            1.896869   \n",
       "149                            apricots sulfur-dioxide            1.181114   \n",
       "200  wheat-flour butter cream  water yeast sugar sa...            0.550919   \n",
       "201  enriched-wheat-flour wheat-flour malted-barley...            0.656066   \n",
       "\n",
       "     fiber_100g  sugars_100g  proteins_100g  fat_100g  saturated-fat_100g  \\\n",
       "2      1.255472     0.371259       0.859435  0.137917           -0.700412   \n",
       "148    2.083100     3.082730      -1.065403 -0.795579           -0.700412   \n",
       "149    1.369627     2.295565      -0.795968 -0.795579           -0.700412   \n",
       "200   -0.399784    -0.332580      -0.225846  0.086695            0.767782   \n",
       "201   -0.513939     0.819560      -0.367029  0.027110           -0.177571   \n",
       "\n",
       "     clust                                          additives  \\\n",
       "2        5  peanuts  peanuts       wheat-flour  wheat-flou...   \n",
       "148      3  cranberries  cranberries       sugar  sugar   ...   \n",
       "149      3  apricots  apricots       sulfur-dioxide  e    ...   \n",
       "200      5  wheat-flour  wheat-flour       flour  flour   ...   \n",
       "201      5  enriched-wheat-flour  enriched-wheat-flour    ...   \n",
       "\n",
       "     nutrition-score-fr_100g  new_score  \n",
       "2                        0.0          0  \n",
       "148                      8.0          1  \n",
       "149                      8.0          1  \n",
       "200                     18.0          1  \n",
       "201                     14.0          1  "
      ]
     },
     "execution_count": 209,
     "metadata": {},
     "output_type": "execute_result"
    }
   ],
   "source": [
    "sup_df.head()"
   ]
  },
  {
   "cell_type": "markdown",
   "metadata": {},
   "source": [
    "### TF-IDF Additives"
   ]
  },
  {
   "cell_type": "code",
   "execution_count": 210,
   "metadata": {},
   "outputs": [],
   "source": [
    "my_stop_words = set( stopwords.words('english')+ \\\n",
    "                    ['de', 'contains', 's', 'et', 'of', 'en', \"fr\",'less', 'p', 'exists', 'following', 'ok'])"
   ]
  },
  {
   "cell_type": "code",
   "execution_count": 211,
   "metadata": {},
   "outputs": [
    {
     "data": {
      "text/html": [
       "<div>\n",
       "<style scoped>\n",
       "    .dataframe tbody tr th:only-of-type {\n",
       "        vertical-align: middle;\n",
       "    }\n",
       "\n",
       "    .dataframe tbody tr th {\n",
       "        vertical-align: top;\n",
       "    }\n",
       "\n",
       "    .dataframe thead th {\n",
       "        text-align: right;\n",
       "    }\n",
       "</style>\n",
       "<table border=\"1\" class=\"dataframe\">\n",
       "  <thead>\n",
       "    <tr style=\"text-align: right;\">\n",
       "      <th></th>\n",
       "      <th>ADD:--</th>\n",
       "      <th>ADD:acid</th>\n",
       "      <th>ADD:almonds</th>\n",
       "      <th>ADD:butter</th>\n",
       "      <th>ADD:cheese-culture</th>\n",
       "      <th>ADD:citric-acid</th>\n",
       "      <th>ADD:corn-syrup</th>\n",
       "      <th>ADD:cream</th>\n",
       "      <th>ADD:culture</th>\n",
       "      <th>ADD:enzymes</th>\n",
       "      <th>...</th>\n",
       "      <th>ADD:salt</th>\n",
       "      <th>ADD:sea-salt</th>\n",
       "      <th>ADD:semolina</th>\n",
       "      <th>ADD:soy-lecithin</th>\n",
       "      <th>ADD:starch</th>\n",
       "      <th>ADD:sugar</th>\n",
       "      <th>ADD:syrup</th>\n",
       "      <th>ADD:thiamin-mononitrate</th>\n",
       "      <th>ADD:water</th>\n",
       "      <th>ADD:wheat-flour</th>\n",
       "    </tr>\n",
       "  </thead>\n",
       "  <tbody>\n",
       "    <tr>\n",
       "      <th>0</th>\n",
       "      <td>0.000000</td>\n",
       "      <td>0.000000</td>\n",
       "      <td>0.0</td>\n",
       "      <td>0.000000</td>\n",
       "      <td>0.0</td>\n",
       "      <td>0.0</td>\n",
       "      <td>0.0</td>\n",
       "      <td>0.000000</td>\n",
       "      <td>0.0</td>\n",
       "      <td>0.000000</td>\n",
       "      <td>...</td>\n",
       "      <td>0.294725</td>\n",
       "      <td>0.0</td>\n",
       "      <td>0.0</td>\n",
       "      <td>0.0</td>\n",
       "      <td>0.671666</td>\n",
       "      <td>0.194167</td>\n",
       "      <td>0.0</td>\n",
       "      <td>0.0</td>\n",
       "      <td>0.198986</td>\n",
       "      <td>0.306027</td>\n",
       "    </tr>\n",
       "    <tr>\n",
       "      <th>1</th>\n",
       "      <td>0.000000</td>\n",
       "      <td>0.000000</td>\n",
       "      <td>0.0</td>\n",
       "      <td>0.000000</td>\n",
       "      <td>0.0</td>\n",
       "      <td>0.0</td>\n",
       "      <td>0.0</td>\n",
       "      <td>0.000000</td>\n",
       "      <td>0.0</td>\n",
       "      <td>0.000000</td>\n",
       "      <td>...</td>\n",
       "      <td>0.000000</td>\n",
       "      <td>0.0</td>\n",
       "      <td>0.0</td>\n",
       "      <td>0.0</td>\n",
       "      <td>0.000000</td>\n",
       "      <td>0.619826</td>\n",
       "      <td>0.0</td>\n",
       "      <td>0.0</td>\n",
       "      <td>0.000000</td>\n",
       "      <td>0.000000</td>\n",
       "    </tr>\n",
       "    <tr>\n",
       "      <th>2</th>\n",
       "      <td>1.000000</td>\n",
       "      <td>0.000000</td>\n",
       "      <td>0.0</td>\n",
       "      <td>0.000000</td>\n",
       "      <td>0.0</td>\n",
       "      <td>0.0</td>\n",
       "      <td>0.0</td>\n",
       "      <td>0.000000</td>\n",
       "      <td>0.0</td>\n",
       "      <td>0.000000</td>\n",
       "      <td>...</td>\n",
       "      <td>0.000000</td>\n",
       "      <td>0.0</td>\n",
       "      <td>0.0</td>\n",
       "      <td>0.0</td>\n",
       "      <td>0.000000</td>\n",
       "      <td>0.000000</td>\n",
       "      <td>0.0</td>\n",
       "      <td>0.0</td>\n",
       "      <td>0.000000</td>\n",
       "      <td>0.000000</td>\n",
       "    </tr>\n",
       "    <tr>\n",
       "      <th>3</th>\n",
       "      <td>0.106418</td>\n",
       "      <td>0.000000</td>\n",
       "      <td>0.0</td>\n",
       "      <td>0.432528</td>\n",
       "      <td>0.0</td>\n",
       "      <td>0.0</td>\n",
       "      <td>0.0</td>\n",
       "      <td>0.462793</td>\n",
       "      <td>0.0</td>\n",
       "      <td>0.346258</td>\n",
       "      <td>...</td>\n",
       "      <td>0.195576</td>\n",
       "      <td>0.0</td>\n",
       "      <td>0.0</td>\n",
       "      <td>0.0</td>\n",
       "      <td>0.000000</td>\n",
       "      <td>0.257694</td>\n",
       "      <td>0.0</td>\n",
       "      <td>0.0</td>\n",
       "      <td>0.264089</td>\n",
       "      <td>0.406151</td>\n",
       "    </tr>\n",
       "    <tr>\n",
       "      <th>4</th>\n",
       "      <td>0.167177</td>\n",
       "      <td>0.204148</td>\n",
       "      <td>0.0</td>\n",
       "      <td>0.000000</td>\n",
       "      <td>0.0</td>\n",
       "      <td>0.0</td>\n",
       "      <td>0.0</td>\n",
       "      <td>0.000000</td>\n",
       "      <td>0.0</td>\n",
       "      <td>0.000000</td>\n",
       "      <td>...</td>\n",
       "      <td>0.000000</td>\n",
       "      <td>0.0</td>\n",
       "      <td>0.0</td>\n",
       "      <td>0.0</td>\n",
       "      <td>0.233395</td>\n",
       "      <td>0.134941</td>\n",
       "      <td>0.0</td>\n",
       "      <td>0.0</td>\n",
       "      <td>0.138290</td>\n",
       "      <td>0.425361</td>\n",
       "    </tr>\n",
       "  </tbody>\n",
       "</table>\n",
       "<p>5 rows × 30 columns</p>\n",
       "</div>"
      ],
      "text/plain": [
       "     ADD:--  ADD:acid  ADD:almonds  ADD:butter  ADD:cheese-culture  \\\n",
       "0  0.000000  0.000000          0.0    0.000000                 0.0   \n",
       "1  0.000000  0.000000          0.0    0.000000                 0.0   \n",
       "2  1.000000  0.000000          0.0    0.000000                 0.0   \n",
       "3  0.106418  0.000000          0.0    0.432528                 0.0   \n",
       "4  0.167177  0.204148          0.0    0.000000                 0.0   \n",
       "\n",
       "   ADD:citric-acid  ADD:corn-syrup  ADD:cream  ADD:culture  ADD:enzymes  ...  \\\n",
       "0              0.0             0.0   0.000000          0.0     0.000000  ...   \n",
       "1              0.0             0.0   0.000000          0.0     0.000000  ...   \n",
       "2              0.0             0.0   0.000000          0.0     0.000000  ...   \n",
       "3              0.0             0.0   0.462793          0.0     0.346258  ...   \n",
       "4              0.0             0.0   0.000000          0.0     0.000000  ...   \n",
       "\n",
       "   ADD:salt  ADD:sea-salt  ADD:semolina  ADD:soy-lecithin  ADD:starch  \\\n",
       "0  0.294725           0.0           0.0               0.0    0.671666   \n",
       "1  0.000000           0.0           0.0               0.0    0.000000   \n",
       "2  0.000000           0.0           0.0               0.0    0.000000   \n",
       "3  0.195576           0.0           0.0               0.0    0.000000   \n",
       "4  0.000000           0.0           0.0               0.0    0.233395   \n",
       "\n",
       "   ADD:sugar  ADD:syrup  ADD:thiamin-mononitrate  ADD:water  ADD:wheat-flour  \n",
       "0   0.194167        0.0                      0.0   0.198986         0.306027  \n",
       "1   0.619826        0.0                      0.0   0.000000         0.000000  \n",
       "2   0.000000        0.0                      0.0   0.000000         0.000000  \n",
       "3   0.257694        0.0                      0.0   0.264089         0.406151  \n",
       "4   0.134941        0.0                      0.0   0.138290         0.425361  \n",
       "\n",
       "[5 rows x 30 columns]"
      ]
     },
     "execution_count": 211,
     "metadata": {},
     "output_type": "execute_result"
    }
   ],
   "source": [
    "### Instantiate\n",
    "vectorizer = text.TfidfVectorizer(strip_accents=\"unicode\",stop_words=my_stop_words, \\\n",
    "                                  ngram_range=(1,1),max_features=30, \\\n",
    "                                  encoding=\"utf-8\", token_pattern=r\"(?u)\\S\\S+\")\n",
    "\n",
    "### Fit \n",
    "vectors = vectorizer.fit_transform(sup_df[\"additives\"])\n",
    "feature_names = vectorizer.get_feature_names()\n",
    "dense = vectors.todense()\n",
    "\n",
    "feature_names = [\"ADD:\" + fn for fn in feature_names]\n",
    "df_additive_features = pd.DataFrame(dense, columns=feature_names)\n",
    "\n",
    "df_additive_features.head()"
   ]
  },
  {
   "cell_type": "code",
   "execution_count": 222,
   "metadata": {},
   "outputs": [
    {
     "data": {
      "text/plain": [
       "<matplotlib.axes._subplots.AxesSubplot at 0x176a10ac8>"
      ]
     },
     "execution_count": 222,
     "metadata": {},
     "output_type": "execute_result"
    },
    {
     "data": {
      "image/png": "[encoded data removed]",
      "text/plain": [
       "<Figure size 792x648 with 2 Axes>"
      ]
     },
     "metadata": {},
     "output_type": "display_data"
    }
   ],
   "source": [
    "# Compute the correlation matrix\n",
    "corr = df_additive_features.corr()\n",
    "\n",
    "# Generate a mask for the upper triangle\n",
    "mask = np.triu(np.ones_like(corr, dtype=bool))\n",
    "\n",
    "# Set up the matplotlib figure\n",
    "f, ax = plt.subplots(figsize=(11, 9))\n",
    "\n",
    "# Generate a custom diverging colormap\n",
    "cmap = sns.diverging_palette(230, 20, as_cmap=True)\n",
    "\n",
    "# Draw the heatmap with the mask and correct aspect ratio\n",
    "sns.heatmap(corr, mask=mask, cmap=cmap, vmax=.3, center=0,\n",
    "            square=True, linewidths=.5, cbar_kws={\"shrink\": .5})"
   ]
  },
  {
   "cell_type": "markdown",
   "metadata": {},
   "source": [
    "### TF-IDF Ingredients"
   ]
  },
  {
   "cell_type": "code",
   "execution_count": 215,
   "metadata": {},
   "outputs": [
    {
     "data": {
      "text/html": [
       "<div>\n",
       "<style scoped>\n",
       "    .dataframe tbody tr th:only-of-type {\n",
       "        vertical-align: middle;\n",
       "    }\n",
       "\n",
       "    .dataframe tbody tr th {\n",
       "        vertical-align: top;\n",
       "    }\n",
       "\n",
       "    .dataframe thead th {\n",
       "        text-align: right;\n",
       "    }\n",
       "</style>\n",
       "<table border=\"1\" class=\"dataframe\">\n",
       "  <thead>\n",
       "    <tr style=\"text-align: right;\">\n",
       "      <th></th>\n",
       "      <th>ING:almonds</th>\n",
       "      <th>ING:cheese-culture</th>\n",
       "      <th>ING:citric-acid</th>\n",
       "      <th>ING:cocoa-butter</th>\n",
       "      <th>ING:corn</th>\n",
       "      <th>ING:corn-syrup</th>\n",
       "      <th>ING:cream</th>\n",
       "      <th>ING:dextrose</th>\n",
       "      <th>ING:enzymes</th>\n",
       "      <th>ING:ferrous-sulfate</th>\n",
       "      <th>...</th>\n",
       "      <th>ING:sea-salt</th>\n",
       "      <th>ING:semolina</th>\n",
       "      <th>ING:soy-lecithin</th>\n",
       "      <th>ING:spices</th>\n",
       "      <th>ING:sugar</th>\n",
       "      <th>ING:thiamin-mononitrate</th>\n",
       "      <th>ING:thiamine-mononitrate</th>\n",
       "      <th>ING:water</th>\n",
       "      <th>ING:wheat</th>\n",
       "      <th>ING:wheat-flour</th>\n",
       "    </tr>\n",
       "  </thead>\n",
       "  <tbody>\n",
       "    <tr>\n",
       "      <th>0</th>\n",
       "      <td>0.0</td>\n",
       "      <td>0.0</td>\n",
       "      <td>0.000000</td>\n",
       "      <td>0.0</td>\n",
       "      <td>0.0</td>\n",
       "      <td>0.0</td>\n",
       "      <td>0.000000</td>\n",
       "      <td>0.0</td>\n",
       "      <td>0.000000</td>\n",
       "      <td>0.0</td>\n",
       "      <td>...</td>\n",
       "      <td>0.0</td>\n",
       "      <td>0.0</td>\n",
       "      <td>0.0</td>\n",
       "      <td>0.000000</td>\n",
       "      <td>0.260082</td>\n",
       "      <td>0.0</td>\n",
       "      <td>0.000000</td>\n",
       "      <td>0.267977</td>\n",
       "      <td>0.511788</td>\n",
       "      <td>0.443854</td>\n",
       "    </tr>\n",
       "    <tr>\n",
       "      <th>1</th>\n",
       "      <td>0.0</td>\n",
       "      <td>0.0</td>\n",
       "      <td>0.000000</td>\n",
       "      <td>0.0</td>\n",
       "      <td>0.0</td>\n",
       "      <td>0.0</td>\n",
       "      <td>0.000000</td>\n",
       "      <td>0.0</td>\n",
       "      <td>0.000000</td>\n",
       "      <td>0.0</td>\n",
       "      <td>...</td>\n",
       "      <td>0.0</td>\n",
       "      <td>0.0</td>\n",
       "      <td>0.0</td>\n",
       "      <td>0.000000</td>\n",
       "      <td>1.000000</td>\n",
       "      <td>0.0</td>\n",
       "      <td>0.000000</td>\n",
       "      <td>0.000000</td>\n",
       "      <td>0.000000</td>\n",
       "      <td>0.000000</td>\n",
       "    </tr>\n",
       "    <tr>\n",
       "      <th>2</th>\n",
       "      <td>0.0</td>\n",
       "      <td>0.0</td>\n",
       "      <td>0.000000</td>\n",
       "      <td>0.0</td>\n",
       "      <td>0.0</td>\n",
       "      <td>0.0</td>\n",
       "      <td>0.000000</td>\n",
       "      <td>0.0</td>\n",
       "      <td>0.000000</td>\n",
       "      <td>0.0</td>\n",
       "      <td>...</td>\n",
       "      <td>0.0</td>\n",
       "      <td>0.0</td>\n",
       "      <td>0.0</td>\n",
       "      <td>0.000000</td>\n",
       "      <td>0.000000</td>\n",
       "      <td>0.0</td>\n",
       "      <td>0.000000</td>\n",
       "      <td>0.000000</td>\n",
       "      <td>0.000000</td>\n",
       "      <td>0.000000</td>\n",
       "    </tr>\n",
       "    <tr>\n",
       "      <th>3</th>\n",
       "      <td>0.0</td>\n",
       "      <td>0.0</td>\n",
       "      <td>0.000000</td>\n",
       "      <td>0.0</td>\n",
       "      <td>0.0</td>\n",
       "      <td>0.0</td>\n",
       "      <td>0.554896</td>\n",
       "      <td>0.0</td>\n",
       "      <td>0.411416</td>\n",
       "      <td>0.0</td>\n",
       "      <td>...</td>\n",
       "      <td>0.0</td>\n",
       "      <td>0.0</td>\n",
       "      <td>0.0</td>\n",
       "      <td>0.000000</td>\n",
       "      <td>0.304961</td>\n",
       "      <td>0.0</td>\n",
       "      <td>0.000000</td>\n",
       "      <td>0.314219</td>\n",
       "      <td>0.000000</td>\n",
       "      <td>0.520445</td>\n",
       "    </tr>\n",
       "    <tr>\n",
       "      <th>4</th>\n",
       "      <td>0.0</td>\n",
       "      <td>0.0</td>\n",
       "      <td>0.000000</td>\n",
       "      <td>0.0</td>\n",
       "      <td>0.0</td>\n",
       "      <td>0.0</td>\n",
       "      <td>0.000000</td>\n",
       "      <td>0.0</td>\n",
       "      <td>0.000000</td>\n",
       "      <td>0.0</td>\n",
       "      <td>...</td>\n",
       "      <td>0.0</td>\n",
       "      <td>0.0</td>\n",
       "      <td>0.0</td>\n",
       "      <td>0.000000</td>\n",
       "      <td>0.218663</td>\n",
       "      <td>0.0</td>\n",
       "      <td>0.395347</td>\n",
       "      <td>0.225301</td>\n",
       "      <td>0.000000</td>\n",
       "      <td>0.373168</td>\n",
       "    </tr>\n",
       "    <tr>\n",
       "      <th>...</th>\n",
       "      <td>...</td>\n",
       "      <td>...</td>\n",
       "      <td>...</td>\n",
       "      <td>...</td>\n",
       "      <td>...</td>\n",
       "      <td>...</td>\n",
       "      <td>...</td>\n",
       "      <td>...</td>\n",
       "      <td>...</td>\n",
       "      <td>...</td>\n",
       "      <td>...</td>\n",
       "      <td>...</td>\n",
       "      <td>...</td>\n",
       "      <td>...</td>\n",
       "      <td>...</td>\n",
       "      <td>...</td>\n",
       "      <td>...</td>\n",
       "      <td>...</td>\n",
       "      <td>...</td>\n",
       "      <td>...</td>\n",
       "      <td>...</td>\n",
       "    </tr>\n",
       "    <tr>\n",
       "      <th>12217</th>\n",
       "      <td>1.0</td>\n",
       "      <td>0.0</td>\n",
       "      <td>0.000000</td>\n",
       "      <td>0.0</td>\n",
       "      <td>0.0</td>\n",
       "      <td>0.0</td>\n",
       "      <td>0.000000</td>\n",
       "      <td>0.0</td>\n",
       "      <td>0.000000</td>\n",
       "      <td>0.0</td>\n",
       "      <td>...</td>\n",
       "      <td>0.0</td>\n",
       "      <td>0.0</td>\n",
       "      <td>0.0</td>\n",
       "      <td>0.000000</td>\n",
       "      <td>0.000000</td>\n",
       "      <td>0.0</td>\n",
       "      <td>0.000000</td>\n",
       "      <td>0.000000</td>\n",
       "      <td>0.000000</td>\n",
       "      <td>0.000000</td>\n",
       "    </tr>\n",
       "    <tr>\n",
       "      <th>12218</th>\n",
       "      <td>0.0</td>\n",
       "      <td>0.0</td>\n",
       "      <td>0.000000</td>\n",
       "      <td>0.0</td>\n",
       "      <td>0.0</td>\n",
       "      <td>0.0</td>\n",
       "      <td>0.000000</td>\n",
       "      <td>0.0</td>\n",
       "      <td>0.000000</td>\n",
       "      <td>0.0</td>\n",
       "      <td>...</td>\n",
       "      <td>0.0</td>\n",
       "      <td>0.0</td>\n",
       "      <td>0.0</td>\n",
       "      <td>0.000000</td>\n",
       "      <td>0.000000</td>\n",
       "      <td>0.0</td>\n",
       "      <td>0.000000</td>\n",
       "      <td>0.000000</td>\n",
       "      <td>0.000000</td>\n",
       "      <td>0.000000</td>\n",
       "    </tr>\n",
       "    <tr>\n",
       "      <th>12219</th>\n",
       "      <td>0.0</td>\n",
       "      <td>0.0</td>\n",
       "      <td>0.544436</td>\n",
       "      <td>0.0</td>\n",
       "      <td>0.0</td>\n",
       "      <td>0.0</td>\n",
       "      <td>0.000000</td>\n",
       "      <td>0.0</td>\n",
       "      <td>0.000000</td>\n",
       "      <td>0.0</td>\n",
       "      <td>...</td>\n",
       "      <td>0.0</td>\n",
       "      <td>0.0</td>\n",
       "      <td>0.0</td>\n",
       "      <td>0.682176</td>\n",
       "      <td>0.380248</td>\n",
       "      <td>0.0</td>\n",
       "      <td>0.000000</td>\n",
       "      <td>0.000000</td>\n",
       "      <td>0.000000</td>\n",
       "      <td>0.000000</td>\n",
       "    </tr>\n",
       "    <tr>\n",
       "      <th>12220</th>\n",
       "      <td>0.0</td>\n",
       "      <td>0.0</td>\n",
       "      <td>0.000000</td>\n",
       "      <td>0.0</td>\n",
       "      <td>0.0</td>\n",
       "      <td>0.0</td>\n",
       "      <td>0.000000</td>\n",
       "      <td>0.0</td>\n",
       "      <td>0.000000</td>\n",
       "      <td>0.0</td>\n",
       "      <td>...</td>\n",
       "      <td>0.0</td>\n",
       "      <td>0.0</td>\n",
       "      <td>0.0</td>\n",
       "      <td>0.000000</td>\n",
       "      <td>0.000000</td>\n",
       "      <td>0.0</td>\n",
       "      <td>0.000000</td>\n",
       "      <td>0.000000</td>\n",
       "      <td>0.000000</td>\n",
       "      <td>0.000000</td>\n",
       "    </tr>\n",
       "    <tr>\n",
       "      <th>12221</th>\n",
       "      <td>0.0</td>\n",
       "      <td>0.0</td>\n",
       "      <td>0.000000</td>\n",
       "      <td>0.0</td>\n",
       "      <td>0.0</td>\n",
       "      <td>0.0</td>\n",
       "      <td>0.000000</td>\n",
       "      <td>0.0</td>\n",
       "      <td>0.000000</td>\n",
       "      <td>0.0</td>\n",
       "      <td>...</td>\n",
       "      <td>0.0</td>\n",
       "      <td>0.0</td>\n",
       "      <td>0.0</td>\n",
       "      <td>0.000000</td>\n",
       "      <td>0.000000</td>\n",
       "      <td>0.0</td>\n",
       "      <td>0.000000</td>\n",
       "      <td>0.000000</td>\n",
       "      <td>0.000000</td>\n",
       "      <td>0.000000</td>\n",
       "    </tr>\n",
       "  </tbody>\n",
       "</table>\n",
       "<p>12222 rows × 30 columns</p>\n",
       "</div>"
      ],
      "text/plain": [
       "       ING:almonds  ING:cheese-culture  ING:citric-acid  ING:cocoa-butter  \\\n",
       "0              0.0                 0.0         0.000000               0.0   \n",
       "1              0.0                 0.0         0.000000               0.0   \n",
       "2              0.0                 0.0         0.000000               0.0   \n",
       "3              0.0                 0.0         0.000000               0.0   \n",
       "4              0.0                 0.0         0.000000               0.0   \n",
       "...            ...                 ...              ...               ...   \n",
       "12217          1.0                 0.0         0.000000               0.0   \n",
       "12218          0.0                 0.0         0.000000               0.0   \n",
       "12219          0.0                 0.0         0.544436               0.0   \n",
       "12220          0.0                 0.0         0.000000               0.0   \n",
       "12221          0.0                 0.0         0.000000               0.0   \n",
       "\n",
       "       ING:corn  ING:corn-syrup  ING:cream  ING:dextrose  ING:enzymes  \\\n",
       "0           0.0             0.0   0.000000           0.0     0.000000   \n",
       "1           0.0             0.0   0.000000           0.0     0.000000   \n",
       "2           0.0             0.0   0.000000           0.0     0.000000   \n",
       "3           0.0             0.0   0.554896           0.0     0.411416   \n",
       "4           0.0             0.0   0.000000           0.0     0.000000   \n",
       "...         ...             ...        ...           ...          ...   \n",
       "12217       0.0             0.0   0.000000           0.0     0.000000   \n",
       "12218       0.0             0.0   0.000000           0.0     0.000000   \n",
       "12219       0.0             0.0   0.000000           0.0     0.000000   \n",
       "12220       0.0             0.0   0.000000           0.0     0.000000   \n",
       "12221       0.0             0.0   0.000000           0.0     0.000000   \n",
       "\n",
       "       ING:ferrous-sulfate  ...  ING:sea-salt  ING:semolina  ING:soy-lecithin  \\\n",
       "0                      0.0  ...           0.0           0.0               0.0   \n",
       "1                      0.0  ...           0.0           0.0               0.0   \n",
       "2                      0.0  ...           0.0           0.0               0.0   \n",
       "3                      0.0  ...           0.0           0.0               0.0   \n",
       "4                      0.0  ...           0.0           0.0               0.0   \n",
       "...                    ...  ...           ...           ...               ...   \n",
       "12217                  0.0  ...           0.0           0.0               0.0   \n",
       "12218                  0.0  ...           0.0           0.0               0.0   \n",
       "12219                  0.0  ...           0.0           0.0               0.0   \n",
       "12220                  0.0  ...           0.0           0.0               0.0   \n",
       "12221                  0.0  ...           0.0           0.0               0.0   \n",
       "\n",
       "       ING:spices  ING:sugar  ING:thiamin-mononitrate  \\\n",
       "0        0.000000   0.260082                      0.0   \n",
       "1        0.000000   1.000000                      0.0   \n",
       "2        0.000000   0.000000                      0.0   \n",
       "3        0.000000   0.304961                      0.0   \n",
       "4        0.000000   0.218663                      0.0   \n",
       "...           ...        ...                      ...   \n",
       "12217    0.000000   0.000000                      0.0   \n",
       "12218    0.000000   0.000000                      0.0   \n",
       "12219    0.682176   0.380248                      0.0   \n",
       "12220    0.000000   0.000000                      0.0   \n",
       "12221    0.000000   0.000000                      0.0   \n",
       "\n",
       "       ING:thiamine-mononitrate  ING:water  ING:wheat  ING:wheat-flour  \n",
       "0                      0.000000   0.267977   0.511788         0.443854  \n",
       "1                      0.000000   0.000000   0.000000         0.000000  \n",
       "2                      0.000000   0.000000   0.000000         0.000000  \n",
       "3                      0.000000   0.314219   0.000000         0.520445  \n",
       "4                      0.395347   0.225301   0.000000         0.373168  \n",
       "...                         ...        ...        ...              ...  \n",
       "12217                  0.000000   0.000000   0.000000         0.000000  \n",
       "12218                  0.000000   0.000000   0.000000         0.000000  \n",
       "12219                  0.000000   0.000000   0.000000         0.000000  \n",
       "12220                  0.000000   0.000000   0.000000         0.000000  \n",
       "12221                  0.000000   0.000000   0.000000         0.000000  \n",
       "\n",
       "[12222 rows x 30 columns]"
      ]
     },
     "execution_count": 215,
     "metadata": {},
     "output_type": "execute_result"
    }
   ],
   "source": [
    "### Instantiate\n",
    "vectorizer = text.TfidfVectorizer(strip_accents=\"unicode\",stop_words=my_stop_words, \\\n",
    "                                  ngram_range=(1,1),max_features=30, \\\n",
    "                                  encoding=\"utf-8\", token_pattern=r\"(?u)\\S\\S+\")\n",
    "\n",
    "### Fit \n",
    "vectors = vectorizer.fit_transform(sup_df[\"ingredients_text\"])\n",
    "feature_names = vectorizer.get_feature_names()\n",
    "dense = vectors.todense()\n",
    "\n",
    "feature_names = [\"ING:\" + fn for fn in feature_names]\n",
    "df_ingre_features = pd.DataFrame(dense, columns=feature_names)\n",
    "\n",
    "df_ingre_features"
   ]
  },
  {
   "cell_type": "code",
   "execution_count": 223,
   "metadata": {},
   "outputs": [
    {
     "data": {
      "text/plain": [
       "<matplotlib.axes._subplots.AxesSubplot at 0x176af2f98>"
      ]
     },
     "execution_count": 223,
     "metadata": {},
     "output_type": "execute_result"
    },
    {
     "data": {
      "image/png": "[encoded data removed]",
      "text/plain": [
       "<Figure size 792x648 with 2 Axes>"
      ]
     },
     "metadata": {},
     "output_type": "display_data"
    }
   ],
   "source": [
    "# Compute the correlation matrix\n",
    "corr = df_ingre_features.corr()\n",
    "\n",
    "# Generate a mask for the upper triangle\n",
    "mask = np.triu(np.ones_like(corr, dtype=bool))\n",
    "\n",
    "# Set up the matplotlib figure\n",
    "f, ax = plt.subplots(figsize=(11, 9))\n",
    "\n",
    "# Generate a custom diverging colormap\n",
    "cmap = sns.diverging_palette(230, 20, as_cmap=True)\n",
    "\n",
    "# Draw the heatmap with the mask and correct aspect ratio\n",
    "sns.heatmap(corr, mask=mask, cmap=cmap, vmax=.3, center=0,\n",
    "            square=True, linewidths=.5, cbar_kws={\"shrink\": .5})"
   ]
  },
  {
   "cell_type": "markdown",
   "metadata": {},
   "source": [
    "### Concatenate "
   ]
  },
  {
   "cell_type": "code",
   "execution_count": 217,
   "metadata": {},
   "outputs": [],
   "source": [
    "df_feats = pd.concat([df_additive_features, df_ingre_features], axis=1)\n",
    "df_feats = df_feats.drop([\"ADD:--\"], axis=1) # drop this, it's a garbage attribute"
   ]
  },
  {
   "cell_type": "code",
   "execution_count": 218,
   "metadata": {},
   "outputs": [
    {
     "data": {
      "text/html": [
       "<div>\n",
       "<style scoped>\n",
       "    .dataframe tbody tr th:only-of-type {\n",
       "        vertical-align: middle;\n",
       "    }\n",
       "\n",
       "    .dataframe tbody tr th {\n",
       "        vertical-align: top;\n",
       "    }\n",
       "\n",
       "    .dataframe thead th {\n",
       "        text-align: right;\n",
       "    }\n",
       "</style>\n",
       "<table border=\"1\" class=\"dataframe\">\n",
       "  <thead>\n",
       "    <tr style=\"text-align: right;\">\n",
       "      <th></th>\n",
       "      <th>ADD:acid</th>\n",
       "      <th>ADD:almonds</th>\n",
       "      <th>ADD:butter</th>\n",
       "      <th>ADD:cheese-culture</th>\n",
       "      <th>ADD:citric-acid</th>\n",
       "      <th>ADD:corn-syrup</th>\n",
       "      <th>ADD:cream</th>\n",
       "      <th>ADD:culture</th>\n",
       "      <th>ADD:enzymes</th>\n",
       "      <th>ADD:flavor</th>\n",
       "      <th>...</th>\n",
       "      <th>ING:sea-salt</th>\n",
       "      <th>ING:semolina</th>\n",
       "      <th>ING:soy-lecithin</th>\n",
       "      <th>ING:spices</th>\n",
       "      <th>ING:sugar</th>\n",
       "      <th>ING:thiamin-mononitrate</th>\n",
       "      <th>ING:thiamine-mononitrate</th>\n",
       "      <th>ING:water</th>\n",
       "      <th>ING:wheat</th>\n",
       "      <th>ING:wheat-flour</th>\n",
       "    </tr>\n",
       "  </thead>\n",
       "  <tbody>\n",
       "    <tr>\n",
       "      <th>0</th>\n",
       "      <td>0.000000</td>\n",
       "      <td>0.0</td>\n",
       "      <td>0.000000</td>\n",
       "      <td>0.0</td>\n",
       "      <td>0.000000</td>\n",
       "      <td>0.0</td>\n",
       "      <td>0.000000</td>\n",
       "      <td>0.0</td>\n",
       "      <td>0.000000</td>\n",
       "      <td>0.00000</td>\n",
       "      <td>...</td>\n",
       "      <td>0.0</td>\n",
       "      <td>0.0</td>\n",
       "      <td>0.0</td>\n",
       "      <td>0.000000</td>\n",
       "      <td>0.260082</td>\n",
       "      <td>0.0</td>\n",
       "      <td>0.000000</td>\n",
       "      <td>0.267977</td>\n",
       "      <td>0.511788</td>\n",
       "      <td>0.443854</td>\n",
       "    </tr>\n",
       "    <tr>\n",
       "      <th>1</th>\n",
       "      <td>0.000000</td>\n",
       "      <td>0.0</td>\n",
       "      <td>0.000000</td>\n",
       "      <td>0.0</td>\n",
       "      <td>0.000000</td>\n",
       "      <td>0.0</td>\n",
       "      <td>0.000000</td>\n",
       "      <td>0.0</td>\n",
       "      <td>0.000000</td>\n",
       "      <td>0.00000</td>\n",
       "      <td>...</td>\n",
       "      <td>0.0</td>\n",
       "      <td>0.0</td>\n",
       "      <td>0.0</td>\n",
       "      <td>0.000000</td>\n",
       "      <td>1.000000</td>\n",
       "      <td>0.0</td>\n",
       "      <td>0.000000</td>\n",
       "      <td>0.000000</td>\n",
       "      <td>0.000000</td>\n",
       "      <td>0.000000</td>\n",
       "    </tr>\n",
       "    <tr>\n",
       "      <th>2</th>\n",
       "      <td>0.000000</td>\n",
       "      <td>0.0</td>\n",
       "      <td>0.000000</td>\n",
       "      <td>0.0</td>\n",
       "      <td>0.000000</td>\n",
       "      <td>0.0</td>\n",
       "      <td>0.000000</td>\n",
       "      <td>0.0</td>\n",
       "      <td>0.000000</td>\n",
       "      <td>0.00000</td>\n",
       "      <td>...</td>\n",
       "      <td>0.0</td>\n",
       "      <td>0.0</td>\n",
       "      <td>0.0</td>\n",
       "      <td>0.000000</td>\n",
       "      <td>0.000000</td>\n",
       "      <td>0.0</td>\n",
       "      <td>0.000000</td>\n",
       "      <td>0.000000</td>\n",
       "      <td>0.000000</td>\n",
       "      <td>0.000000</td>\n",
       "    </tr>\n",
       "    <tr>\n",
       "      <th>3</th>\n",
       "      <td>0.000000</td>\n",
       "      <td>0.0</td>\n",
       "      <td>0.432528</td>\n",
       "      <td>0.0</td>\n",
       "      <td>0.000000</td>\n",
       "      <td>0.0</td>\n",
       "      <td>0.462793</td>\n",
       "      <td>0.0</td>\n",
       "      <td>0.346258</td>\n",
       "      <td>0.00000</td>\n",
       "      <td>...</td>\n",
       "      <td>0.0</td>\n",
       "      <td>0.0</td>\n",
       "      <td>0.0</td>\n",
       "      <td>0.000000</td>\n",
       "      <td>0.304961</td>\n",
       "      <td>0.0</td>\n",
       "      <td>0.000000</td>\n",
       "      <td>0.314219</td>\n",
       "      <td>0.000000</td>\n",
       "      <td>0.520445</td>\n",
       "    </tr>\n",
       "    <tr>\n",
       "      <th>4</th>\n",
       "      <td>0.204148</td>\n",
       "      <td>0.0</td>\n",
       "      <td>0.000000</td>\n",
       "      <td>0.0</td>\n",
       "      <td>0.000000</td>\n",
       "      <td>0.0</td>\n",
       "      <td>0.000000</td>\n",
       "      <td>0.0</td>\n",
       "      <td>0.000000</td>\n",
       "      <td>0.20509</td>\n",
       "      <td>...</td>\n",
       "      <td>0.0</td>\n",
       "      <td>0.0</td>\n",
       "      <td>0.0</td>\n",
       "      <td>0.000000</td>\n",
       "      <td>0.218663</td>\n",
       "      <td>0.0</td>\n",
       "      <td>0.395347</td>\n",
       "      <td>0.225301</td>\n",
       "      <td>0.000000</td>\n",
       "      <td>0.373168</td>\n",
       "    </tr>\n",
       "    <tr>\n",
       "      <th>...</th>\n",
       "      <td>...</td>\n",
       "      <td>...</td>\n",
       "      <td>...</td>\n",
       "      <td>...</td>\n",
       "      <td>...</td>\n",
       "      <td>...</td>\n",
       "      <td>...</td>\n",
       "      <td>...</td>\n",
       "      <td>...</td>\n",
       "      <td>...</td>\n",
       "      <td>...</td>\n",
       "      <td>...</td>\n",
       "      <td>...</td>\n",
       "      <td>...</td>\n",
       "      <td>...</td>\n",
       "      <td>...</td>\n",
       "      <td>...</td>\n",
       "      <td>...</td>\n",
       "      <td>...</td>\n",
       "      <td>...</td>\n",
       "      <td>...</td>\n",
       "    </tr>\n",
       "    <tr>\n",
       "      <th>12217</th>\n",
       "      <td>0.000000</td>\n",
       "      <td>1.0</td>\n",
       "      <td>0.000000</td>\n",
       "      <td>0.0</td>\n",
       "      <td>0.000000</td>\n",
       "      <td>0.0</td>\n",
       "      <td>0.000000</td>\n",
       "      <td>0.0</td>\n",
       "      <td>0.000000</td>\n",
       "      <td>0.00000</td>\n",
       "      <td>...</td>\n",
       "      <td>0.0</td>\n",
       "      <td>0.0</td>\n",
       "      <td>0.0</td>\n",
       "      <td>0.000000</td>\n",
       "      <td>0.000000</td>\n",
       "      <td>0.0</td>\n",
       "      <td>0.000000</td>\n",
       "      <td>0.000000</td>\n",
       "      <td>0.000000</td>\n",
       "      <td>0.000000</td>\n",
       "    </tr>\n",
       "    <tr>\n",
       "      <th>12218</th>\n",
       "      <td>0.000000</td>\n",
       "      <td>0.0</td>\n",
       "      <td>0.000000</td>\n",
       "      <td>0.0</td>\n",
       "      <td>0.000000</td>\n",
       "      <td>0.0</td>\n",
       "      <td>0.000000</td>\n",
       "      <td>0.0</td>\n",
       "      <td>0.000000</td>\n",
       "      <td>0.00000</td>\n",
       "      <td>...</td>\n",
       "      <td>0.0</td>\n",
       "      <td>0.0</td>\n",
       "      <td>0.0</td>\n",
       "      <td>0.000000</td>\n",
       "      <td>0.000000</td>\n",
       "      <td>0.0</td>\n",
       "      <td>0.000000</td>\n",
       "      <td>0.000000</td>\n",
       "      <td>0.000000</td>\n",
       "      <td>0.000000</td>\n",
       "    </tr>\n",
       "    <tr>\n",
       "      <th>12219</th>\n",
       "      <td>0.000000</td>\n",
       "      <td>0.0</td>\n",
       "      <td>0.000000</td>\n",
       "      <td>0.0</td>\n",
       "      <td>0.386262</td>\n",
       "      <td>0.0</td>\n",
       "      <td>0.000000</td>\n",
       "      <td>0.0</td>\n",
       "      <td>0.000000</td>\n",
       "      <td>0.00000</td>\n",
       "      <td>...</td>\n",
       "      <td>0.0</td>\n",
       "      <td>0.0</td>\n",
       "      <td>0.0</td>\n",
       "      <td>0.682176</td>\n",
       "      <td>0.380248</td>\n",
       "      <td>0.0</td>\n",
       "      <td>0.000000</td>\n",
       "      <td>0.000000</td>\n",
       "      <td>0.000000</td>\n",
       "      <td>0.000000</td>\n",
       "    </tr>\n",
       "    <tr>\n",
       "      <th>12220</th>\n",
       "      <td>0.000000</td>\n",
       "      <td>0.0</td>\n",
       "      <td>0.000000</td>\n",
       "      <td>0.0</td>\n",
       "      <td>0.000000</td>\n",
       "      <td>0.0</td>\n",
       "      <td>0.000000</td>\n",
       "      <td>0.0</td>\n",
       "      <td>0.000000</td>\n",
       "      <td>0.00000</td>\n",
       "      <td>...</td>\n",
       "      <td>0.0</td>\n",
       "      <td>0.0</td>\n",
       "      <td>0.0</td>\n",
       "      <td>0.000000</td>\n",
       "      <td>0.000000</td>\n",
       "      <td>0.0</td>\n",
       "      <td>0.000000</td>\n",
       "      <td>0.000000</td>\n",
       "      <td>0.000000</td>\n",
       "      <td>0.000000</td>\n",
       "    </tr>\n",
       "    <tr>\n",
       "      <th>12221</th>\n",
       "      <td>0.000000</td>\n",
       "      <td>0.0</td>\n",
       "      <td>0.000000</td>\n",
       "      <td>0.0</td>\n",
       "      <td>0.000000</td>\n",
       "      <td>0.0</td>\n",
       "      <td>0.000000</td>\n",
       "      <td>0.0</td>\n",
       "      <td>0.000000</td>\n",
       "      <td>0.00000</td>\n",
       "      <td>...</td>\n",
       "      <td>0.0</td>\n",
       "      <td>0.0</td>\n",
       "      <td>0.0</td>\n",
       "      <td>0.000000</td>\n",
       "      <td>0.000000</td>\n",
       "      <td>0.0</td>\n",
       "      <td>0.000000</td>\n",
       "      <td>0.000000</td>\n",
       "      <td>0.000000</td>\n",
       "      <td>0.000000</td>\n",
       "    </tr>\n",
       "  </tbody>\n",
       "</table>\n",
       "<p>12222 rows × 59 columns</p>\n",
       "</div>"
      ],
      "text/plain": [
       "       ADD:acid  ADD:almonds  ADD:butter  ADD:cheese-culture  ADD:citric-acid  \\\n",
       "0      0.000000          0.0    0.000000                 0.0         0.000000   \n",
       "1      0.000000          0.0    0.000000                 0.0         0.000000   \n",
       "2      0.000000          0.0    0.000000                 0.0         0.000000   \n",
       "3      0.000000          0.0    0.432528                 0.0         0.000000   \n",
       "4      0.204148          0.0    0.000000                 0.0         0.000000   \n",
       "...         ...          ...         ...                 ...              ...   \n",
       "12217  0.000000          1.0    0.000000                 0.0         0.000000   \n",
       "12218  0.000000          0.0    0.000000                 0.0         0.000000   \n",
       "12219  0.000000          0.0    0.000000                 0.0         0.386262   \n",
       "12220  0.000000          0.0    0.000000                 0.0         0.000000   \n",
       "12221  0.000000          0.0    0.000000                 0.0         0.000000   \n",
       "\n",
       "       ADD:corn-syrup  ADD:cream  ADD:culture  ADD:enzymes  ADD:flavor  ...  \\\n",
       "0                 0.0   0.000000          0.0     0.000000     0.00000  ...   \n",
       "1                 0.0   0.000000          0.0     0.000000     0.00000  ...   \n",
       "2                 0.0   0.000000          0.0     0.000000     0.00000  ...   \n",
       "3                 0.0   0.462793          0.0     0.346258     0.00000  ...   \n",
       "4                 0.0   0.000000          0.0     0.000000     0.20509  ...   \n",
       "...               ...        ...          ...          ...         ...  ...   \n",
       "12217             0.0   0.000000          0.0     0.000000     0.00000  ...   \n",
       "12218             0.0   0.000000          0.0     0.000000     0.00000  ...   \n",
       "12219             0.0   0.000000          0.0     0.000000     0.00000  ...   \n",
       "12220             0.0   0.000000          0.0     0.000000     0.00000  ...   \n",
       "12221             0.0   0.000000          0.0     0.000000     0.00000  ...   \n",
       "\n",
       "       ING:sea-salt  ING:semolina  ING:soy-lecithin  ING:spices  ING:sugar  \\\n",
       "0               0.0           0.0               0.0    0.000000   0.260082   \n",
       "1               0.0           0.0               0.0    0.000000   1.000000   \n",
       "2               0.0           0.0               0.0    0.000000   0.000000   \n",
       "3               0.0           0.0               0.0    0.000000   0.304961   \n",
       "4               0.0           0.0               0.0    0.000000   0.218663   \n",
       "...             ...           ...               ...         ...        ...   \n",
       "12217           0.0           0.0               0.0    0.000000   0.000000   \n",
       "12218           0.0           0.0               0.0    0.000000   0.000000   \n",
       "12219           0.0           0.0               0.0    0.682176   0.380248   \n",
       "12220           0.0           0.0               0.0    0.000000   0.000000   \n",
       "12221           0.0           0.0               0.0    0.000000   0.000000   \n",
       "\n",
       "       ING:thiamin-mononitrate  ING:thiamine-mononitrate  ING:water  \\\n",
       "0                          0.0                  0.000000   0.267977   \n",
       "1                          0.0                  0.000000   0.000000   \n",
       "2                          0.0                  0.000000   0.000000   \n",
       "3                          0.0                  0.000000   0.314219   \n",
       "4                          0.0                  0.395347   0.225301   \n",
       "...                        ...                       ...        ...   \n",
       "12217                      0.0                  0.000000   0.000000   \n",
       "12218                      0.0                  0.000000   0.000000   \n",
       "12219                      0.0                  0.000000   0.000000   \n",
       "12220                      0.0                  0.000000   0.000000   \n",
       "12221                      0.0                  0.000000   0.000000   \n",
       "\n",
       "       ING:wheat  ING:wheat-flour  \n",
       "0       0.511788         0.443854  \n",
       "1       0.000000         0.000000  \n",
       "2       0.000000         0.000000  \n",
       "3       0.000000         0.520445  \n",
       "4       0.000000         0.373168  \n",
       "...          ...              ...  \n",
       "12217   0.000000         0.000000  \n",
       "12218   0.000000         0.000000  \n",
       "12219   0.000000         0.000000  \n",
       "12220   0.000000         0.000000  \n",
       "12221   0.000000         0.000000  \n",
       "\n",
       "[12222 rows x 59 columns]"
      ]
     },
     "execution_count": 218,
     "metadata": {},
     "output_type": "execute_result"
    }
   ],
   "source": [
    "df_feats"
   ]
  },
  {
   "cell_type": "markdown",
   "metadata": {},
   "source": [
    "## Truncated SVD"
   ]
  },
  {
   "cell_type": "code",
   "execution_count": 219,
   "metadata": {},
   "outputs": [
    {
     "data": {
      "text/plain": [
       "TruncatedSVD(n_components=30, n_iter=7, random_state=69)"
      ]
     },
     "execution_count": 219,
     "metadata": {},
     "output_type": "execute_result"
    }
   ],
   "source": [
    "from sklearn.decomposition import TruncatedSVD\n",
    "X = df_feats\n",
    "svd = TruncatedSVD(n_components=30, n_iter=7, random_state=69)\n",
    "svd.fit(X)"
   ]
  },
  {
   "cell_type": "code",
   "execution_count": 220,
   "metadata": {},
   "outputs": [
    {
     "data": {
      "text/plain": [
       "0.9653924264907495"
      ]
     },
     "execution_count": 220,
     "metadata": {},
     "output_type": "execute_result"
    }
   ],
   "source": [
    "svd.explained_variance_ratio_.sum()"
   ]
  },
  {
   "cell_type": "markdown",
   "metadata": {},
   "source": [
    "Since 97% of the variance is still explained with only 30 features (probably because additives is dependent on ingredients), we can proceed with only 30 features."
   ]
  },
  {
   "cell_type": "code",
   "execution_count": 76,
   "metadata": {},
   "outputs": [],
   "source": [
    "X_new = svd.transform(X)"
   ]
  },
  {
   "cell_type": "markdown",
   "metadata": {},
   "source": [
    "# Classification"
   ]
  },
  {
   "cell_type": "code",
   "execution_count": 122,
   "metadata": {},
   "outputs": [
    {
     "data": {
      "text/plain": [
       "(10388, 30)"
      ]
     },
     "execution_count": 122,
     "metadata": {},
     "output_type": "execute_result"
    }
   ],
   "source": [
    "X = X_new\n",
    "y = sup_df['new_score']\n",
    "X_train, X_test, y_train, y_test = train_test_split(X, y, test_size=0.15, random_state=69)\n",
    "X_train.shape"
   ]
  },
  {
   "cell_type": "markdown",
   "metadata": {},
   "source": [
    "## Logistic Regression with L1"
   ]
  },
  {
   "cell_type": "code",
   "execution_count": 123,
   "metadata": {},
   "outputs": [],
   "source": [
    "from sklearn.linear_model import LogisticRegression\n",
    "from scipy.stats import expon\n",
    "\n",
    "LR = LogisticRegression(penalty = \"l1\", max_iter=100, tol=1e-4, random_state=69, solver = 'saga')\n",
    "\n",
    "dist = {\"C\" : expon()}\n",
    "\n",
    "clf = RandomizedSearchCV(LR, dist, random_state=69)\n",
    "search = clf.fit(X_train, y_train)"
   ]
  },
  {
   "cell_type": "code",
   "execution_count": 124,
   "metadata": {},
   "outputs": [
    {
     "data": {
      "text/plain": [
       "{'C': 0.11090595621397231}"
      ]
     },
     "execution_count": 124,
     "metadata": {},
     "output_type": "execute_result"
    }
   ],
   "source": [
    "search.best_params_"
   ]
  },
  {
   "cell_type": "code",
   "execution_count": 125,
   "metadata": {},
   "outputs": [],
   "source": [
    "best_LR = search.best_estimator_"
   ]
  },
  {
   "cell_type": "code",
   "execution_count": 126,
   "metadata": {},
   "outputs": [
    {
     "data": {
      "text/plain": [
       "0.8165190604543704"
      ]
     },
     "execution_count": 126,
     "metadata": {},
     "output_type": "execute_result"
    }
   ],
   "source": [
    "y_pred = best_LR.predict(X_train)\n",
    "accuracy_score(y_train, y_pred)"
   ]
  },
  {
   "cell_type": "code",
   "execution_count": 127,
   "metadata": {},
   "outputs": [
    {
     "data": {
      "text/plain": [
       "0.806979280261723"
      ]
     },
     "execution_count": 127,
     "metadata": {},
     "output_type": "execute_result"
    }
   ],
   "source": [
    "y_pred = best_LR.predict(X_test)\n",
    "accuracy_score(y_test, y_pred)"
   ]
  },
  {
   "cell_type": "markdown",
   "metadata": {},
   "source": [
    "## Random Forest"
   ]
  },
  {
   "cell_type": "markdown",
   "metadata": {},
   "source": [
    "## Tuning\n",
    "\n",
    "We use a randomized search with cross-validation for tuning our parameters"
   ]
  },
  {
   "cell_type": "code",
   "execution_count": 91,
   "metadata": {},
   "outputs": [],
   "source": [
    "from sklearn.model_selection import RandomizedSearchCV"
   ]
  },
  {
   "cell_type": "code",
   "execution_count": 128,
   "metadata": {},
   "outputs": [],
   "source": [
    "from sklearn.ensemble import RandomForestClassifier\n",
    "from scipy.stats import randint"
   ]
  },
  {
   "cell_type": "code",
   "execution_count": 153,
   "metadata": {},
   "outputs": [],
   "source": [
    "dist = {'n_estimators': randint(100, 1000),\n",
    "        'max_depth': randint(3, 10),\n",
    "        'min_samples_split': randint(2, 10),\n",
    "        'min_samples_leaf': randint(1, 4)}\n",
    "\n",
    "RF = RandomForestClassifier(random_state=69)\n",
    "\n",
    "clf = RandomizedSearchCV(RF, dist, cv = 3, random_state=69, n_iter = 10)\n",
    "search = clf.fit(X_train, y_train)"
   ]
  },
  {
   "cell_type": "code",
   "execution_count": 154,
   "metadata": {},
   "outputs": [
    {
     "data": {
      "text/plain": [
       "{'max_depth': 9,\n",
       " 'min_samples_leaf': 2,\n",
       " 'min_samples_split': 5,\n",
       " 'n_estimators': 702}"
      ]
     },
     "execution_count": 154,
     "metadata": {},
     "output_type": "execute_result"
    }
   ],
   "source": [
    "search.best_params_"
   ]
  },
  {
   "cell_type": "code",
   "execution_count": 155,
   "metadata": {},
   "outputs": [],
   "source": [
    "best_RF = search.best_estimator_"
   ]
  },
  {
   "cell_type": "code",
   "execution_count": 157,
   "metadata": {},
   "outputs": [
    {
     "data": {
      "text/plain": [
       "0.8828455910666153"
      ]
     },
     "execution_count": 157,
     "metadata": {},
     "output_type": "execute_result"
    }
   ],
   "source": [
    "y_pred = best_RF.predict(X_train)\n",
    "accuracy_score(y_train, y_pred)"
   ]
  },
  {
   "cell_type": "code",
   "execution_count": 158,
   "metadata": {},
   "outputs": [
    {
     "data": {
      "text/plain": [
       "0.8527808069792803"
      ]
     },
     "execution_count": 158,
     "metadata": {},
     "output_type": "execute_result"
    }
   ],
   "source": [
    "y_pred = best_RF.predict(X_test)\n",
    "accuracy_score(y_test, y_pred)"
   ]
  },
  {
   "cell_type": "markdown",
   "metadata": {},
   "source": [
    "## XGBoost"
   ]
  },
  {
   "cell_type": "code",
   "execution_count": 162,
   "metadata": {},
   "outputs": [],
   "source": [
    "from scipy.stats import uniform"
   ]
  },
  {
   "cell_type": "code",
   "execution_count": 166,
   "metadata": {},
   "outputs": [],
   "source": [
    "dist = {'eta' : uniform(0.01, 0.1), \n",
    "        'n_estimators': randint(100, 1000),\n",
    "        'max_depth': randint(3, 10)}\n",
    "\n",
    "XGB = XGBClassifier()\n",
    "\n",
    "clf = RandomizedSearchCV(XGB, dist, random_state=69, n_iter = 10)\n",
    "search = clf.fit(X_train, y_train)"
   ]
  },
  {
   "cell_type": "code",
   "execution_count": 167,
   "metadata": {},
   "outputs": [
    {
     "data": {
      "text/plain": [
       "{'eta': 0.045025252522341144, 'max_depth': 7, 'n_estimators': 661}"
      ]
     },
     "execution_count": 167,
     "metadata": {},
     "output_type": "execute_result"
    }
   ],
   "source": [
    "search.best_params_"
   ]
  },
  {
   "cell_type": "code",
   "execution_count": 168,
   "metadata": {},
   "outputs": [],
   "source": [
    "best_XGB = search.best_estimator_"
   ]
  },
  {
   "cell_type": "code",
   "execution_count": 169,
   "metadata": {},
   "outputs": [
    {
     "data": {
      "text/plain": [
       "0.8949749711205237"
      ]
     },
     "execution_count": 169,
     "metadata": {},
     "output_type": "execute_result"
    }
   ],
   "source": [
    "y_pred = best_XGB.predict(X_train)\n",
    "accuracy_score(y_train, y_pred)"
   ]
  },
  {
   "cell_type": "code",
   "execution_count": 170,
   "metadata": {},
   "outputs": [
    {
     "data": {
      "text/plain": [
       "0.85659760087241"
      ]
     },
     "execution_count": 170,
     "metadata": {},
     "output_type": "execute_result"
    }
   ],
   "source": [
    "y_pred = best_XGB.predict(X_test)\n",
    "accuracy_score(y_test, y_pred)"
   ]
  },
  {
   "cell_type": "markdown",
   "metadata": {},
   "source": [
    "# Regression"
   ]
  },
  {
   "cell_type": "code",
   "execution_count": 171,
   "metadata": {},
   "outputs": [
    {
     "data": {
      "text/plain": [
       "(10388, 30)"
      ]
     },
     "execution_count": 171,
     "metadata": {},
     "output_type": "execute_result"
    }
   ],
   "source": [
    "X = X_new\n",
    "y = sup_df['nutrition-score-fr_100g']\n",
    "X_train, X_test, y_train, y_test = train_test_split(X, y, test_size=0.15, random_state=69)\n",
    "X_train.shape"
   ]
  },
  {
   "cell_type": "markdown",
   "metadata": {},
   "source": [
    "## LASSO"
   ]
  },
  {
   "cell_type": "markdown",
   "metadata": {},
   "source": [
    "## Tuning\n",
    "\n",
    "We use a randomized search with cross-validation for tuning our parameters"
   ]
  },
  {
   "cell_type": "code",
   "execution_count": 172,
   "metadata": {},
   "outputs": [],
   "source": [
    "from sklearn.model_selection import RandomizedSearchCV"
   ]
  },
  {
   "cell_type": "code",
   "execution_count": 174,
   "metadata": {},
   "outputs": [],
   "source": [
    "from sklearn.linear_model import Lasso\n",
    "from scipy.stats import expon\n",
    "\n",
    "lasso = Lasso(max_iter=1000, tol=1e-4, random_state=69, selection=\"random\")\n",
    "dist = {\"alpha\" : expon()}\n",
    "\n",
    "clf = RandomizedSearchCV(lasso, dist, random_state=69, n_iter = 10)\n",
    "search = clf.fit(X_train, y_train)"
   ]
  },
  {
   "cell_type": "code",
   "execution_count": 175,
   "metadata": {},
   "outputs": [
    {
     "data": {
      "text/plain": [
       "{'alpha': 0.06023922086460815}"
      ]
     },
     "execution_count": 175,
     "metadata": {},
     "output_type": "execute_result"
    }
   ],
   "source": [
    "search.best_params_"
   ]
  },
  {
   "cell_type": "code",
   "execution_count": 176,
   "metadata": {},
   "outputs": [],
   "source": [
    "best_lasso = search.best_estimator_"
   ]
  },
  {
   "cell_type": "code",
   "execution_count": 177,
   "metadata": {},
   "outputs": [
    {
     "data": {
      "text/plain": [
       "6.225150080599127"
      ]
     },
     "execution_count": 177,
     "metadata": {},
     "output_type": "execute_result"
    }
   ],
   "source": [
    "y_pred = best_lasso.predict(X_train)\n",
    "np.sqrt(mean_squared_error(y_train, y_pred))"
   ]
  },
  {
   "cell_type": "code",
   "execution_count": 178,
   "metadata": {},
   "outputs": [
    {
     "data": {
      "text/plain": [
       "6.000567092486989"
      ]
     },
     "execution_count": 178,
     "metadata": {},
     "output_type": "execute_result"
    }
   ],
   "source": [
    "y_pred = best_lasso.predict(X_test)\n",
    "np.sqrt(mean_squared_error(y_test, y_pred))"
   ]
  },
  {
   "cell_type": "markdown",
   "metadata": {},
   "source": [
    "## Random Forest"
   ]
  },
  {
   "cell_type": "code",
   "execution_count": 179,
   "metadata": {},
   "outputs": [],
   "source": [
    "from sklearn.ensemble import RandomForestRegressor"
   ]
  },
  {
   "cell_type": "code",
   "execution_count": 182,
   "metadata": {},
   "outputs": [],
   "source": [
    "dist = {'n_estimators': randint(100, 1000),\n",
    "        'max_depth': randint(3, 10),\n",
    "        'min_samples_split': randint(2, 10),\n",
    "        'min_samples_leaf': randint(1, 4)}\n",
    "\n",
    "RF = RandomForestRegressor(random_state=69)\n",
    "\n",
    "clf = RandomizedSearchCV(RF, dist, cv = 3, random_state=69, n_iter = 10)\n",
    "search = clf.fit(X_train, y_train)"
   ]
  },
  {
   "cell_type": "code",
   "execution_count": 183,
   "metadata": {},
   "outputs": [
    {
     "data": {
      "text/plain": [
       "{'max_depth': 9,\n",
       " 'min_samples_leaf': 2,\n",
       " 'min_samples_split': 5,\n",
       " 'n_estimators': 702}"
      ]
     },
     "execution_count": 183,
     "metadata": {},
     "output_type": "execute_result"
    }
   ],
   "source": [
    "search.best_params_"
   ]
  },
  {
   "cell_type": "code",
   "execution_count": 184,
   "metadata": {},
   "outputs": [],
   "source": [
    "best_RF = search.best_estimator_"
   ]
  },
  {
   "cell_type": "code",
   "execution_count": 186,
   "metadata": {},
   "outputs": [
    {
     "data": {
      "text/plain": [
       "4.677189438758958"
      ]
     },
     "execution_count": 186,
     "metadata": {},
     "output_type": "execute_result"
    }
   ],
   "source": [
    "y_pred = best_RF.predict(X_train)\n",
    "np.sqrt(mean_squared_error(y_train, y_pred))"
   ]
  },
  {
   "cell_type": "code",
   "execution_count": 187,
   "metadata": {},
   "outputs": [
    {
     "data": {
      "text/plain": [
       "4.996265438544345"
      ]
     },
     "execution_count": 187,
     "metadata": {},
     "output_type": "execute_result"
    }
   ],
   "source": [
    "y_pred = best_RF.predict(X_test)\n",
    "np.sqrt(mean_squared_error(y_test, y_pred))"
   ]
  },
  {
   "cell_type": "code",
   "execution_count": null,
   "metadata": {},
   "outputs": [],
   "source": []
  },
  {
   "cell_type": "markdown",
   "metadata": {},
   "source": [
    "## XGBoost"
   ]
  },
  {
   "cell_type": "code",
   "execution_count": 189,
   "metadata": {},
   "outputs": [],
   "source": [
    "dist = {'eta' : uniform(0.01, 0.1),\n",
    "        'n_estimators': randint(100, 1000),\n",
    "        'max_depth': randint(3, 10)}\n",
    "\n",
    "XGB = XGBRegressor()\n",
    "\n",
    "clf = RandomizedSearchCV(XGB, dist, random_state=69, n_iter = 10)\n",
    "search = clf.fit(X_train, y_train)"
   ]
  },
  {
   "cell_type": "code",
   "execution_count": 190,
   "metadata": {},
   "outputs": [
    {
     "data": {
      "text/plain": [
       "4.177898101369332"
      ]
     },
     "execution_count": 190,
     "metadata": {},
     "output_type": "execute_result"
    }
   ],
   "source": [
    "y_pred = model.predict(X_train)\n",
    "np.sqrt(mean_squared_error(y_train, y_pred))"
   ]
  },
  {
   "cell_type": "code",
   "execution_count": 191,
   "metadata": {},
   "outputs": [
    {
     "data": {
      "text/plain": [
       "4.884057214208349"
      ]
     },
     "execution_count": 191,
     "metadata": {},
     "output_type": "execute_result"
    }
   ],
   "source": [
    "y_pred = model.predict(X_test)\n",
    "np.sqrt(mean_squared_error(y_test, y_pred))"
   ]
  },
  {
   "cell_type": "code",
   "execution_count": null,
   "metadata": {},
   "outputs": [],
   "source": []
  },
  {
   "cell_type": "code",
   "execution_count": null,
   "metadata": {},
   "outputs": [],
   "source": []
  }
 ],
 "metadata": {
  "kernelspec": {
   "display_name": "Python 3",
   "language": "python",
   "name": "python3"
  },
  "language_info": {
   "codemirror_mode": {
    "name": "ipython",
    "version": 3
   },
   "file_extension": ".py",
   "mimetype": "text/x-python",
   "name": "python",
   "nbconvert_exporter": "python",
   "pygments_lexer": "ipython3",
   "version": "3.7.3"
  }
 },
 "nbformat": 4,
 "nbformat_minor": 4
}
