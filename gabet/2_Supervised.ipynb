{
 "cells": [
  {
   "cell_type": "code",
   "execution_count": 1,
   "metadata": {},
   "outputs": [],
   "source": [
    "import pandas as pd\n",
    "import numpy as np\n",
    "import matplotlib\n",
    "import matplotlib.pyplot as plt\n",
    "import seaborn as sns\n",
    "from functools import reduce\n",
    "import re\n",
    "from sklearn.feature_extraction.text import CountVectorizer\n",
    "from collections import Counter\n",
    "from sklearn.cluster import KMeans\n",
    "from scipy import stats\n",
    "from nltk.corpus import stopwords"
   ]
  },
  {
   "cell_type": "code",
   "execution_count": 22,
   "metadata": {},
   "outputs": [
    {
     "name": "stderr",
     "output_type": "stream",
     "text": [
      "/Users/gabrieltaylor/.pyenv/versions/3.7.3/lib/python3.7/site-packages/IPython/core/interactiveshell.py:3063: DtypeWarning: Columns (0,3,5,19,20,24,25,26,27,28,36,37,38,39,48) have mixed types.Specify dtype option on import or set low_memory=False.\n",
      "  interactivity=interactivity, compiler=compiler, result=result)\n"
     ]
    }
   ],
   "source": [
    "df = pd.read_csv(\"/Users/gabrieltaylor/Python/STAT542/en.openfoodfacts.org.products.tsv\", sep = \"\\t\")"
   ]
  },
  {
   "cell_type": "code",
   "execution_count": 23,
   "metadata": {},
   "outputs": [],
   "source": [
    "clust_df = pd.read_csv('/Users/gabrieltaylor/Python/STAT542/STAT542/gabet/clust_df.csv', index_col = 0)"
   ]
  },
  {
   "cell_type": "markdown",
   "metadata": {},
   "source": [
    "# Supervised Task"
   ]
  },
  {
   "cell_type": "code",
   "execution_count": 24,
   "metadata": {},
   "outputs": [],
   "source": [
    "sup_df = clust_df.join(df['nutrition-score-fr_100g']).dropna()"
   ]
  },
  {
   "cell_type": "code",
   "execution_count": 25,
   "metadata": {},
   "outputs": [
    {
     "data": {
      "text/html": [
       "<div>\n",
       "<style scoped>\n",
       "    .dataframe tbody tr th:only-of-type {\n",
       "        vertical-align: middle;\n",
       "    }\n",
       "\n",
       "    .dataframe tbody tr th {\n",
       "        vertical-align: top;\n",
       "    }\n",
       "\n",
       "    .dataframe thead th {\n",
       "        text-align: right;\n",
       "    }\n",
       "</style>\n",
       "<table border=\"1\" class=\"dataframe\">\n",
       "  <thead>\n",
       "    <tr style=\"text-align: right;\">\n",
       "      <th></th>\n",
       "      <th>ingredients_text</th>\n",
       "      <th>carbohydrates_100g</th>\n",
       "      <th>fiber_100g</th>\n",
       "      <th>sugars_100g</th>\n",
       "      <th>proteins_100g</th>\n",
       "      <th>fat_100g</th>\n",
       "      <th>saturated-fat_100g</th>\n",
       "      <th>clust</th>\n",
       "      <th>nutrition-score-fr_100g</th>\n",
       "    </tr>\n",
       "  </thead>\n",
       "  <tbody>\n",
       "    <tr>\n",
       "      <th>2</th>\n",
       "      <td>peanuts wheat-flour sugar rice-flour tapioca-s...</td>\n",
       "      <td>1.119606</td>\n",
       "      <td>1.255472</td>\n",
       "      <td>0.371259</td>\n",
       "      <td>0.859435</td>\n",
       "      <td>0.137917</td>\n",
       "      <td>-0.700412</td>\n",
       "      <td>5</td>\n",
       "      <td>0.0</td>\n",
       "    </tr>\n",
       "    <tr>\n",
       "      <th>148</th>\n",
       "      <td>cranberries sugar sunflower-oil</td>\n",
       "      <td>1.896869</td>\n",
       "      <td>2.083100</td>\n",
       "      <td>3.082730</td>\n",
       "      <td>-1.065403</td>\n",
       "      <td>-0.795579</td>\n",
       "      <td>-0.700412</td>\n",
       "      <td>3</td>\n",
       "      <td>8.0</td>\n",
       "    </tr>\n",
       "    <tr>\n",
       "      <th>149</th>\n",
       "      <td>apricots sulfur-dioxide</td>\n",
       "      <td>1.181114</td>\n",
       "      <td>1.369627</td>\n",
       "      <td>2.295565</td>\n",
       "      <td>-0.795968</td>\n",
       "      <td>-0.795579</td>\n",
       "      <td>-0.700412</td>\n",
       "      <td>3</td>\n",
       "      <td>8.0</td>\n",
       "    </tr>\n",
       "    <tr>\n",
       "      <th>200</th>\n",
       "      <td>wheat-flour butter cream  water yeast sugar sa...</td>\n",
       "      <td>0.550919</td>\n",
       "      <td>-0.399784</td>\n",
       "      <td>-0.332580</td>\n",
       "      <td>-0.225846</td>\n",
       "      <td>0.086695</td>\n",
       "      <td>0.767782</td>\n",
       "      <td>5</td>\n",
       "      <td>18.0</td>\n",
       "    </tr>\n",
       "    <tr>\n",
       "      <th>201</th>\n",
       "      <td>enriched-wheat-flour wheat-flour malted-barley...</td>\n",
       "      <td>0.656066</td>\n",
       "      <td>-0.513939</td>\n",
       "      <td>0.819560</td>\n",
       "      <td>-0.367029</td>\n",
       "      <td>0.027110</td>\n",
       "      <td>-0.177571</td>\n",
       "      <td>5</td>\n",
       "      <td>14.0</td>\n",
       "    </tr>\n",
       "    <tr>\n",
       "      <th>...</th>\n",
       "      <td>...</td>\n",
       "      <td>...</td>\n",
       "      <td>...</td>\n",
       "      <td>...</td>\n",
       "      <td>...</td>\n",
       "      <td>...</td>\n",
       "      <td>...</td>\n",
       "      <td>...</td>\n",
       "      <td>...</td>\n",
       "    </tr>\n",
       "    <tr>\n",
       "      <th>355083</th>\n",
       "      <td>almonds</td>\n",
       "      <td>-0.815304</td>\n",
       "      <td>1.740633</td>\n",
       "      <td>-0.376465</td>\n",
       "      <td>1.090071</td>\n",
       "      <td>0.249769</td>\n",
       "      <td>-0.191702</td>\n",
       "      <td>4</td>\n",
       "      <td>0.0</td>\n",
       "    </tr>\n",
       "    <tr>\n",
       "      <th>355269</th>\n",
       "      <td>shrimp salt</td>\n",
       "      <td>-0.966496</td>\n",
       "      <td>-0.770789</td>\n",
       "      <td>-0.620892</td>\n",
       "      <td>0.202016</td>\n",
       "      <td>-0.795579</td>\n",
       "      <td>-0.700412</td>\n",
       "      <td>6</td>\n",
       "      <td>0.0</td>\n",
       "    </tr>\n",
       "    <tr>\n",
       "      <th>355474</th>\n",
       "      <td>beef sugar salt tomato-paste garlic spices mon...</td>\n",
       "      <td>-0.843825</td>\n",
       "      <td>-0.770789</td>\n",
       "      <td>-0.422573</td>\n",
       "      <td>1.244187</td>\n",
       "      <td>0.230953</td>\n",
       "      <td>0.561472</td>\n",
       "      <td>6</td>\n",
       "      <td>19.0</td>\n",
       "    </tr>\n",
       "    <tr>\n",
       "      <th>355525</th>\n",
       "      <td>eggs</td>\n",
       "      <td>-0.956188</td>\n",
       "      <td>-0.770789</td>\n",
       "      <td>-0.604227</td>\n",
       "      <td>0.314100</td>\n",
       "      <td>-0.267678</td>\n",
       "      <td>-0.262356</td>\n",
       "      <td>6</td>\n",
       "      <td>0.0</td>\n",
       "    </tr>\n",
       "    <tr>\n",
       "      <th>355586</th>\n",
       "      <td>peanuts</td>\n",
       "      <td>-0.622879</td>\n",
       "      <td>1.141316</td>\n",
       "      <td>-0.435906</td>\n",
       "      <td>1.448957</td>\n",
       "      <td>1.643742</td>\n",
       "      <td>-0.229855</td>\n",
       "      <td>4</td>\n",
       "      <td>0.0</td>\n",
       "    </tr>\n",
       "  </tbody>\n",
       "</table>\n",
       "<p>12222 rows × 9 columns</p>\n",
       "</div>"
      ],
      "text/plain": [
       "                                         ingredients_text  carbohydrates_100g  \\\n",
       "2       peanuts wheat-flour sugar rice-flour tapioca-s...            1.119606   \n",
       "148                       cranberries sugar sunflower-oil            1.896869   \n",
       "149                               apricots sulfur-dioxide            1.181114   \n",
       "200     wheat-flour butter cream  water yeast sugar sa...            0.550919   \n",
       "201     enriched-wheat-flour wheat-flour malted-barley...            0.656066   \n",
       "...                                                   ...                 ...   \n",
       "355083                                            almonds           -0.815304   \n",
       "355269                                        shrimp salt           -0.966496   \n",
       "355474  beef sugar salt tomato-paste garlic spices mon...           -0.843825   \n",
       "355525                                               eggs           -0.956188   \n",
       "355586                                            peanuts           -0.622879   \n",
       "\n",
       "        fiber_100g  sugars_100g  proteins_100g  fat_100g  saturated-fat_100g  \\\n",
       "2         1.255472     0.371259       0.859435  0.137917           -0.700412   \n",
       "148       2.083100     3.082730      -1.065403 -0.795579           -0.700412   \n",
       "149       1.369627     2.295565      -0.795968 -0.795579           -0.700412   \n",
       "200      -0.399784    -0.332580      -0.225846  0.086695            0.767782   \n",
       "201      -0.513939     0.819560      -0.367029  0.027110           -0.177571   \n",
       "...            ...          ...            ...       ...                 ...   \n",
       "355083    1.740633    -0.376465       1.090071  0.249769           -0.191702   \n",
       "355269   -0.770789    -0.620892       0.202016 -0.795579           -0.700412   \n",
       "355474   -0.770789    -0.422573       1.244187  0.230953            0.561472   \n",
       "355525   -0.770789    -0.604227       0.314100 -0.267678           -0.262356   \n",
       "355586    1.141316    -0.435906       1.448957  1.643742           -0.229855   \n",
       "\n",
       "        clust  nutrition-score-fr_100g  \n",
       "2           5                      0.0  \n",
       "148         3                      8.0  \n",
       "149         3                      8.0  \n",
       "200         5                     18.0  \n",
       "201         5                     14.0  \n",
       "...       ...                      ...  \n",
       "355083      4                      0.0  \n",
       "355269      6                      0.0  \n",
       "355474      6                     19.0  \n",
       "355525      6                      0.0  \n",
       "355586      4                      0.0  \n",
       "\n",
       "[12222 rows x 9 columns]"
      ]
     },
     "execution_count": 25,
     "metadata": {},
     "output_type": "execute_result"
    }
   ],
   "source": [
    "sup_df"
   ]
  },
  {
   "cell_type": "markdown",
   "metadata": {},
   "source": [
    "## Is there a clear ranking of nutrition scores by cluster?"
   ]
  },
  {
   "cell_type": "code",
   "execution_count": 26,
   "metadata": {},
   "outputs": [
    {
     "data": {
      "text/html": [
       "<div>\n",
       "<style scoped>\n",
       "    .dataframe tbody tr th:only-of-type {\n",
       "        vertical-align: middle;\n",
       "    }\n",
       "\n",
       "    .dataframe tbody tr th {\n",
       "        vertical-align: top;\n",
       "    }\n",
       "\n",
       "    .dataframe thead th {\n",
       "        text-align: right;\n",
       "    }\n",
       "</style>\n",
       "<table border=\"1\" class=\"dataframe\">\n",
       "  <thead>\n",
       "    <tr style=\"text-align: right;\">\n",
       "      <th></th>\n",
       "      <th>nutrition-score-fr_100g</th>\n",
       "    </tr>\n",
       "    <tr>\n",
       "      <th>clust</th>\n",
       "      <th></th>\n",
       "    </tr>\n",
       "  </thead>\n",
       "  <tbody>\n",
       "    <tr>\n",
       "      <th>5</th>\n",
       "      <td>0.334542</td>\n",
       "    </tr>\n",
       "    <tr>\n",
       "      <th>1</th>\n",
       "      <td>1.170208</td>\n",
       "    </tr>\n",
       "    <tr>\n",
       "      <th>6</th>\n",
       "      <td>5.114522</td>\n",
       "    </tr>\n",
       "    <tr>\n",
       "      <th>4</th>\n",
       "      <td>8.904300</td>\n",
       "    </tr>\n",
       "    <tr>\n",
       "      <th>3</th>\n",
       "      <td>13.166827</td>\n",
       "    </tr>\n",
       "    <tr>\n",
       "      <th>2</th>\n",
       "      <td>20.422587</td>\n",
       "    </tr>\n",
       "    <tr>\n",
       "      <th>0</th>\n",
       "      <td>21.349800</td>\n",
       "    </tr>\n",
       "  </tbody>\n",
       "</table>\n",
       "</div>"
      ],
      "text/plain": [
       "       nutrition-score-fr_100g\n",
       "clust                         \n",
       "5                     0.334542\n",
       "1                     1.170208\n",
       "6                     5.114522\n",
       "4                     8.904300\n",
       "3                    13.166827\n",
       "2                    20.422587\n",
       "0                    21.349800"
      ]
     },
     "execution_count": 26,
     "metadata": {},
     "output_type": "execute_result"
    }
   ],
   "source": [
    "ranks = pd.DataFrame(sup_df.groupby('clust').mean()['nutrition-score-fr_100g']).sort_values('nutrition-score-fr_100g')\n",
    "ranks.sort_values(\"nutrition-score-fr_100g\")"
   ]
  },
  {
   "cell_type": "code",
   "execution_count": 28,
   "metadata": {},
   "outputs": [
    {
     "data": {
      "image/png": "[encoded data removed]",
      "text/plain": [
       "<Figure size 720x720 with 1 Axes>"
      ]
     },
     "metadata": {
      "needs_background": "light"
     },
     "output_type": "display_data"
    }
   ],
   "source": [
    "plt.figure(figsize = (10, 10))\n",
    "sns.violinplot(data=sup_df, x = 'nutrition-score-fr_100g', y=\"clust\", orient=\"h\", order = [5, 1, 6, 4, 3, 2, 0])\n",
    "plt.show()"
   ]
  },
  {
   "cell_type": "markdown",
   "metadata": {},
   "source": [
    "Yes, there is clearly a ranking of nutrition scores by cluster."
   ]
  },
  {
   "cell_type": "markdown",
   "metadata": {},
   "source": [
    "## How well can clusters alone predict nutrition score?"
   ]
  },
  {
   "cell_type": "markdown",
   "metadata": {},
   "source": [
    "First, we will make this a supremely easy task by splitting the nutrition score into binary categories. "
   ]
  },
  {
   "cell_type": "code",
   "execution_count": 29,
   "metadata": {},
   "outputs": [
    {
     "data": {
      "text/plain": [
       "count    12222.000000\n",
       "mean         7.449435\n",
       "std          9.623551\n",
       "min        -12.000000\n",
       "25%         -1.000000\n",
       "50%          6.000000\n",
       "75%         16.000000\n",
       "max         34.000000\n",
       "Name: nutrition-score-fr_100g, dtype: float64"
      ]
     },
     "execution_count": 29,
     "metadata": {},
     "output_type": "execute_result"
    }
   ],
   "source": [
    "sup_df['nutrition-score-fr_100g'].describe()"
   ]
  },
  {
   "cell_type": "code",
   "execution_count": 30,
   "metadata": {},
   "outputs": [
    {
     "data": {
      "text/html": [
       "<div>\n",
       "<style scoped>\n",
       "    .dataframe tbody tr th:only-of-type {\n",
       "        vertical-align: middle;\n",
       "    }\n",
       "\n",
       "    .dataframe tbody tr th {\n",
       "        vertical-align: top;\n",
       "    }\n",
       "\n",
       "    .dataframe thead th {\n",
       "        text-align: right;\n",
       "    }\n",
       "</style>\n",
       "<table border=\"1\" class=\"dataframe\">\n",
       "  <thead>\n",
       "    <tr style=\"text-align: right;\">\n",
       "      <th></th>\n",
       "      <th>ingredients_text</th>\n",
       "      <th>carbohydrates_100g</th>\n",
       "      <th>fiber_100g</th>\n",
       "      <th>sugars_100g</th>\n",
       "      <th>proteins_100g</th>\n",
       "      <th>fat_100g</th>\n",
       "      <th>saturated-fat_100g</th>\n",
       "      <th>clust</th>\n",
       "      <th>nutrition-score-fr_100g</th>\n",
       "      <th>new_score</th>\n",
       "    </tr>\n",
       "  </thead>\n",
       "  <tbody>\n",
       "    <tr>\n",
       "      <th>2</th>\n",
       "      <td>peanuts wheat-flour sugar rice-flour tapioca-s...</td>\n",
       "      <td>1.119606</td>\n",
       "      <td>1.255472</td>\n",
       "      <td>0.371259</td>\n",
       "      <td>0.859435</td>\n",
       "      <td>0.137917</td>\n",
       "      <td>-0.700412</td>\n",
       "      <td>5</td>\n",
       "      <td>0.0</td>\n",
       "      <td>0</td>\n",
       "    </tr>\n",
       "    <tr>\n",
       "      <th>148</th>\n",
       "      <td>cranberries sugar sunflower-oil</td>\n",
       "      <td>1.896869</td>\n",
       "      <td>2.083100</td>\n",
       "      <td>3.082730</td>\n",
       "      <td>-1.065403</td>\n",
       "      <td>-0.795579</td>\n",
       "      <td>-0.700412</td>\n",
       "      <td>3</td>\n",
       "      <td>8.0</td>\n",
       "      <td>1</td>\n",
       "    </tr>\n",
       "    <tr>\n",
       "      <th>149</th>\n",
       "      <td>apricots sulfur-dioxide</td>\n",
       "      <td>1.181114</td>\n",
       "      <td>1.369627</td>\n",
       "      <td>2.295565</td>\n",
       "      <td>-0.795968</td>\n",
       "      <td>-0.795579</td>\n",
       "      <td>-0.700412</td>\n",
       "      <td>3</td>\n",
       "      <td>8.0</td>\n",
       "      <td>1</td>\n",
       "    </tr>\n",
       "    <tr>\n",
       "      <th>200</th>\n",
       "      <td>wheat-flour butter cream  water yeast sugar sa...</td>\n",
       "      <td>0.550919</td>\n",
       "      <td>-0.399784</td>\n",
       "      <td>-0.332580</td>\n",
       "      <td>-0.225846</td>\n",
       "      <td>0.086695</td>\n",
       "      <td>0.767782</td>\n",
       "      <td>5</td>\n",
       "      <td>18.0</td>\n",
       "      <td>1</td>\n",
       "    </tr>\n",
       "    <tr>\n",
       "      <th>201</th>\n",
       "      <td>enriched-wheat-flour wheat-flour malted-barley...</td>\n",
       "      <td>0.656066</td>\n",
       "      <td>-0.513939</td>\n",
       "      <td>0.819560</td>\n",
       "      <td>-0.367029</td>\n",
       "      <td>0.027110</td>\n",
       "      <td>-0.177571</td>\n",
       "      <td>5</td>\n",
       "      <td>14.0</td>\n",
       "      <td>1</td>\n",
       "    </tr>\n",
       "  </tbody>\n",
       "</table>\n",
       "</div>"
      ],
      "text/plain": [
       "                                      ingredients_text  carbohydrates_100g  \\\n",
       "2    peanuts wheat-flour sugar rice-flour tapioca-s...            1.119606   \n",
       "148                    cranberries sugar sunflower-oil            1.896869   \n",
       "149                            apricots sulfur-dioxide            1.181114   \n",
       "200  wheat-flour butter cream  water yeast sugar sa...            0.550919   \n",
       "201  enriched-wheat-flour wheat-flour malted-barley...            0.656066   \n",
       "\n",
       "     fiber_100g  sugars_100g  proteins_100g  fat_100g  saturated-fat_100g  \\\n",
       "2      1.255472     0.371259       0.859435  0.137917           -0.700412   \n",
       "148    2.083100     3.082730      -1.065403 -0.795579           -0.700412   \n",
       "149    1.369627     2.295565      -0.795968 -0.795579           -0.700412   \n",
       "200   -0.399784    -0.332580      -0.225846  0.086695            0.767782   \n",
       "201   -0.513939     0.819560      -0.367029  0.027110           -0.177571   \n",
       "\n",
       "     clust  nutrition-score-fr_100g  new_score  \n",
       "2        5                      0.0          0  \n",
       "148      3                      8.0          1  \n",
       "149      3                      8.0          1  \n",
       "200      5                     18.0          1  \n",
       "201      5                     14.0          1  "
      ]
     },
     "execution_count": 30,
     "metadata": {},
     "output_type": "execute_result"
    }
   ],
   "source": [
    "sup_df['new_score'] = list(map(lambda x : 1 if x > 6 else 0, sup_df['nutrition-score-fr_100g']))\n",
    "sup_df.head()"
   ]
  },
  {
   "cell_type": "code",
   "execution_count": 31,
   "metadata": {},
   "outputs": [],
   "source": [
    "from xgboost import XGBClassifier\n",
    "from sklearn.model_selection import train_test_split\n",
    "from sklearn.metrics import accuracy_score"
   ]
  },
  {
   "cell_type": "code",
   "execution_count": 32,
   "metadata": {},
   "outputs": [],
   "source": [
    "X = sup_df['clust']\n",
    "y = sup_df['new_score']\n",
    "X_train, X_test, y_train, y_test = train_test_split(X, y, test_size=0.2, random_state=69)"
   ]
  },
  {
   "cell_type": "code",
   "execution_count": 33,
   "metadata": {},
   "outputs": [
    {
     "data": {
      "text/plain": [
       "XGBClassifier(base_score=0.5, booster='gbtree', colsample_bylevel=1,\n",
       "              colsample_bynode=1, colsample_bytree=1, gamma=0, gpu_id=-1,\n",
       "              importance_type='gain', interaction_constraints='',\n",
       "              learning_rate=0.300000012, max_delta_step=0, max_depth=6,\n",
       "              min_child_weight=1, missing=nan, monotone_constraints='()',\n",
       "              n_estimators=100, n_jobs=0, num_parallel_tree=1, random_state=0,\n",
       "              reg_alpha=0, reg_lambda=1, scale_pos_weight=1, subsample=1,\n",
       "              tree_method='exact', validate_parameters=1, verbosity=None)"
      ]
     },
     "execution_count": 33,
     "metadata": {},
     "output_type": "execute_result"
    }
   ],
   "source": [
    "model = XGBClassifier()\n",
    "model.fit(X_train.values.reshape(-1, 1), y_train)"
   ]
  },
  {
   "cell_type": "code",
   "execution_count": 34,
   "metadata": {},
   "outputs": [
    {
     "data": {
      "text/plain": [
       "0.8638036809815951"
      ]
     },
     "execution_count": 34,
     "metadata": {},
     "output_type": "execute_result"
    }
   ],
   "source": [
    "y_pred = model.predict(X_test.values.reshape(-1, 1))\n",
    "accuracy_score(y_test, y_pred)"
   ]
  },
  {
   "cell_type": "markdown",
   "metadata": {},
   "source": [
    "85% accuracy is not bad. Now, how can we use the clusters and text information to predict nutrition score?"
   ]
  },
  {
   "cell_type": "markdown",
   "metadata": {},
   "source": [
    "## Cluster Prevalence"
   ]
  },
  {
   "cell_type": "code",
   "execution_count": 44,
   "metadata": {},
   "outputs": [
    {
     "data": {
      "text/plain": [
       "[None, None, None, None, None, None]"
      ]
     },
     "execution_count": 44,
     "metadata": {},
     "output_type": "execute_result"
    }
   ],
   "source": [
    "all_words = [i for ing in sup_df['ingredients_text'] for i in ing.split()]\n",
    "most_common_words = dict(Counter(all_words).most_common(1000))\n",
    "rm_words = set(stopwords.words('english') + ['de', 'contains', 's', 'et', 'of', 'en', \"fr\",'less', 'p', 'exists', 'following', 'ok'])\n",
    "better_words = rm_words\n",
    "[better_words.add(i) for i in ['water', 'sea-salt', 'sugar', 'salt', 'sel', 'eau']]"
   ]
  },
  {
   "cell_type": "code",
   "execution_count": 45,
   "metadata": {},
   "outputs": [],
   "source": [
    "tot_word_counts = dict(Counter(all_words))"
   ]
  },
  {
   "cell_type": "code",
   "execution_count": 46,
   "metadata": {},
   "outputs": [],
   "source": [
    "### TD IDF\n",
    "N = clust_df.shape[0]"
   ]
  },
  {
   "cell_type": "markdown",
   "metadata": {},
   "source": [
    "### TF-IDF For Cluster Prevalence (Just like in the unsupervised notebook)"
   ]
  },
  {
   "cell_type": "code",
   "execution_count": 68,
   "metadata": {},
   "outputs": [],
   "source": [
    "def clust_word_prevelance(col):\n",
    "    \n",
    "    ### All Words For Cluster\n",
    "    all_words = [i for ing in col for i in ing.split()]\n",
    "    \n",
    "    ### Stop Words\n",
    "    reduced_words = [w for w in all_words if w not in better_words]\n",
    "    \n",
    "    ### Count Words\n",
    "    clust_word_counts = dict(Counter(reduced_words).most_common())\n",
    "    \n",
    "    ### TF IDF To Obtain True Cluster Prevelance \n",
    "    for key in clust_word_counts.keys():\n",
    "        clust_word_counts[key] = clust_word_counts[key] * np.log(N / tot_word_counts[key])\n",
    "    \n",
    "    return clust_word_counts"
   ]
  },
  {
   "cell_type": "code",
   "execution_count": 48,
   "metadata": {},
   "outputs": [],
   "source": [
    "clust_words = sup_df.groupby('clust')['ingredients_text'].apply(clust_word_prevelance)"
   ]
  },
  {
   "cell_type": "markdown",
   "metadata": {},
   "source": [
    "## Let's take the top 100 most common ingredients as our predictors, but input the TD-IDF scores from the cluster corresponding to that row"
   ]
  },
  {
   "cell_type": "markdown",
   "metadata": {},
   "source": [
    "First, lets get the 100 most common ingredients"
   ]
  },
  {
   "cell_type": "code",
   "execution_count": 49,
   "metadata": {},
   "outputs": [],
   "source": [
    "all_common = list(most_common_words.keys())\n",
    "reduced_words = [w for w in all_common if w not in better_words]\n",
    "top_100 = reduced_words[:100]"
   ]
  },
  {
   "cell_type": "code",
   "execution_count": 50,
   "metadata": {},
   "outputs": [],
   "source": [
    "TD_IDF_key = pd.DataFrame(clust_words).reset_index()\n",
    "TD_IDF_key.columns = ['cluster', 'ingredient', 'td-idf']"
   ]
  },
  {
   "cell_type": "code",
   "execution_count": 51,
   "metadata": {},
   "outputs": [
    {
     "data": {
      "text/html": [
       "<div>\n",
       "<style scoped>\n",
       "    .dataframe tbody tr th:only-of-type {\n",
       "        vertical-align: middle;\n",
       "    }\n",
       "\n",
       "    .dataframe tbody tr th {\n",
       "        vertical-align: top;\n",
       "    }\n",
       "\n",
       "    .dataframe thead th {\n",
       "        text-align: right;\n",
       "    }\n",
       "</style>\n",
       "<table border=\"1\" class=\"dataframe\">\n",
       "  <thead>\n",
       "    <tr style=\"text-align: right;\">\n",
       "      <th></th>\n",
       "      <th>cluster</th>\n",
       "      <th>ingredient</th>\n",
       "      <th>td-idf</th>\n",
       "    </tr>\n",
       "  </thead>\n",
       "  <tbody>\n",
       "    <tr>\n",
       "      <th>0</th>\n",
       "      <td>0</td>\n",
       "      <td>cocoa-butter</td>\n",
       "      <td>1339.437765</td>\n",
       "    </tr>\n",
       "    <tr>\n",
       "      <th>1</th>\n",
       "      <td>0</td>\n",
       "      <td>soy-lecithin</td>\n",
       "      <td>1082.423821</td>\n",
       "    </tr>\n",
       "    <tr>\n",
       "      <th>2</th>\n",
       "      <td>0</td>\n",
       "      <td>chocolate-liquor</td>\n",
       "      <td>968.966839</td>\n",
       "    </tr>\n",
       "    <tr>\n",
       "      <th>3</th>\n",
       "      <td>0</td>\n",
       "      <td>vanilla</td>\n",
       "      <td>826.711398</td>\n",
       "    </tr>\n",
       "    <tr>\n",
       "      <th>4</th>\n",
       "      <td>0</td>\n",
       "      <td>milk</td>\n",
       "      <td>519.763035</td>\n",
       "    </tr>\n",
       "    <tr>\n",
       "      <th>...</th>\n",
       "      <td>...</td>\n",
       "      <td>...</td>\n",
       "      <td>...</td>\n",
       "    </tr>\n",
       "    <tr>\n",
       "      <th>831</th>\n",
       "      <td>0</td>\n",
       "      <td>viande-de-porc</td>\n",
       "      <td>NaN</td>\n",
       "    </tr>\n",
       "    <tr>\n",
       "      <th>832</th>\n",
       "      <td>0</td>\n",
       "      <td>antioxydant-:-ascorbate-de-sodium</td>\n",
       "      <td>NaN</td>\n",
       "    </tr>\n",
       "    <tr>\n",
       "      <th>833</th>\n",
       "      <td>0</td>\n",
       "      <td>conservateur-:-nitrite-de-sodium</td>\n",
       "      <td>NaN</td>\n",
       "    </tr>\n",
       "    <tr>\n",
       "      <th>834</th>\n",
       "      <td>0</td>\n",
       "      <td>extrait-de-levure</td>\n",
       "      <td>NaN</td>\n",
       "    </tr>\n",
       "    <tr>\n",
       "      <th>835</th>\n",
       "      <td>0</td>\n",
       "      <td>plantes-aromatiques</td>\n",
       "      <td>NaN</td>\n",
       "    </tr>\n",
       "  </tbody>\n",
       "</table>\n",
       "<p>836 rows × 3 columns</p>\n",
       "</div>"
      ],
      "text/plain": [
       "     cluster                         ingredient       td-idf\n",
       "0          0                       cocoa-butter  1339.437765\n",
       "1          0                       soy-lecithin  1082.423821\n",
       "2          0                   chocolate-liquor   968.966839\n",
       "3          0                            vanilla   826.711398\n",
       "4          0                               milk   519.763035\n",
       "..       ...                                ...          ...\n",
       "831        0                     viande-de-porc          NaN\n",
       "832        0  antioxydant-:-ascorbate-de-sodium          NaN\n",
       "833        0   conservateur-:-nitrite-de-sodium          NaN\n",
       "834        0                  extrait-de-levure          NaN\n",
       "835        0                plantes-aromatiques          NaN\n",
       "\n",
       "[836 rows x 3 columns]"
      ]
     },
     "execution_count": 51,
     "metadata": {},
     "output_type": "execute_result"
    }
   ],
   "source": [
    "TD_IDF_key[TD_IDF_key.cluster == 0]"
   ]
  },
  {
   "cell_type": "markdown",
   "metadata": {},
   "source": [
    "Iterate through sup_df, and grab the TD-IDF corresponding to each ingredient in the assigned cluster. If an ingredient is not in the top 100 words, then we skip it."
   ]
  },
  {
   "cell_type": "code",
   "execution_count": 52,
   "metadata": {},
   "outputs": [],
   "source": [
    "#zero_mat = np.zeros((sup_df.shape[0], 100))\n",
    "our_dtm = pd.DataFrame(columns = top_100)"
   ]
  },
  {
   "cell_type": "code",
   "execution_count": 53,
   "metadata": {},
   "outputs": [
    {
     "data": {
      "text/html": [
       "<div>\n",
       "<style scoped>\n",
       "    .dataframe tbody tr th:only-of-type {\n",
       "        vertical-align: middle;\n",
       "    }\n",
       "\n",
       "    .dataframe tbody tr th {\n",
       "        vertical-align: top;\n",
       "    }\n",
       "\n",
       "    .dataframe thead th {\n",
       "        text-align: right;\n",
       "    }\n",
       "</style>\n",
       "<table border=\"1\" class=\"dataframe\">\n",
       "  <thead>\n",
       "    <tr style=\"text-align: right;\">\n",
       "      <th></th>\n",
       "      <th>enzymes</th>\n",
       "      <th>citric-acid</th>\n",
       "      <th>niacin</th>\n",
       "      <th>corn-syrup</th>\n",
       "      <th>folic-acid</th>\n",
       "      <th>riboflavin</th>\n",
       "      <th>pasteurized-milk</th>\n",
       "      <th>cheese-culture</th>\n",
       "      <th>milk</th>\n",
       "      <th>soy-lecithin</th>\n",
       "      <th>...</th>\n",
       "      <th>sodium-bicarbonate</th>\n",
       "      <th>lactic-acid</th>\n",
       "      <th>to-retain-moisture</th>\n",
       "      <th>annatto-color</th>\n",
       "      <th>tomato-juice</th>\n",
       "      <th>yellow-6</th>\n",
       "      <th>garlic-powder</th>\n",
       "      <th>spinach</th>\n",
       "      <th>sodium-diacetate</th>\n",
       "      <th>preservative</th>\n",
       "    </tr>\n",
       "  </thead>\n",
       "  <tbody>\n",
       "  </tbody>\n",
       "</table>\n",
       "<p>0 rows × 100 columns</p>\n",
       "</div>"
      ],
      "text/plain": [
       "Empty DataFrame\n",
       "Columns: [enzymes, citric-acid, niacin, corn-syrup, folic-acid, riboflavin, pasteurized-milk, cheese-culture, milk, soy-lecithin, wheat-flour, iron, almonds, wheat, thiamin-mononitrate, ferrous-sulfate, semolina, dextrose, spices, natural-flavor, cream, thiamine-mononitrate, peanuts, reduced-iron, cocoa-butter, corn, sodium-nitrite, high-fructose-corn-syrup, ascorbic-acid, cheese-cultures, vitamin-d3, annatto, soybean-oil, green-beans, sodium-erythorbate, pasteurized-part-skim-milk, palm-oil, pecans, tomatoes, shrimp, vinegar, chocolate-liquor, vitamin-a-palmitate, yeast, durum-flour, calcium-chloride, vanilla, butter, natural-and-artificial-flavors, vegetable-oil, guar-gum, canola-oil, carrageenan, peanut-oil, pork, red-40, whey, sodium-phosphate, color, cashews, xanthan-gum, garlic, potatoes, yellow-5, artificial-flavor, honey, beef, tomato-paste, cultured-pasteurized-milk, walnuts, carrots, sodium-tripolyphosphate, apples, natural-flavors, enriched-flour, peaches, modified-food-starch, jalapeno-peppers, peas, gelatin, blue-1, eggs, sunflower-oil, skim-milk, vitamin-c, malted-barley-flour, brown-sugar, modified-corn-starch, corn-starch, pineapple, sodium-bicarbonate, lactic-acid, to-retain-moisture, annatto-color, tomato-juice, yellow-6, garlic-powder, spinach, sodium-diacetate, preservative]\n",
       "Index: []\n",
       "\n",
       "[0 rows x 100 columns]"
      ]
     },
     "execution_count": 53,
     "metadata": {},
     "output_type": "execute_result"
    }
   ],
   "source": [
    "our_dtm"
   ]
  },
  {
   "cell_type": "markdown",
   "metadata": {},
   "source": [
    "### This is really inefficient"
   ]
  },
  {
   "cell_type": "code",
   "execution_count": 54,
   "metadata": {},
   "outputs": [],
   "source": [
    "for ingredients, cluster in zip(sup_df['ingredients_text'], sup_df['clust']):\n",
    "    \n",
    "    ### Grab Cluster\n",
    "    clust_key = TD_IDF_key[TD_IDF_key.cluster == cluster]\n",
    "    \n",
    "    ### List of ingredients\n",
    "    ing_list = ingredients.split()\n",
    "    \n",
    "    ### Grab values from key\n",
    "    new_row = [clust_key[clust_key.ingredient == i]['td-idf'].item() if i in ing_list else 0 for i in top_100]\n",
    "    \n",
    "    our_dtm = our_dtm.append({k: v for k, v in zip(top_100, new_row)}, ignore_index = True)"
   ]
  },
  {
   "cell_type": "code",
   "execution_count": null,
   "metadata": {},
   "outputs": [],
   "source": [
    "# our_dtm.to_csv(\"/Users/gabrieltaylor/Python/STAT542/dtm.csv\")"
   ]
  },
  {
   "cell_type": "code",
   "execution_count": 55,
   "metadata": {},
   "outputs": [
    {
     "data": {
      "text/html": [
       "<div>\n",
       "<style scoped>\n",
       "    .dataframe tbody tr th:only-of-type {\n",
       "        vertical-align: middle;\n",
       "    }\n",
       "\n",
       "    .dataframe tbody tr th {\n",
       "        vertical-align: top;\n",
       "    }\n",
       "\n",
       "    .dataframe thead th {\n",
       "        text-align: right;\n",
       "    }\n",
       "</style>\n",
       "<table border=\"1\" class=\"dataframe\">\n",
       "  <thead>\n",
       "    <tr style=\"text-align: right;\">\n",
       "      <th></th>\n",
       "      <th>enzymes</th>\n",
       "      <th>citric-acid</th>\n",
       "      <th>niacin</th>\n",
       "      <th>corn-syrup</th>\n",
       "      <th>folic-acid</th>\n",
       "      <th>riboflavin</th>\n",
       "      <th>pasteurized-milk</th>\n",
       "      <th>cheese-culture</th>\n",
       "      <th>milk</th>\n",
       "      <th>soy-lecithin</th>\n",
       "      <th>...</th>\n",
       "      <th>sodium-bicarbonate</th>\n",
       "      <th>lactic-acid</th>\n",
       "      <th>to-retain-moisture</th>\n",
       "      <th>annatto-color</th>\n",
       "      <th>tomato-juice</th>\n",
       "      <th>yellow-6</th>\n",
       "      <th>garlic-powder</th>\n",
       "      <th>spinach</th>\n",
       "      <th>sodium-diacetate</th>\n",
       "      <th>preservative</th>\n",
       "    </tr>\n",
       "  </thead>\n",
       "  <tbody>\n",
       "    <tr>\n",
       "      <th>0</th>\n",
       "      <td>0.0000</td>\n",
       "      <td>0.0</td>\n",
       "      <td>0.000000</td>\n",
       "      <td>0.0</td>\n",
       "      <td>0.00000</td>\n",
       "      <td>0.000000</td>\n",
       "      <td>0.0</td>\n",
       "      <td>0.0</td>\n",
       "      <td>0.0</td>\n",
       "      <td>0.0</td>\n",
       "      <td>...</td>\n",
       "      <td>0.0</td>\n",
       "      <td>0.0</td>\n",
       "      <td>0.0</td>\n",
       "      <td>0.0</td>\n",
       "      <td>0.0</td>\n",
       "      <td>0.0</td>\n",
       "      <td>0.0</td>\n",
       "      <td>0.0</td>\n",
       "      <td>0.0</td>\n",
       "      <td>0.0</td>\n",
       "    </tr>\n",
       "    <tr>\n",
       "      <th>1</th>\n",
       "      <td>0.0000</td>\n",
       "      <td>0.0</td>\n",
       "      <td>0.000000</td>\n",
       "      <td>0.0</td>\n",
       "      <td>0.00000</td>\n",
       "      <td>0.000000</td>\n",
       "      <td>0.0</td>\n",
       "      <td>0.0</td>\n",
       "      <td>0.0</td>\n",
       "      <td>0.0</td>\n",
       "      <td>...</td>\n",
       "      <td>0.0</td>\n",
       "      <td>0.0</td>\n",
       "      <td>0.0</td>\n",
       "      <td>0.0</td>\n",
       "      <td>0.0</td>\n",
       "      <td>0.0</td>\n",
       "      <td>0.0</td>\n",
       "      <td>0.0</td>\n",
       "      <td>0.0</td>\n",
       "      <td>0.0</td>\n",
       "    </tr>\n",
       "    <tr>\n",
       "      <th>2</th>\n",
       "      <td>0.0000</td>\n",
       "      <td>0.0</td>\n",
       "      <td>0.000000</td>\n",
       "      <td>0.0</td>\n",
       "      <td>0.00000</td>\n",
       "      <td>0.000000</td>\n",
       "      <td>0.0</td>\n",
       "      <td>0.0</td>\n",
       "      <td>0.0</td>\n",
       "      <td>0.0</td>\n",
       "      <td>...</td>\n",
       "      <td>0.0</td>\n",
       "      <td>0.0</td>\n",
       "      <td>0.0</td>\n",
       "      <td>0.0</td>\n",
       "      <td>0.0</td>\n",
       "      <td>0.0</td>\n",
       "      <td>0.0</td>\n",
       "      <td>0.0</td>\n",
       "      <td>0.0</td>\n",
       "      <td>0.0</td>\n",
       "    </tr>\n",
       "    <tr>\n",
       "      <th>3</th>\n",
       "      <td>66.6251</td>\n",
       "      <td>0.0</td>\n",
       "      <td>0.000000</td>\n",
       "      <td>0.0</td>\n",
       "      <td>0.00000</td>\n",
       "      <td>0.000000</td>\n",
       "      <td>0.0</td>\n",
       "      <td>0.0</td>\n",
       "      <td>0.0</td>\n",
       "      <td>0.0</td>\n",
       "      <td>...</td>\n",
       "      <td>0.0</td>\n",
       "      <td>0.0</td>\n",
       "      <td>0.0</td>\n",
       "      <td>0.0</td>\n",
       "      <td>0.0</td>\n",
       "      <td>0.0</td>\n",
       "      <td>0.0</td>\n",
       "      <td>0.0</td>\n",
       "      <td>0.0</td>\n",
       "      <td>0.0</td>\n",
       "    </tr>\n",
       "    <tr>\n",
       "      <th>4</th>\n",
       "      <td>0.0000</td>\n",
       "      <td>0.0</td>\n",
       "      <td>2010.026967</td>\n",
       "      <td>0.0</td>\n",
       "      <td>1953.24123</td>\n",
       "      <td>1980.866469</td>\n",
       "      <td>0.0</td>\n",
       "      <td>0.0</td>\n",
       "      <td>0.0</td>\n",
       "      <td>0.0</td>\n",
       "      <td>...</td>\n",
       "      <td>0.0</td>\n",
       "      <td>0.0</td>\n",
       "      <td>0.0</td>\n",
       "      <td>0.0</td>\n",
       "      <td>0.0</td>\n",
       "      <td>0.0</td>\n",
       "      <td>0.0</td>\n",
       "      <td>0.0</td>\n",
       "      <td>0.0</td>\n",
       "      <td>0.0</td>\n",
       "    </tr>\n",
       "  </tbody>\n",
       "</table>\n",
       "<p>5 rows × 100 columns</p>\n",
       "</div>"
      ],
      "text/plain": [
       "   enzymes  citric-acid       niacin  corn-syrup  folic-acid   riboflavin  \\\n",
       "0   0.0000          0.0     0.000000         0.0     0.00000     0.000000   \n",
       "1   0.0000          0.0     0.000000         0.0     0.00000     0.000000   \n",
       "2   0.0000          0.0     0.000000         0.0     0.00000     0.000000   \n",
       "3  66.6251          0.0     0.000000         0.0     0.00000     0.000000   \n",
       "4   0.0000          0.0  2010.026967         0.0  1953.24123  1980.866469   \n",
       "\n",
       "   pasteurized-milk  cheese-culture  milk  soy-lecithin  ...  \\\n",
       "0               0.0             0.0   0.0           0.0  ...   \n",
       "1               0.0             0.0   0.0           0.0  ...   \n",
       "2               0.0             0.0   0.0           0.0  ...   \n",
       "3               0.0             0.0   0.0           0.0  ...   \n",
       "4               0.0             0.0   0.0           0.0  ...   \n",
       "\n",
       "   sodium-bicarbonate  lactic-acid  to-retain-moisture  annatto-color  \\\n",
       "0                 0.0          0.0                 0.0            0.0   \n",
       "1                 0.0          0.0                 0.0            0.0   \n",
       "2                 0.0          0.0                 0.0            0.0   \n",
       "3                 0.0          0.0                 0.0            0.0   \n",
       "4                 0.0          0.0                 0.0            0.0   \n",
       "\n",
       "   tomato-juice  yellow-6  garlic-powder  spinach  sodium-diacetate  \\\n",
       "0           0.0       0.0            0.0      0.0               0.0   \n",
       "1           0.0       0.0            0.0      0.0               0.0   \n",
       "2           0.0       0.0            0.0      0.0               0.0   \n",
       "3           0.0       0.0            0.0      0.0               0.0   \n",
       "4           0.0       0.0            0.0      0.0               0.0   \n",
       "\n",
       "   preservative  \n",
       "0           0.0  \n",
       "1           0.0  \n",
       "2           0.0  \n",
       "3           0.0  \n",
       "4           0.0  \n",
       "\n",
       "[5 rows x 100 columns]"
      ]
     },
     "execution_count": 55,
     "metadata": {},
     "output_type": "execute_result"
    }
   ],
   "source": [
    "our_dtm.head()"
   ]
  },
  {
   "cell_type": "code",
   "execution_count": 56,
   "metadata": {},
   "outputs": [],
   "source": [
    "X = our_dtm\n",
    "y = sup_df['new_score']\n",
    "X_train, X_test, y_train, y_test = train_test_split(X, y, test_size=0.2, random_state=69)"
   ]
  },
  {
   "cell_type": "code",
   "execution_count": 57,
   "metadata": {},
   "outputs": [
    {
     "data": {
      "text/plain": [
       "XGBClassifier(base_score=0.5, booster='gbtree', colsample_bylevel=1,\n",
       "              colsample_bynode=1, colsample_bytree=1, gamma=0, gpu_id=-1,\n",
       "              importance_type='gain', interaction_constraints='',\n",
       "              learning_rate=0.300000012, max_delta_step=0, max_depth=6,\n",
       "              min_child_weight=1, missing=nan, monotone_constraints='()',\n",
       "              n_estimators=100, n_jobs=0, num_parallel_tree=1, random_state=0,\n",
       "              reg_alpha=0, reg_lambda=1, scale_pos_weight=1, subsample=1,\n",
       "              tree_method='exact', validate_parameters=1, verbosity=None)"
      ]
     },
     "execution_count": 57,
     "metadata": {},
     "output_type": "execute_result"
    }
   ],
   "source": [
    "model = XGBClassifier()\n",
    "model.fit(X_train, y_train)"
   ]
  },
  {
   "cell_type": "code",
   "execution_count": 58,
   "metadata": {},
   "outputs": [
    {
     "data": {
      "text/plain": [
       "0.8969325153374234"
      ]
     },
     "execution_count": 58,
     "metadata": {},
     "output_type": "execute_result"
    }
   ],
   "source": [
    "y_pred = model.predict(X_test)\n",
    "accuracy_score(y_test, y_pred)"
   ]
  },
  {
   "cell_type": "markdown",
   "metadata": {},
   "source": [
    "## Now let's do regression"
   ]
  },
  {
   "cell_type": "code",
   "execution_count": 59,
   "metadata": {},
   "outputs": [],
   "source": [
    "from xgboost import XGBRegressor\n",
    "from sklearn.metrics import mean_squared_error"
   ]
  },
  {
   "cell_type": "code",
   "execution_count": 60,
   "metadata": {},
   "outputs": [],
   "source": [
    "X = our_dtm\n",
    "y = sup_df['nutrition-score-fr_100g']\n",
    "X_train, X_test, y_train, y_test = train_test_split(X, y, test_size=0.2, random_state=69)"
   ]
  },
  {
   "cell_type": "code",
   "execution_count": 61,
   "metadata": {},
   "outputs": [
    {
     "data": {
      "text/plain": [
       "XGBRegressor(base_score=0.5, booster='gbtree', colsample_bylevel=1,\n",
       "             colsample_bynode=1, colsample_bytree=1, gamma=0, gpu_id=-1,\n",
       "             importance_type='gain', interaction_constraints='',\n",
       "             learning_rate=0.300000012, max_delta_step=0, max_depth=6,\n",
       "             min_child_weight=1, missing=nan, monotone_constraints='()',\n",
       "             n_estimators=100, n_jobs=0, num_parallel_tree=1, random_state=0,\n",
       "             reg_alpha=0, reg_lambda=1, scale_pos_weight=1, subsample=1,\n",
       "             tree_method='exact', validate_parameters=1, verbosity=None)"
      ]
     },
     "execution_count": 61,
     "metadata": {},
     "output_type": "execute_result"
    }
   ],
   "source": [
    "model = XGBRegressor()\n",
    "model.fit(X_train, y_train)"
   ]
  },
  {
   "cell_type": "code",
   "execution_count": 62,
   "metadata": {},
   "outputs": [
    {
     "data": {
      "text/plain": [
       "4.335161516602214"
      ]
     },
     "execution_count": 62,
     "metadata": {},
     "output_type": "execute_result"
    }
   ],
   "source": [
    "y_pred = model.predict(X_test)\n",
    "np.sqrt(mean_squared_error(y_test, y_pred))"
   ]
  },
  {
   "cell_type": "markdown",
   "metadata": {},
   "source": [
    "## In case using cluster info is cheating, lets try regular old count vectorization"
   ]
  },
  {
   "cell_type": "code",
   "execution_count": 63,
   "metadata": {},
   "outputs": [],
   "source": [
    "new_dtm = pd.DataFrame(columns = top_100)"
   ]
  },
  {
   "cell_type": "code",
   "execution_count": 64,
   "metadata": {},
   "outputs": [],
   "source": [
    "for ingredients in sup_df['ingredients_text']:\n",
    "    \n",
    "    ### List of ingredients\n",
    "    ing_list = ingredients.split()\n",
    "    \n",
    "    ### Grab values from key\n",
    "    new_row = [1.0 if i in ing_list else 0.0 for i in top_100]\n",
    "    \n",
    "    new_dtm = new_dtm.append({k: v for k, v in zip(top_100, new_row)}, ignore_index = True)"
   ]
  },
  {
   "cell_type": "code",
   "execution_count": 65,
   "metadata": {},
   "outputs": [
    {
     "data": {
      "text/html": [
       "<div>\n",
       "<style scoped>\n",
       "    .dataframe tbody tr th:only-of-type {\n",
       "        vertical-align: middle;\n",
       "    }\n",
       "\n",
       "    .dataframe tbody tr th {\n",
       "        vertical-align: top;\n",
       "    }\n",
       "\n",
       "    .dataframe thead th {\n",
       "        text-align: right;\n",
       "    }\n",
       "</style>\n",
       "<table border=\"1\" class=\"dataframe\">\n",
       "  <thead>\n",
       "    <tr style=\"text-align: right;\">\n",
       "      <th></th>\n",
       "      <th>enzymes</th>\n",
       "      <th>citric-acid</th>\n",
       "      <th>niacin</th>\n",
       "      <th>corn-syrup</th>\n",
       "      <th>folic-acid</th>\n",
       "      <th>riboflavin</th>\n",
       "      <th>pasteurized-milk</th>\n",
       "      <th>cheese-culture</th>\n",
       "      <th>milk</th>\n",
       "      <th>soy-lecithin</th>\n",
       "      <th>...</th>\n",
       "      <th>sodium-bicarbonate</th>\n",
       "      <th>lactic-acid</th>\n",
       "      <th>to-retain-moisture</th>\n",
       "      <th>annatto-color</th>\n",
       "      <th>tomato-juice</th>\n",
       "      <th>yellow-6</th>\n",
       "      <th>garlic-powder</th>\n",
       "      <th>spinach</th>\n",
       "      <th>sodium-diacetate</th>\n",
       "      <th>preservative</th>\n",
       "    </tr>\n",
       "  </thead>\n",
       "  <tbody>\n",
       "    <tr>\n",
       "      <th>0</th>\n",
       "      <td>0.0</td>\n",
       "      <td>0.0</td>\n",
       "      <td>0.0</td>\n",
       "      <td>0.0</td>\n",
       "      <td>0.0</td>\n",
       "      <td>0.0</td>\n",
       "      <td>0.0</td>\n",
       "      <td>0.0</td>\n",
       "      <td>0.0</td>\n",
       "      <td>0.0</td>\n",
       "      <td>...</td>\n",
       "      <td>0.0</td>\n",
       "      <td>0.0</td>\n",
       "      <td>0.0</td>\n",
       "      <td>0.0</td>\n",
       "      <td>0.0</td>\n",
       "      <td>0.0</td>\n",
       "      <td>0.0</td>\n",
       "      <td>0.0</td>\n",
       "      <td>0.0</td>\n",
       "      <td>0.0</td>\n",
       "    </tr>\n",
       "    <tr>\n",
       "      <th>1</th>\n",
       "      <td>0.0</td>\n",
       "      <td>0.0</td>\n",
       "      <td>0.0</td>\n",
       "      <td>0.0</td>\n",
       "      <td>0.0</td>\n",
       "      <td>0.0</td>\n",
       "      <td>0.0</td>\n",
       "      <td>0.0</td>\n",
       "      <td>0.0</td>\n",
       "      <td>0.0</td>\n",
       "      <td>...</td>\n",
       "      <td>0.0</td>\n",
       "      <td>0.0</td>\n",
       "      <td>0.0</td>\n",
       "      <td>0.0</td>\n",
       "      <td>0.0</td>\n",
       "      <td>0.0</td>\n",
       "      <td>0.0</td>\n",
       "      <td>0.0</td>\n",
       "      <td>0.0</td>\n",
       "      <td>0.0</td>\n",
       "    </tr>\n",
       "    <tr>\n",
       "      <th>2</th>\n",
       "      <td>0.0</td>\n",
       "      <td>0.0</td>\n",
       "      <td>0.0</td>\n",
       "      <td>0.0</td>\n",
       "      <td>0.0</td>\n",
       "      <td>0.0</td>\n",
       "      <td>0.0</td>\n",
       "      <td>0.0</td>\n",
       "      <td>0.0</td>\n",
       "      <td>0.0</td>\n",
       "      <td>...</td>\n",
       "      <td>0.0</td>\n",
       "      <td>0.0</td>\n",
       "      <td>0.0</td>\n",
       "      <td>0.0</td>\n",
       "      <td>0.0</td>\n",
       "      <td>0.0</td>\n",
       "      <td>0.0</td>\n",
       "      <td>0.0</td>\n",
       "      <td>0.0</td>\n",
       "      <td>0.0</td>\n",
       "    </tr>\n",
       "    <tr>\n",
       "      <th>3</th>\n",
       "      <td>1.0</td>\n",
       "      <td>0.0</td>\n",
       "      <td>0.0</td>\n",
       "      <td>0.0</td>\n",
       "      <td>0.0</td>\n",
       "      <td>0.0</td>\n",
       "      <td>0.0</td>\n",
       "      <td>0.0</td>\n",
       "      <td>0.0</td>\n",
       "      <td>0.0</td>\n",
       "      <td>...</td>\n",
       "      <td>0.0</td>\n",
       "      <td>0.0</td>\n",
       "      <td>0.0</td>\n",
       "      <td>0.0</td>\n",
       "      <td>0.0</td>\n",
       "      <td>0.0</td>\n",
       "      <td>0.0</td>\n",
       "      <td>0.0</td>\n",
       "      <td>0.0</td>\n",
       "      <td>0.0</td>\n",
       "    </tr>\n",
       "    <tr>\n",
       "      <th>4</th>\n",
       "      <td>0.0</td>\n",
       "      <td>0.0</td>\n",
       "      <td>1.0</td>\n",
       "      <td>0.0</td>\n",
       "      <td>1.0</td>\n",
       "      <td>1.0</td>\n",
       "      <td>0.0</td>\n",
       "      <td>0.0</td>\n",
       "      <td>0.0</td>\n",
       "      <td>0.0</td>\n",
       "      <td>...</td>\n",
       "      <td>0.0</td>\n",
       "      <td>0.0</td>\n",
       "      <td>0.0</td>\n",
       "      <td>0.0</td>\n",
       "      <td>0.0</td>\n",
       "      <td>0.0</td>\n",
       "      <td>0.0</td>\n",
       "      <td>0.0</td>\n",
       "      <td>0.0</td>\n",
       "      <td>0.0</td>\n",
       "    </tr>\n",
       "  </tbody>\n",
       "</table>\n",
       "<p>5 rows × 100 columns</p>\n",
       "</div>"
      ],
      "text/plain": [
       "   enzymes  citric-acid  niacin  corn-syrup  folic-acid  riboflavin  \\\n",
       "0      0.0          0.0     0.0         0.0         0.0         0.0   \n",
       "1      0.0          0.0     0.0         0.0         0.0         0.0   \n",
       "2      0.0          0.0     0.0         0.0         0.0         0.0   \n",
       "3      1.0          0.0     0.0         0.0         0.0         0.0   \n",
       "4      0.0          0.0     1.0         0.0         1.0         1.0   \n",
       "\n",
       "   pasteurized-milk  cheese-culture  milk  soy-lecithin  ...  \\\n",
       "0               0.0             0.0   0.0           0.0  ...   \n",
       "1               0.0             0.0   0.0           0.0  ...   \n",
       "2               0.0             0.0   0.0           0.0  ...   \n",
       "3               0.0             0.0   0.0           0.0  ...   \n",
       "4               0.0             0.0   0.0           0.0  ...   \n",
       "\n",
       "   sodium-bicarbonate  lactic-acid  to-retain-moisture  annatto-color  \\\n",
       "0                 0.0          0.0                 0.0            0.0   \n",
       "1                 0.0          0.0                 0.0            0.0   \n",
       "2                 0.0          0.0                 0.0            0.0   \n",
       "3                 0.0          0.0                 0.0            0.0   \n",
       "4                 0.0          0.0                 0.0            0.0   \n",
       "\n",
       "   tomato-juice  yellow-6  garlic-powder  spinach  sodium-diacetate  \\\n",
       "0           0.0       0.0            0.0      0.0               0.0   \n",
       "1           0.0       0.0            0.0      0.0               0.0   \n",
       "2           0.0       0.0            0.0      0.0               0.0   \n",
       "3           0.0       0.0            0.0      0.0               0.0   \n",
       "4           0.0       0.0            0.0      0.0               0.0   \n",
       "\n",
       "   preservative  \n",
       "0           0.0  \n",
       "1           0.0  \n",
       "2           0.0  \n",
       "3           0.0  \n",
       "4           0.0  \n",
       "\n",
       "[5 rows x 100 columns]"
      ]
     },
     "execution_count": 65,
     "metadata": {},
     "output_type": "execute_result"
    }
   ],
   "source": [
    "new_dtm.head()"
   ]
  },
  {
   "cell_type": "markdown",
   "metadata": {},
   "source": [
    "## Classification"
   ]
  },
  {
   "cell_type": "code",
   "execution_count": 66,
   "metadata": {},
   "outputs": [],
   "source": [
    "X = new_dtm\n",
    "y = sup_df['new_score']\n",
    "X_train, X_test, y_train, y_test = train_test_split(X, y, test_size=0.2, random_state=69)"
   ]
  },
  {
   "cell_type": "code",
   "execution_count": 67,
   "metadata": {},
   "outputs": [
    {
     "data": {
      "text/plain": [
       "XGBClassifier(base_score=0.5, booster='gbtree', colsample_bylevel=1,\n",
       "              colsample_bynode=1, colsample_bytree=1, gamma=0, gpu_id=-1,\n",
       "              importance_type='gain', interaction_constraints='',\n",
       "              learning_rate=0.300000012, max_delta_step=0, max_depth=6,\n",
       "              min_child_weight=1, missing=nan, monotone_constraints='()',\n",
       "              n_estimators=100, n_jobs=0, num_parallel_tree=1, random_state=0,\n",
       "              reg_alpha=0, reg_lambda=1, scale_pos_weight=1, subsample=1,\n",
       "              tree_method='exact', validate_parameters=1, verbosity=None)"
      ]
     },
     "execution_count": 67,
     "metadata": {},
     "output_type": "execute_result"
    }
   ],
   "source": [
    "model = XGBClassifier()\n",
    "model.fit(X_train, y_train)"
   ]
  },
  {
   "cell_type": "code",
   "execution_count": 68,
   "metadata": {},
   "outputs": [
    {
     "data": {
      "text/plain": [
       "0.8711656441717791"
      ]
     },
     "execution_count": 68,
     "metadata": {},
     "output_type": "execute_result"
    }
   ],
   "source": [
    "y_pred = model.predict(X_test)\n",
    "accuracy_score(y_test, y_pred)"
   ]
  },
  {
   "cell_type": "code",
   "execution_count": null,
   "metadata": {},
   "outputs": [],
   "source": []
  },
  {
   "cell_type": "markdown",
   "metadata": {},
   "source": [
    "## Regression"
   ]
  },
  {
   "cell_type": "code",
   "execution_count": 69,
   "metadata": {},
   "outputs": [],
   "source": [
    "X = new_dtm\n",
    "y = sup_df['nutrition-score-fr_100g']\n",
    "X_train, X_test, y_train, y_test = train_test_split(X, y, test_size=0.2, random_state=69)"
   ]
  },
  {
   "cell_type": "code",
   "execution_count": 70,
   "metadata": {},
   "outputs": [
    {
     "data": {
      "text/plain": [
       "XGBRegressor(base_score=0.5, booster='gbtree', colsample_bylevel=1,\n",
       "             colsample_bynode=1, colsample_bytree=1, gamma=0, gpu_id=-1,\n",
       "             importance_type='gain', interaction_constraints='',\n",
       "             learning_rate=0.300000012, max_delta_step=0, max_depth=6,\n",
       "             min_child_weight=1, missing=nan, monotone_constraints='()',\n",
       "             n_estimators=100, n_jobs=0, num_parallel_tree=1, random_state=0,\n",
       "             reg_alpha=0, reg_lambda=1, scale_pos_weight=1, subsample=1,\n",
       "             tree_method='exact', validate_parameters=1, verbosity=None)"
      ]
     },
     "execution_count": 70,
     "metadata": {},
     "output_type": "execute_result"
    }
   ],
   "source": [
    "model = XGBRegressor()\n",
    "model.fit(X_train, y_train)"
   ]
  },
  {
   "cell_type": "code",
   "execution_count": 71,
   "metadata": {},
   "outputs": [
    {
     "data": {
      "text/plain": [
       "4.777112869860696"
      ]
     },
     "execution_count": 71,
     "metadata": {},
     "output_type": "execute_result"
    }
   ],
   "source": [
    "y_pred = model.predict(X_test)\n",
    "np.sqrt(mean_squared_error(y_test, y_pred))"
   ]
  },
  {
   "cell_type": "markdown",
   "metadata": {},
   "source": []
  }
 ],
 "metadata": {
  "kernelspec": {
   "display_name": "Python 3",
   "language": "python",
   "name": "python3"
  },
  "language_info": {
   "codemirror_mode": {
    "name": "ipython",
    "version": 3
   },
   "file_extension": ".py",
   "mimetype": "text/x-python",
   "name": "python",
   "nbconvert_exporter": "python",
   "pygments_lexer": "ipython3",
   "version": "3.7.3"
  }
 },
 "nbformat": 4,
 "nbformat_minor": 4
}
