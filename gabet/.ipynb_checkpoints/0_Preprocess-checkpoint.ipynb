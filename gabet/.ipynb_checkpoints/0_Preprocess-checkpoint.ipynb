{
 "cells": [
  {
   "cell_type": "code",
   "execution_count": 1,
   "metadata": {},
   "outputs": [],
   "source": [
    "import pandas as pd\n",
    "import numpy as np\n",
    "import matplotlib\n",
    "import matplotlib.pyplot as plt\n",
    "import seaborn as sns\n",
    "from functools import reduce\n",
    "import re\n",
    "from sklearn.feature_extraction.text import CountVectorizer\n",
    "from collections import Counter\n",
    "from sklearn.cluster import KMeans\n",
    "from scipy import stats\n",
    "from nltk.corpus import stopwords"
   ]
  },
  {
   "cell_type": "markdown",
   "metadata": {},
   "source": [
    "### Read in Data"
   ]
  },
  {
   "cell_type": "code",
   "execution_count": 2,
   "metadata": {},
   "outputs": [
    {
     "name": "stderr",
     "output_type": "stream",
     "text": [
      "/Users/gabrieltaylor/.pyenv/versions/3.7.3/lib/python3.7/site-packages/IPython/core/interactiveshell.py:3063: DtypeWarning: Columns (0,3,5,19,20,24,25,26,27,28,36,37,38,39,48) have mixed types.Specify dtype option on import or set low_memory=False.\n",
      "  interactivity=interactivity, compiler=compiler, result=result)\n"
     ]
    }
   ],
   "source": [
    "df = pd.read_csv(\"/Users/gabrieltaylor/Python/STAT542/en.openfoodfacts.org.products.tsv\", sep = \"\\t\")"
   ]
  },
  {
   "cell_type": "code",
   "execution_count": 4,
   "metadata": {},
   "outputs": [
    {
     "data": {
      "text/html": [
       "<div>\n",
       "<style scoped>\n",
       "    .dataframe tbody tr th:only-of-type {\n",
       "        vertical-align: middle;\n",
       "    }\n",
       "\n",
       "    .dataframe tbody tr th {\n",
       "        vertical-align: top;\n",
       "    }\n",
       "\n",
       "    .dataframe thead th {\n",
       "        text-align: right;\n",
       "    }\n",
       "</style>\n",
       "<table border=\"1\" class=\"dataframe\">\n",
       "  <thead>\n",
       "    <tr style=\"text-align: right;\">\n",
       "      <th></th>\n",
       "      <th>code</th>\n",
       "      <th>url</th>\n",
       "      <th>creator</th>\n",
       "      <th>created_t</th>\n",
       "      <th>created_datetime</th>\n",
       "      <th>last_modified_t</th>\n",
       "      <th>last_modified_datetime</th>\n",
       "      <th>product_name</th>\n",
       "      <th>generic_name</th>\n",
       "      <th>quantity</th>\n",
       "      <th>...</th>\n",
       "      <th>fruits-vegetables-nuts_100g</th>\n",
       "      <th>fruits-vegetables-nuts-estimate_100g</th>\n",
       "      <th>collagen-meat-protein-ratio_100g</th>\n",
       "      <th>cocoa_100g</th>\n",
       "      <th>chlorophyl_100g</th>\n",
       "      <th>carbon-footprint_100g</th>\n",
       "      <th>nutrition-score-fr_100g</th>\n",
       "      <th>nutrition-score-uk_100g</th>\n",
       "      <th>glycemic-index_100g</th>\n",
       "      <th>water-hardness_100g</th>\n",
       "    </tr>\n",
       "  </thead>\n",
       "  <tbody>\n",
       "    <tr>\n",
       "      <th>0</th>\n",
       "      <td>3087</td>\n",
       "      <td>http://world-en.openfoodfacts.org/product/0000...</td>\n",
       "      <td>openfoodfacts-contributors</td>\n",
       "      <td>1474103866</td>\n",
       "      <td>2016-09-17T09:17:46Z</td>\n",
       "      <td>1474103893</td>\n",
       "      <td>2016-09-17T09:18:13Z</td>\n",
       "      <td>Farine de blé noir</td>\n",
       "      <td>NaN</td>\n",
       "      <td>1kg</td>\n",
       "      <td>...</td>\n",
       "      <td>NaN</td>\n",
       "      <td>NaN</td>\n",
       "      <td>NaN</td>\n",
       "      <td>NaN</td>\n",
       "      <td>NaN</td>\n",
       "      <td>NaN</td>\n",
       "      <td>NaN</td>\n",
       "      <td>NaN</td>\n",
       "      <td>NaN</td>\n",
       "      <td>NaN</td>\n",
       "    </tr>\n",
       "    <tr>\n",
       "      <th>1</th>\n",
       "      <td>4530</td>\n",
       "      <td>http://world-en.openfoodfacts.org/product/0000...</td>\n",
       "      <td>usda-ndb-import</td>\n",
       "      <td>1489069957</td>\n",
       "      <td>2017-03-09T14:32:37Z</td>\n",
       "      <td>1489069957</td>\n",
       "      <td>2017-03-09T14:32:37Z</td>\n",
       "      <td>Banana Chips Sweetened (Whole)</td>\n",
       "      <td>NaN</td>\n",
       "      <td>NaN</td>\n",
       "      <td>...</td>\n",
       "      <td>NaN</td>\n",
       "      <td>NaN</td>\n",
       "      <td>NaN</td>\n",
       "      <td>NaN</td>\n",
       "      <td>NaN</td>\n",
       "      <td>NaN</td>\n",
       "      <td>14.0</td>\n",
       "      <td>14.0</td>\n",
       "      <td>NaN</td>\n",
       "      <td>NaN</td>\n",
       "    </tr>\n",
       "    <tr>\n",
       "      <th>2</th>\n",
       "      <td>4559</td>\n",
       "      <td>http://world-en.openfoodfacts.org/product/0000...</td>\n",
       "      <td>usda-ndb-import</td>\n",
       "      <td>1489069957</td>\n",
       "      <td>2017-03-09T14:32:37Z</td>\n",
       "      <td>1489069957</td>\n",
       "      <td>2017-03-09T14:32:37Z</td>\n",
       "      <td>Peanuts</td>\n",
       "      <td>NaN</td>\n",
       "      <td>NaN</td>\n",
       "      <td>...</td>\n",
       "      <td>NaN</td>\n",
       "      <td>NaN</td>\n",
       "      <td>NaN</td>\n",
       "      <td>NaN</td>\n",
       "      <td>NaN</td>\n",
       "      <td>NaN</td>\n",
       "      <td>0.0</td>\n",
       "      <td>0.0</td>\n",
       "      <td>NaN</td>\n",
       "      <td>NaN</td>\n",
       "    </tr>\n",
       "    <tr>\n",
       "      <th>3</th>\n",
       "      <td>16087</td>\n",
       "      <td>http://world-en.openfoodfacts.org/product/0000...</td>\n",
       "      <td>usda-ndb-import</td>\n",
       "      <td>1489055731</td>\n",
       "      <td>2017-03-09T10:35:31Z</td>\n",
       "      <td>1489055731</td>\n",
       "      <td>2017-03-09T10:35:31Z</td>\n",
       "      <td>Organic Salted Nut Mix</td>\n",
       "      <td>NaN</td>\n",
       "      <td>NaN</td>\n",
       "      <td>...</td>\n",
       "      <td>NaN</td>\n",
       "      <td>NaN</td>\n",
       "      <td>NaN</td>\n",
       "      <td>NaN</td>\n",
       "      <td>NaN</td>\n",
       "      <td>NaN</td>\n",
       "      <td>12.0</td>\n",
       "      <td>12.0</td>\n",
       "      <td>NaN</td>\n",
       "      <td>NaN</td>\n",
       "    </tr>\n",
       "    <tr>\n",
       "      <th>4</th>\n",
       "      <td>16094</td>\n",
       "      <td>http://world-en.openfoodfacts.org/product/0000...</td>\n",
       "      <td>usda-ndb-import</td>\n",
       "      <td>1489055653</td>\n",
       "      <td>2017-03-09T10:34:13Z</td>\n",
       "      <td>1489055653</td>\n",
       "      <td>2017-03-09T10:34:13Z</td>\n",
       "      <td>Organic Polenta</td>\n",
       "      <td>NaN</td>\n",
       "      <td>NaN</td>\n",
       "      <td>...</td>\n",
       "      <td>NaN</td>\n",
       "      <td>NaN</td>\n",
       "      <td>NaN</td>\n",
       "      <td>NaN</td>\n",
       "      <td>NaN</td>\n",
       "      <td>NaN</td>\n",
       "      <td>NaN</td>\n",
       "      <td>NaN</td>\n",
       "      <td>NaN</td>\n",
       "      <td>NaN</td>\n",
       "    </tr>\n",
       "  </tbody>\n",
       "</table>\n",
       "<p>5 rows × 163 columns</p>\n",
       "</div>"
      ],
      "text/plain": [
       "    code                                                url  \\\n",
       "0   3087  http://world-en.openfoodfacts.org/product/0000...   \n",
       "1   4530  http://world-en.openfoodfacts.org/product/0000...   \n",
       "2   4559  http://world-en.openfoodfacts.org/product/0000...   \n",
       "3  16087  http://world-en.openfoodfacts.org/product/0000...   \n",
       "4  16094  http://world-en.openfoodfacts.org/product/0000...   \n",
       "\n",
       "                      creator   created_t      created_datetime  \\\n",
       "0  openfoodfacts-contributors  1474103866  2016-09-17T09:17:46Z   \n",
       "1             usda-ndb-import  1489069957  2017-03-09T14:32:37Z   \n",
       "2             usda-ndb-import  1489069957  2017-03-09T14:32:37Z   \n",
       "3             usda-ndb-import  1489055731  2017-03-09T10:35:31Z   \n",
       "4             usda-ndb-import  1489055653  2017-03-09T10:34:13Z   \n",
       "\n",
       "  last_modified_t last_modified_datetime                    product_name  \\\n",
       "0      1474103893   2016-09-17T09:18:13Z              Farine de blé noir   \n",
       "1      1489069957   2017-03-09T14:32:37Z  Banana Chips Sweetened (Whole)   \n",
       "2      1489069957   2017-03-09T14:32:37Z                         Peanuts   \n",
       "3      1489055731   2017-03-09T10:35:31Z          Organic Salted Nut Mix   \n",
       "4      1489055653   2017-03-09T10:34:13Z                 Organic Polenta   \n",
       "\n",
       "  generic_name quantity  ... fruits-vegetables-nuts_100g  \\\n",
       "0          NaN      1kg  ...                         NaN   \n",
       "1          NaN      NaN  ...                         NaN   \n",
       "2          NaN      NaN  ...                         NaN   \n",
       "3          NaN      NaN  ...                         NaN   \n",
       "4          NaN      NaN  ...                         NaN   \n",
       "\n",
       "  fruits-vegetables-nuts-estimate_100g collagen-meat-protein-ratio_100g  \\\n",
       "0                                  NaN                              NaN   \n",
       "1                                  NaN                              NaN   \n",
       "2                                  NaN                              NaN   \n",
       "3                                  NaN                              NaN   \n",
       "4                                  NaN                              NaN   \n",
       "\n",
       "  cocoa_100g chlorophyl_100g carbon-footprint_100g nutrition-score-fr_100g  \\\n",
       "0        NaN             NaN                   NaN                     NaN   \n",
       "1        NaN             NaN                   NaN                    14.0   \n",
       "2        NaN             NaN                   NaN                     0.0   \n",
       "3        NaN             NaN                   NaN                    12.0   \n",
       "4        NaN             NaN                   NaN                     NaN   \n",
       "\n",
       "  nutrition-score-uk_100g glycemic-index_100g water-hardness_100g  \n",
       "0                     NaN                 NaN                 NaN  \n",
       "1                    14.0                 NaN                 NaN  \n",
       "2                     0.0                 NaN                 NaN  \n",
       "3                    12.0                 NaN                 NaN  \n",
       "4                     NaN                 NaN                 NaN  \n",
       "\n",
       "[5 rows x 163 columns]"
      ]
     },
     "execution_count": 4,
     "metadata": {},
     "output_type": "execute_result"
    }
   ],
   "source": [
    "df.head()"
   ]
  },
  {
   "cell_type": "markdown",
   "metadata": {},
   "source": [
    "### Plot Missing Values"
   ]
  },
  {
   "cell_type": "code",
   "execution_count": 4,
   "metadata": {},
   "outputs": [],
   "source": [
    "miss_vals = pd.DataFrame(df.isna().mean()).reset_index()\n",
    "miss_vals.columns = [\"Columns\", \"MV Rate\"]\n",
    "miss_vals = miss_vals.sort_values(\"MV Rate\")"
   ]
  },
  {
   "cell_type": "code",
   "execution_count": 88,
   "metadata": {},
   "outputs": [
    {
     "data": {
      "text/plain": [
       "<matplotlib.axes._subplots.AxesSubplot at 0x16f25cbe0>"
      ]
     },
     "execution_count": 88,
     "metadata": {},
     "output_type": "execute_result"
    },
    {
     "data": {
      "image/png": "[encoded data removed]",
      "text/plain": [
       "<Figure size 720x1800 with 1 Axes>"
      ]
     },
     "metadata": {
      "needs_background": "light"
     },
     "output_type": "display_data"
    }
   ],
   "source": [
    "plt.figure(figsize = (10, 25))\n",
    "sns.barplot(\"MV Rate\", \"Columns\", data = miss_vals, orient = \"h\")"
   ]
  },
  {
   "cell_type": "markdown",
   "metadata": {},
   "source": [
    "### Remove Columns above 30% Missing Values"
   ]
  },
  {
   "cell_type": "code",
   "execution_count": 5,
   "metadata": {},
   "outputs": [],
   "source": [
    "keep_cols = miss_vals[miss_vals[\"MV Rate\"] < 0.3][\"Columns\"]"
   ]
  },
  {
   "cell_type": "code",
   "execution_count": 6,
   "metadata": {},
   "outputs": [],
   "source": [
    "df2 = df[keep_cols]"
   ]
  },
  {
   "cell_type": "markdown",
   "metadata": {},
   "source": [
    "### Remove General Information "
   ]
  },
  {
   "cell_type": "code",
   "execution_count": 7,
   "metadata": {},
   "outputs": [],
   "source": [
    "rm_cols = [ 'last_modified_t',\n",
    "            'last_modified_datetime',\n",
    "             'creator',\n",
    "             'created_t',\n",
    "             'created_datetime',\n",
    "             'code',\n",
    "             'url',\n",
    "             'states',\n",
    "             'states_en',\n",
    "             'states_tags',\n",
    "             'countries_tags',\n",
    "             'countries',\n",
    "             'ingredients_that_may_be_from_palm_oil_n',\n",
    "             'ingredients_from_palm_oil_n',\n",
    "             'product_name', ### Perhaps Keep\n",
    "             'brands', ### Perhaps Keep\n",
    "             'brands_tags',\n",
    "             'additives', ### contained in ingredients\n",
    "             'additives_n',\n",
    "             'nutrition-score-uk_100g', ### Related to target\n",
    "             'nutrition_grade_fr', ### Related to target\n",
    "             'salt_100g' ### Sodium will suffice\n",
    "          ]"
   ]
  },
  {
   "cell_type": "code",
   "execution_count": 8,
   "metadata": {},
   "outputs": [],
   "source": [
    "df3 = df2.drop(rm_cols, axis = 1)"
   ]
  },
  {
   "cell_type": "markdown",
   "metadata": {},
   "source": [
    "## Check Missingness"
   ]
  },
  {
   "cell_type": "code",
   "execution_count": 9,
   "metadata": {},
   "outputs": [
    {
     "data": {
      "text/html": [
       "<div>\n",
       "<style scoped>\n",
       "    .dataframe tbody tr th:only-of-type {\n",
       "        vertical-align: middle;\n",
       "    }\n",
       "\n",
       "    .dataframe tbody tr th {\n",
       "        vertical-align: top;\n",
       "    }\n",
       "\n",
       "    .dataframe thead th {\n",
       "        text-align: right;\n",
       "    }\n",
       "</style>\n",
       "<table border=\"1\" class=\"dataframe\">\n",
       "  <thead>\n",
       "    <tr style=\"text-align: right;\">\n",
       "      <th></th>\n",
       "      <th>index</th>\n",
       "      <th>0</th>\n",
       "    </tr>\n",
       "  </thead>\n",
       "  <tbody>\n",
       "    <tr>\n",
       "      <th>0</th>\n",
       "      <td>countries_en</td>\n",
       "      <td>0.000772</td>\n",
       "    </tr>\n",
       "    <tr>\n",
       "      <th>1</th>\n",
       "      <td>energy_100g</td>\n",
       "      <td>0.170380</td>\n",
       "    </tr>\n",
       "    <tr>\n",
       "      <th>2</th>\n",
       "      <td>proteins_100g</td>\n",
       "      <td>0.173768</td>\n",
       "    </tr>\n",
       "    <tr>\n",
       "      <th>3</th>\n",
       "      <td>sodium_100g</td>\n",
       "      <td>0.186315</td>\n",
       "    </tr>\n",
       "    <tr>\n",
       "      <th>4</th>\n",
       "      <td>ingredients_text</td>\n",
       "      <td>0.202608</td>\n",
       "    </tr>\n",
       "    <tr>\n",
       "      <th>5</th>\n",
       "      <td>fat_100g</td>\n",
       "      <td>0.214956</td>\n",
       "    </tr>\n",
       "    <tr>\n",
       "      <th>6</th>\n",
       "      <td>carbohydrates_100g</td>\n",
       "      <td>0.215734</td>\n",
       "    </tr>\n",
       "    <tr>\n",
       "      <th>7</th>\n",
       "      <td>sugars_100g</td>\n",
       "      <td>0.215829</td>\n",
       "    </tr>\n",
       "    <tr>\n",
       "      <th>8</th>\n",
       "      <td>saturated-fat_100g</td>\n",
       "      <td>0.258980</td>\n",
       "    </tr>\n",
       "    <tr>\n",
       "      <th>9</th>\n",
       "      <td>nutrition-score-fr_100g</td>\n",
       "      <td>0.284167</td>\n",
       "    </tr>\n",
       "  </tbody>\n",
       "</table>\n",
       "</div>"
      ],
      "text/plain": [
       "                     index         0\n",
       "0             countries_en  0.000772\n",
       "1              energy_100g  0.170380\n",
       "2            proteins_100g  0.173768\n",
       "3              sodium_100g  0.186315\n",
       "4         ingredients_text  0.202608\n",
       "5                 fat_100g  0.214956\n",
       "6       carbohydrates_100g  0.215734\n",
       "7              sugars_100g  0.215829\n",
       "8       saturated-fat_100g  0.258980\n",
       "9  nutrition-score-fr_100g  0.284167"
      ]
     },
     "execution_count": 9,
     "metadata": {},
     "output_type": "execute_result"
    }
   ],
   "source": [
    "pd.DataFrame(df3.isna().mean()).reset_index()"
   ]
  },
  {
   "cell_type": "markdown",
   "metadata": {},
   "source": [
    "### Remove All Missing Rows For Right Now"
   ]
  },
  {
   "cell_type": "code",
   "execution_count": 10,
   "metadata": {},
   "outputs": [],
   "source": [
    "df4 = df3.dropna()"
   ]
  },
  {
   "cell_type": "code",
   "execution_count": 11,
   "metadata": {},
   "outputs": [
    {
     "data": {
      "text/plain": [
       "0.6426394627373767"
      ]
     },
     "execution_count": 11,
     "metadata": {},
     "output_type": "execute_result"
    }
   ],
   "source": [
    "df4.shape[0] / df3.shape[0]"
   ]
  },
  {
   "cell_type": "markdown",
   "metadata": {},
   "source": [
    "# Unsupervised Task"
   ]
  },
  {
   "cell_type": "code",
   "execution_count": null,
   "metadata": {},
   "outputs": [],
   "source": [
    "def scale(x):\n",
    "    return (x - np.mean(x)) / np.std(x)"
   ]
  },
  {
   "cell_type": "markdown",
   "metadata": {},
   "source": [
    "## Clustering Macronutrients"
   ]
  },
  {
   "cell_type": "code",
   "execution_count": 347,
   "metadata": {},
   "outputs": [],
   "source": [
    "keep_cols = ['ingredients_text',\n",
    "             'carbohydrates_100g',\n",
    "             'fiber_100g',\n",
    "             'sugars_100g',\n",
    "             'proteins_100g', \n",
    "             'fat_100g', \n",
    "             'saturated-fat_100g']\n",
    "clust_df = df[keep_cols]\n",
    "clust_df = clust_df.dropna()"
   ]
  },
  {
   "cell_type": "code",
   "execution_count": 348,
   "metadata": {},
   "outputs": [],
   "source": [
    "clean_ingre = lambda s: \" \".join( map( lambda s1: s1.strip().replace(\" \", \"-\") , s.lower().replace(\".\",\"\").replace(\"(\",\",\").replace(\")\",\",\").split(\",\") ) )"
   ]
  },
  {
   "cell_type": "code",
   "execution_count": 349,
   "metadata": {},
   "outputs": [],
   "source": [
    "clust_df[\"ingredients_text\"] = [clean_ingre(i) for i in clust_df[\"ingredients_text\"]]"
   ]
  },
  {
   "cell_type": "markdown",
   "metadata": {},
   "source": [
    "### Keep Only Rows With The Most Common Ingredients\n",
    "\n",
    "Rows containing ingredients that are **not** in the the most common words list are dropped"
   ]
  },
  {
   "cell_type": "code",
   "execution_count": 350,
   "metadata": {},
   "outputs": [],
   "source": [
    "all_words = [i for ing in clust_df['ingredients_text'] for i in ing.split()]"
   ]
  },
  {
   "cell_type": "code",
   "execution_count": 351,
   "metadata": {},
   "outputs": [],
   "source": [
    "most_common_words = dict(Counter(all_words).most_common(1000))"
   ]
  },
  {
   "cell_type": "code",
   "execution_count": 352,
   "metadata": {},
   "outputs": [],
   "source": [
    "clust_df = clust_df[[all(i in most_common_words.keys() for i in i_list.split()) for i_list in clust_df['ingredients_text']]]"
   ]
  },
  {
   "cell_type": "code",
   "execution_count": 353,
   "metadata": {},
   "outputs": [
    {
     "data": {
      "text/html": [
       "<div>\n",
       "<style scoped>\n",
       "    .dataframe tbody tr th:only-of-type {\n",
       "        vertical-align: middle;\n",
       "    }\n",
       "\n",
       "    .dataframe tbody tr th {\n",
       "        vertical-align: top;\n",
       "    }\n",
       "\n",
       "    .dataframe thead th {\n",
       "        text-align: right;\n",
       "    }\n",
       "</style>\n",
       "<table border=\"1\" class=\"dataframe\">\n",
       "  <thead>\n",
       "    <tr style=\"text-align: right;\">\n",
       "      <th></th>\n",
       "      <th>ingredients_text</th>\n",
       "      <th>carbohydrates_100g</th>\n",
       "      <th>fiber_100g</th>\n",
       "      <th>sugars_100g</th>\n",
       "      <th>proteins_100g</th>\n",
       "      <th>fat_100g</th>\n",
       "      <th>saturated-fat_100g</th>\n",
       "    </tr>\n",
       "  </thead>\n",
       "  <tbody>\n",
       "    <tr>\n",
       "      <th>2</th>\n",
       "      <td>peanuts wheat-flour sugar rice-flour tapioca-s...</td>\n",
       "      <td>60.71</td>\n",
       "      <td>7.1</td>\n",
       "      <td>17.86</td>\n",
       "      <td>17.86</td>\n",
       "      <td>17.86</td>\n",
       "      <td>0.00</td>\n",
       "    </tr>\n",
       "    <tr>\n",
       "      <th>30</th>\n",
       "      <td>organic-coconut</td>\n",
       "      <td>53.33</td>\n",
       "      <td>6.7</td>\n",
       "      <td>6.67</td>\n",
       "      <td>6.67</td>\n",
       "      <td>30.00</td>\n",
       "      <td>26.67</td>\n",
       "    </tr>\n",
       "    <tr>\n",
       "      <th>38</th>\n",
       "      <td>organic-coconut</td>\n",
       "      <td>24.00</td>\n",
       "      <td>16.0</td>\n",
       "      <td>7.00</td>\n",
       "      <td>6.00</td>\n",
       "      <td>65.00</td>\n",
       "      <td>57.00</td>\n",
       "    </tr>\n",
       "    <tr>\n",
       "      <th>148</th>\n",
       "      <td>cranberries sugar sunflower-oil</td>\n",
       "      <td>83.33</td>\n",
       "      <td>10.0</td>\n",
       "      <td>66.67</td>\n",
       "      <td>0.00</td>\n",
       "      <td>0.00</td>\n",
       "      <td>0.00</td>\n",
       "    </tr>\n",
       "    <tr>\n",
       "      <th>149</th>\n",
       "      <td>apricots sulfur-dioxide</td>\n",
       "      <td>62.50</td>\n",
       "      <td>7.5</td>\n",
       "      <td>52.50</td>\n",
       "      <td>2.50</td>\n",
       "      <td>0.00</td>\n",
       "      <td>0.00</td>\n",
       "    </tr>\n",
       "  </tbody>\n",
       "</table>\n",
       "</div>"
      ],
      "text/plain": [
       "                                      ingredients_text  carbohydrates_100g  \\\n",
       "2    peanuts wheat-flour sugar rice-flour tapioca-s...               60.71   \n",
       "30                                     organic-coconut               53.33   \n",
       "38                                     organic-coconut               24.00   \n",
       "148                    cranberries sugar sunflower-oil               83.33   \n",
       "149                            apricots sulfur-dioxide               62.50   \n",
       "\n",
       "     fiber_100g  sugars_100g  proteins_100g  fat_100g  saturated-fat_100g  \n",
       "2           7.1        17.86          17.86     17.86                0.00  \n",
       "30          6.7         6.67           6.67     30.00               26.67  \n",
       "38         16.0         7.00           6.00     65.00               57.00  \n",
       "148        10.0        66.67           0.00      0.00                0.00  \n",
       "149         7.5        52.50           2.50      0.00                0.00  "
      ]
     },
     "execution_count": 353,
     "metadata": {},
     "output_type": "execute_result"
    }
   ],
   "source": [
    "clust_df.head()"
   ]
  },
  {
   "cell_type": "markdown",
   "metadata": {},
   "source": [
    "### Remove outliers"
   ]
  },
  {
   "cell_type": "code",
   "execution_count": 354,
   "metadata": {},
   "outputs": [],
   "source": [
    "clust_df = clust_df[(np.abs(stats.zscore(clust_df.drop([\"ingredients_text\"], axis = 1))) < 3).all(axis = 1)]"
   ]
  },
  {
   "cell_type": "code",
   "execution_count": 355,
   "metadata": {},
   "outputs": [
    {
     "data": {
      "text/html": [
       "<div>\n",
       "<style scoped>\n",
       "    .dataframe tbody tr th:only-of-type {\n",
       "        vertical-align: middle;\n",
       "    }\n",
       "\n",
       "    .dataframe tbody tr th {\n",
       "        vertical-align: top;\n",
       "    }\n",
       "\n",
       "    .dataframe thead th {\n",
       "        text-align: right;\n",
       "    }\n",
       "</style>\n",
       "<table border=\"1\" class=\"dataframe\">\n",
       "  <thead>\n",
       "    <tr style=\"text-align: right;\">\n",
       "      <th></th>\n",
       "      <th>carbohydrates_100g</th>\n",
       "      <th>fiber_100g</th>\n",
       "      <th>sugars_100g</th>\n",
       "      <th>proteins_100g</th>\n",
       "      <th>fat_100g</th>\n",
       "      <th>saturated-fat_100g</th>\n",
       "    </tr>\n",
       "  </thead>\n",
       "  <tbody>\n",
       "    <tr>\n",
       "      <th>count</th>\n",
       "      <td>12277.000000</td>\n",
       "      <td>12277.000000</td>\n",
       "      <td>12277.000000</td>\n",
       "      <td>12277.000000</td>\n",
       "      <td>12277.00000</td>\n",
       "      <td>12277.000000</td>\n",
       "    </tr>\n",
       "    <tr>\n",
       "      <th>mean</th>\n",
       "      <td>28.127085</td>\n",
       "      <td>2.700839</td>\n",
       "      <td>11.176865</td>\n",
       "      <td>9.885555</td>\n",
       "      <td>15.22132</td>\n",
       "      <td>4.956619</td>\n",
       "    </tr>\n",
       "    <tr>\n",
       "      <th>std</th>\n",
       "      <td>29.103303</td>\n",
       "      <td>3.504133</td>\n",
       "      <td>18.002026</td>\n",
       "      <td>9.279081</td>\n",
       "      <td>19.13315</td>\n",
       "      <td>7.077012</td>\n",
       "    </tr>\n",
       "    <tr>\n",
       "      <th>min</th>\n",
       "      <td>0.000000</td>\n",
       "      <td>0.000000</td>\n",
       "      <td>-1.200000</td>\n",
       "      <td>0.000000</td>\n",
       "      <td>0.00000</td>\n",
       "      <td>0.000000</td>\n",
       "    </tr>\n",
       "    <tr>\n",
       "      <th>25%</th>\n",
       "      <td>3.700000</td>\n",
       "      <td>0.000000</td>\n",
       "      <td>0.000000</td>\n",
       "      <td>1.600000</td>\n",
       "      <td>0.00000</td>\n",
       "      <td>0.000000</td>\n",
       "    </tr>\n",
       "    <tr>\n",
       "      <th>50%</th>\n",
       "      <td>14.290000</td>\n",
       "      <td>1.600000</td>\n",
       "      <td>3.570000</td>\n",
       "      <td>7.000000</td>\n",
       "      <td>3.33000</td>\n",
       "      <td>0.340000</td>\n",
       "    </tr>\n",
       "    <tr>\n",
       "      <th>75%</th>\n",
       "      <td>56.250000</td>\n",
       "      <td>3.600000</td>\n",
       "      <td>10.620000</td>\n",
       "      <td>17.650000</td>\n",
       "      <td>28.57000</td>\n",
       "      <td>7.140000</td>\n",
       "    </tr>\n",
       "    <tr>\n",
       "      <th>max</th>\n",
       "      <td>100.000000</td>\n",
       "      <td>18.000000</td>\n",
       "      <td>73.330000</td>\n",
       "      <td>38.460000</td>\n",
       "      <td>82.14000</td>\n",
       "      <td>30.000000</td>\n",
       "    </tr>\n",
       "  </tbody>\n",
       "</table>\n",
       "</div>"
      ],
      "text/plain": [
       "       carbohydrates_100g    fiber_100g   sugars_100g  proteins_100g  \\\n",
       "count        12277.000000  12277.000000  12277.000000   12277.000000   \n",
       "mean            28.127085      2.700839     11.176865       9.885555   \n",
       "std             29.103303      3.504133     18.002026       9.279081   \n",
       "min              0.000000      0.000000     -1.200000       0.000000   \n",
       "25%              3.700000      0.000000      0.000000       1.600000   \n",
       "50%             14.290000      1.600000      3.570000       7.000000   \n",
       "75%             56.250000      3.600000     10.620000      17.650000   \n",
       "max            100.000000     18.000000     73.330000      38.460000   \n",
       "\n",
       "          fat_100g  saturated-fat_100g  \n",
       "count  12277.00000        12277.000000  \n",
       "mean      15.22132            4.956619  \n",
       "std       19.13315            7.077012  \n",
       "min        0.00000            0.000000  \n",
       "25%        0.00000            0.000000  \n",
       "50%        3.33000            0.340000  \n",
       "75%       28.57000            7.140000  \n",
       "max       82.14000           30.000000  "
      ]
     },
     "execution_count": 355,
     "metadata": {},
     "output_type": "execute_result"
    }
   ],
   "source": [
    "clust_df.describe()"
   ]
  },
  {
   "cell_type": "markdown",
   "metadata": {},
   "source": [
    "### Center and Scale"
   ]
  },
  {
   "cell_type": "code",
   "execution_count": 356,
   "metadata": {},
   "outputs": [],
   "source": [
    "for col in keep_cols[1:]:\n",
    "    clust_df[col] = scale(np.array(clust_df[col]))"
   ]
  },
  {
   "cell_type": "code",
   "execution_count": 357,
   "metadata": {},
   "outputs": [
    {
     "data": {
      "text/html": [
       "<div>\n",
       "<style scoped>\n",
       "    .dataframe tbody tr th:only-of-type {\n",
       "        vertical-align: middle;\n",
       "    }\n",
       "\n",
       "    .dataframe tbody tr th {\n",
       "        vertical-align: top;\n",
       "    }\n",
       "\n",
       "    .dataframe thead th {\n",
       "        text-align: right;\n",
       "    }\n",
       "</style>\n",
       "<table border=\"1\" class=\"dataframe\">\n",
       "  <thead>\n",
       "    <tr style=\"text-align: right;\">\n",
       "      <th></th>\n",
       "      <th>carbohydrates_100g</th>\n",
       "      <th>fiber_100g</th>\n",
       "      <th>sugars_100g</th>\n",
       "      <th>proteins_100g</th>\n",
       "      <th>fat_100g</th>\n",
       "      <th>saturated-fat_100g</th>\n",
       "    </tr>\n",
       "  </thead>\n",
       "  <tbody>\n",
       "    <tr>\n",
       "      <th>count</th>\n",
       "      <td>1.227700e+04</td>\n",
       "      <td>1.227700e+04</td>\n",
       "      <td>1.227700e+04</td>\n",
       "      <td>1.227700e+04</td>\n",
       "      <td>1.227700e+04</td>\n",
       "      <td>1.227700e+04</td>\n",
       "    </tr>\n",
       "    <tr>\n",
       "      <th>mean</th>\n",
       "      <td>1.111218e-16</td>\n",
       "      <td>-4.167067e-17</td>\n",
       "      <td>9.260148e-17</td>\n",
       "      <td>4.282818e-17</td>\n",
       "      <td>3.935563e-17</td>\n",
       "      <td>1.574225e-16</td>\n",
       "    </tr>\n",
       "    <tr>\n",
       "      <th>std</th>\n",
       "      <td>1.000041e+00</td>\n",
       "      <td>1.000041e+00</td>\n",
       "      <td>1.000041e+00</td>\n",
       "      <td>1.000041e+00</td>\n",
       "      <td>1.000041e+00</td>\n",
       "      <td>1.000041e+00</td>\n",
       "    </tr>\n",
       "    <tr>\n",
       "      <th>min</th>\n",
       "      <td>-9.664962e-01</td>\n",
       "      <td>-7.707895e-01</td>\n",
       "      <td>-6.875542e-01</td>\n",
       "      <td>-1.065403e+00</td>\n",
       "      <td>-7.955794e-01</td>\n",
       "      <td>-7.004115e-01</td>\n",
       "    </tr>\n",
       "    <tr>\n",
       "      <th>25%</th>\n",
       "      <td>-8.393577e-01</td>\n",
       "      <td>-7.707895e-01</td>\n",
       "      <td>-6.208924e-01</td>\n",
       "      <td>-8.929648e-01</td>\n",
       "      <td>-7.955794e-01</td>\n",
       "      <td>-7.004115e-01</td>\n",
       "    </tr>\n",
       "    <tr>\n",
       "      <th>50%</th>\n",
       "      <td>-4.754666e-01</td>\n",
       "      <td>-3.141672e-01</td>\n",
       "      <td>-4.225733e-01</td>\n",
       "      <td>-3.109869e-01</td>\n",
       "      <td>-6.215288e-01</td>\n",
       "      <td>-6.523667e-01</td>\n",
       "    </tr>\n",
       "    <tr>\n",
       "      <th>75%</th>\n",
       "      <td>9.663529e-01</td>\n",
       "      <td>2.566106e-01</td>\n",
       "      <td>-3.093475e-02</td>\n",
       "      <td>8.368028e-01</td>\n",
       "      <td>6.977013e-01</td>\n",
       "      <td>3.085299e-01</td>\n",
       "    </tr>\n",
       "    <tr>\n",
       "      <th>max</th>\n",
       "      <td>2.469680e+00</td>\n",
       "      <td>4.366211e+00</td>\n",
       "      <td>3.452704e+00</td>\n",
       "      <td>3.079573e+00</td>\n",
       "      <td>3.497668e+00</td>\n",
       "      <td>3.538838e+00</td>\n",
       "    </tr>\n",
       "  </tbody>\n",
       "</table>\n",
       "</div>"
      ],
      "text/plain": [
       "       carbohydrates_100g    fiber_100g   sugars_100g  proteins_100g  \\\n",
       "count        1.227700e+04  1.227700e+04  1.227700e+04   1.227700e+04   \n",
       "mean         1.111218e-16 -4.167067e-17  9.260148e-17   4.282818e-17   \n",
       "std          1.000041e+00  1.000041e+00  1.000041e+00   1.000041e+00   \n",
       "min         -9.664962e-01 -7.707895e-01 -6.875542e-01  -1.065403e+00   \n",
       "25%         -8.393577e-01 -7.707895e-01 -6.208924e-01  -8.929648e-01   \n",
       "50%         -4.754666e-01 -3.141672e-01 -4.225733e-01  -3.109869e-01   \n",
       "75%          9.663529e-01  2.566106e-01 -3.093475e-02   8.368028e-01   \n",
       "max          2.469680e+00  4.366211e+00  3.452704e+00   3.079573e+00   \n",
       "\n",
       "           fat_100g  saturated-fat_100g  \n",
       "count  1.227700e+04        1.227700e+04  \n",
       "mean   3.935563e-17        1.574225e-16  \n",
       "std    1.000041e+00        1.000041e+00  \n",
       "min   -7.955794e-01       -7.004115e-01  \n",
       "25%   -7.955794e-01       -7.004115e-01  \n",
       "50%   -6.215288e-01       -6.523667e-01  \n",
       "75%    6.977013e-01        3.085299e-01  \n",
       "max    3.497668e+00        3.538838e+00  "
      ]
     },
     "execution_count": 357,
     "metadata": {},
     "output_type": "execute_result"
    }
   ],
   "source": [
    "clust_df.describe()"
   ]
  },
  {
   "cell_type": "markdown",
   "metadata": {},
   "source": [
    "### Kmeans"
   ]
  },
  {
   "cell_type": "code",
   "execution_count": 358,
   "metadata": {},
   "outputs": [],
   "source": [
    "n_clust = 7"
   ]
  },
  {
   "cell_type": "code",
   "execution_count": 359,
   "metadata": {},
   "outputs": [],
   "source": [
    "X = np.array(clust_df.drop([\"ingredients_text\"], axis = 1))\n",
    "kmeans = KMeans(n_clusters = n_clust, random_state = 69).fit(X)"
   ]
  },
  {
   "cell_type": "markdown",
   "metadata": {},
   "source": [
    "### Macro Profile of Clusters"
   ]
  },
  {
   "cell_type": "code",
   "execution_count": 360,
   "metadata": {},
   "outputs": [],
   "source": [
    "clust_df['clust'] = kmeans.labels_"
   ]
  },
  {
   "cell_type": "code",
   "execution_count": 361,
   "metadata": {},
   "outputs": [
    {
     "data": {
      "text/html": [
       "<div>\n",
       "<style scoped>\n",
       "    .dataframe tbody tr th:only-of-type {\n",
       "        vertical-align: middle;\n",
       "    }\n",
       "\n",
       "    .dataframe tbody tr th {\n",
       "        vertical-align: top;\n",
       "    }\n",
       "\n",
       "    .dataframe thead th {\n",
       "        text-align: right;\n",
       "    }\n",
       "</style>\n",
       "<table border=\"1\" class=\"dataframe\">\n",
       "  <thead>\n",
       "    <tr style=\"text-align: right;\">\n",
       "      <th></th>\n",
       "      <th>carbohydrates_100g</th>\n",
       "      <th>fiber_100g</th>\n",
       "      <th>sugars_100g</th>\n",
       "      <th>proteins_100g</th>\n",
       "      <th>fat_100g</th>\n",
       "      <th>saturated-fat_100g</th>\n",
       "    </tr>\n",
       "    <tr>\n",
       "      <th>clust</th>\n",
       "      <th></th>\n",
       "      <th></th>\n",
       "      <th></th>\n",
       "      <th></th>\n",
       "      <th></th>\n",
       "      <th></th>\n",
       "    </tr>\n",
       "  </thead>\n",
       "  <tbody>\n",
       "    <tr>\n",
       "      <th>0</th>\n",
       "      <td>0.968331</td>\n",
       "      <td>0.271129</td>\n",
       "      <td>1.722463</td>\n",
       "      <td>-0.387930</td>\n",
       "      <td>0.812877</td>\n",
       "      <td>1.597583</td>\n",
       "    </tr>\n",
       "    <tr>\n",
       "      <th>1</th>\n",
       "      <td>1.631109</td>\n",
       "      <td>-0.062948</td>\n",
       "      <td>2.498615</td>\n",
       "      <td>-0.684789</td>\n",
       "      <td>-0.624892</td>\n",
       "      <td>-0.574979</td>\n",
       "    </tr>\n",
       "    <tr>\n",
       "      <th>2</th>\n",
       "      <td>1.427541</td>\n",
       "      <td>0.405686</td>\n",
       "      <td>-0.381313</td>\n",
       "      <td>0.043734</td>\n",
       "      <td>-0.455033</td>\n",
       "      <td>-0.561999</td>\n",
       "    </tr>\n",
       "    <tr>\n",
       "      <th>3</th>\n",
       "      <td>-0.213825</td>\n",
       "      <td>1.842528</td>\n",
       "      <td>-0.364679</td>\n",
       "      <td>0.916062</td>\n",
       "      <td>1.956182</td>\n",
       "      <td>0.147548</td>\n",
       "    </tr>\n",
       "    <tr>\n",
       "      <th>4</th>\n",
       "      <td>-0.875904</td>\n",
       "      <td>-0.756694</td>\n",
       "      <td>-0.584285</td>\n",
       "      <td>1.359728</td>\n",
       "      <td>0.771878</td>\n",
       "      <td>1.697450</td>\n",
       "    </tr>\n",
       "    <tr>\n",
       "      <th>5</th>\n",
       "      <td>-0.575626</td>\n",
       "      <td>-0.355994</td>\n",
       "      <td>-0.248121</td>\n",
       "      <td>-0.870631</td>\n",
       "      <td>-0.692513</td>\n",
       "      <td>-0.603841</td>\n",
       "    </tr>\n",
       "    <tr>\n",
       "      <th>6</th>\n",
       "      <td>-0.881210</td>\n",
       "      <td>-0.734198</td>\n",
       "      <td>-0.543491</td>\n",
       "      <td>0.957949</td>\n",
       "      <td>-0.426027</td>\n",
       "      <td>-0.368349</td>\n",
       "    </tr>\n",
       "  </tbody>\n",
       "</table>\n",
       "</div>"
      ],
      "text/plain": [
       "       carbohydrates_100g  fiber_100g  sugars_100g  proteins_100g  fat_100g  \\\n",
       "clust                                                                         \n",
       "0                0.968331    0.271129     1.722463      -0.387930  0.812877   \n",
       "1                1.631109   -0.062948     2.498615      -0.684789 -0.624892   \n",
       "2                1.427541    0.405686    -0.381313       0.043734 -0.455033   \n",
       "3               -0.213825    1.842528    -0.364679       0.916062  1.956182   \n",
       "4               -0.875904   -0.756694    -0.584285       1.359728  0.771878   \n",
       "5               -0.575626   -0.355994    -0.248121      -0.870631 -0.692513   \n",
       "6               -0.881210   -0.734198    -0.543491       0.957949 -0.426027   \n",
       "\n",
       "       saturated-fat_100g  \n",
       "clust                      \n",
       "0                1.597583  \n",
       "1               -0.574979  \n",
       "2               -0.561999  \n",
       "3                0.147548  \n",
       "4                1.697450  \n",
       "5               -0.603841  \n",
       "6               -0.368349  "
      ]
     },
     "execution_count": 361,
     "metadata": {},
     "output_type": "execute_result"
    }
   ],
   "source": [
    "clust_df.groupby('clust').mean()"
   ]
  },
  {
   "cell_type": "code",
   "execution_count": 362,
   "metadata": {},
   "outputs": [
    {
     "data": {
      "text/html": [
       "<div>\n",
       "<style scoped>\n",
       "    .dataframe tbody tr th:only-of-type {\n",
       "        vertical-align: middle;\n",
       "    }\n",
       "\n",
       "    .dataframe tbody tr th {\n",
       "        vertical-align: top;\n",
       "    }\n",
       "\n",
       "    .dataframe thead th {\n",
       "        text-align: right;\n",
       "    }\n",
       "</style>\n",
       "<table border=\"1\" class=\"dataframe\">\n",
       "  <thead>\n",
       "    <tr style=\"text-align: right;\">\n",
       "      <th></th>\n",
       "      <th>ingredients_text</th>\n",
       "      <th>carbohydrates_100g</th>\n",
       "      <th>fiber_100g</th>\n",
       "      <th>sugars_100g</th>\n",
       "      <th>proteins_100g</th>\n",
       "      <th>fat_100g</th>\n",
       "      <th>saturated-fat_100g</th>\n",
       "    </tr>\n",
       "    <tr>\n",
       "      <th>clust</th>\n",
       "      <th></th>\n",
       "      <th></th>\n",
       "      <th></th>\n",
       "      <th></th>\n",
       "      <th></th>\n",
       "      <th></th>\n",
       "      <th></th>\n",
       "    </tr>\n",
       "  </thead>\n",
       "  <tbody>\n",
       "    <tr>\n",
       "      <th>0</th>\n",
       "      <td>757</td>\n",
       "      <td>757</td>\n",
       "      <td>757</td>\n",
       "      <td>757</td>\n",
       "      <td>757</td>\n",
       "      <td>757</td>\n",
       "      <td>757</td>\n",
       "    </tr>\n",
       "    <tr>\n",
       "      <th>1</th>\n",
       "      <td>1044</td>\n",
       "      <td>1044</td>\n",
       "      <td>1044</td>\n",
       "      <td>1044</td>\n",
       "      <td>1044</td>\n",
       "      <td>1044</td>\n",
       "      <td>1044</td>\n",
       "    </tr>\n",
       "    <tr>\n",
       "      <th>2</th>\n",
       "      <td>1945</td>\n",
       "      <td>1945</td>\n",
       "      <td>1945</td>\n",
       "      <td>1945</td>\n",
       "      <td>1945</td>\n",
       "      <td>1945</td>\n",
       "      <td>1945</td>\n",
       "    </tr>\n",
       "    <tr>\n",
       "      <th>3</th>\n",
       "      <td>1449</td>\n",
       "      <td>1449</td>\n",
       "      <td>1449</td>\n",
       "      <td>1449</td>\n",
       "      <td>1449</td>\n",
       "      <td>1449</td>\n",
       "      <td>1449</td>\n",
       "    </tr>\n",
       "    <tr>\n",
       "      <th>4</th>\n",
       "      <td>1889</td>\n",
       "      <td>1889</td>\n",
       "      <td>1889</td>\n",
       "      <td>1889</td>\n",
       "      <td>1889</td>\n",
       "      <td>1889</td>\n",
       "      <td>1889</td>\n",
       "    </tr>\n",
       "    <tr>\n",
       "      <th>5</th>\n",
       "      <td>4346</td>\n",
       "      <td>4346</td>\n",
       "      <td>4346</td>\n",
       "      <td>4346</td>\n",
       "      <td>4346</td>\n",
       "      <td>4346</td>\n",
       "      <td>4346</td>\n",
       "    </tr>\n",
       "    <tr>\n",
       "      <th>6</th>\n",
       "      <td>847</td>\n",
       "      <td>847</td>\n",
       "      <td>847</td>\n",
       "      <td>847</td>\n",
       "      <td>847</td>\n",
       "      <td>847</td>\n",
       "      <td>847</td>\n",
       "    </tr>\n",
       "  </tbody>\n",
       "</table>\n",
       "</div>"
      ],
      "text/plain": [
       "       ingredients_text  carbohydrates_100g  fiber_100g  sugars_100g  \\\n",
       "clust                                                                  \n",
       "0                   757                 757         757          757   \n",
       "1                  1044                1044        1044         1044   \n",
       "2                  1945                1945        1945         1945   \n",
       "3                  1449                1449        1449         1449   \n",
       "4                  1889                1889        1889         1889   \n",
       "5                  4346                4346        4346         4346   \n",
       "6                   847                 847         847          847   \n",
       "\n",
       "       proteins_100g  fat_100g  saturated-fat_100g  \n",
       "clust                                               \n",
       "0                757       757                 757  \n",
       "1               1044      1044                1044  \n",
       "2               1945      1945                1945  \n",
       "3               1449      1449                1449  \n",
       "4               1889      1889                1889  \n",
       "5               4346      4346                4346  \n",
       "6                847       847                 847  "
      ]
     },
     "execution_count": 362,
     "metadata": {},
     "output_type": "execute_result"
    }
   ],
   "source": [
    "clust_df.groupby('clust').count()"
   ]
  },
  {
   "cell_type": "markdown",
   "metadata": {},
   "source": [
    "### Most Common Ingredients For Each Cluster"
   ]
  },
  {
   "cell_type": "code",
   "execution_count": 363,
   "metadata": {},
   "outputs": [
    {
     "data": {
      "text/plain": [
       "[None, None, None, None, None, None]"
      ]
     },
     "execution_count": 363,
     "metadata": {},
     "output_type": "execute_result"
    }
   ],
   "source": [
    "rm_words = set(stopwords.words('english') + ['de', 'contains', 's', 'et', 'of', 'en', \"fr\",'less', 'p', 'exists', 'following', 'ok'])\n",
    "better_words = rm_words\n",
    "[better_words.add(i) for i in ['water', 'sea-salt', 'sugar', 'salt', 'sel', 'eau']]"
   ]
  },
  {
   "cell_type": "code",
   "execution_count": 364,
   "metadata": {},
   "outputs": [],
   "source": [
    "all_words = [i for ing in clust_df['ingredients_text'] for i in ing.split()]"
   ]
  },
  {
   "cell_type": "code",
   "execution_count": 365,
   "metadata": {},
   "outputs": [],
   "source": [
    "tot_word_counts = dict(Counter(all_words))"
   ]
  },
  {
   "cell_type": "code",
   "execution_count": 366,
   "metadata": {},
   "outputs": [],
   "source": [
    "### TD IDF\n",
    "N = clust_df.shape[0]"
   ]
  },
  {
   "cell_type": "markdown",
   "metadata": {},
   "source": [
    "### WE USE TD-IDF TO DEFINE WORD PREVELANCE BY CLUSTER "
   ]
  },
  {
   "cell_type": "code",
   "execution_count": 367,
   "metadata": {},
   "outputs": [],
   "source": [
    "def clust_word_prevelance(col):\n",
    "    \n",
    "    ### All Words For Cluster\n",
    "    all_words = [i for ing in col for i in ing.split()]\n",
    "    \n",
    "    ### Stop Words\n",
    "    reduced_words = [w for w in all_words if w not in better_words]\n",
    "    \n",
    "    ### Count Words\n",
    "    clust_word_counts = dict(Counter(reduced_words).most_common())\n",
    "    \n",
    "    ### TF IDF To Obtain True Cluster Prevelance \n",
    "    for key in clust_word_counts.keys():\n",
    "        clust_word_counts[key] = clust_word_counts[key] * np.log(N / tot_word_counts[key])\n",
    "    \n",
    "    return clust_word_counts"
   ]
  },
  {
   "cell_type": "code",
   "execution_count": 368,
   "metadata": {},
   "outputs": [],
   "source": [
    "clust_words = clust_df.groupby('clust')['ingredients_text'].apply(clust_word_prevelance)"
   ]
  },
  {
   "cell_type": "markdown",
   "metadata": {},
   "source": [
    "## Let's Plot It Shall We"
   ]
  },
  {
   "cell_type": "code",
   "execution_count": 369,
   "metadata": {},
   "outputs": [
    {
     "name": "stdout",
     "output_type": "stream",
     "text": [
      "                  ingredients_text\n",
      "cocoa-butter           1340.120845\n",
      "soy-lecithin           1083.036709\n",
      "chocolate-liquor        969.411954\n",
      "vanilla                 827.088033\n",
      "butter                  657.840629\n"
     ]
    },
    {
     "data": {
      "image/png": "[encoded data removed]",
      "text/plain": [
       "<Figure size 432x288 with 1 Axes>"
      ]
     },
     "metadata": {
      "needs_background": "light"
     },
     "output_type": "display_data"
    },
    {
     "name": "stdout",
     "output_type": "stream",
     "text": [
      "                                ingredients_text\n",
      "corn-syrup                           1084.203185\n",
      "red-40                                845.653328\n",
      "yellow-5                              796.834434\n",
      "natural-and-artificial-flavors        735.215657\n",
      "gelatin                               712.670607\n"
     ]
    },
    {
     "data": {
      "image/png": "[encoded data removed]",
      "text/plain": [
       "<Figure size 432x288 with 1 Axes>"
      ]
     },
     "metadata": {
      "needs_background": "light"
     },
     "output_type": "display_data"
    },
    {
     "name": "stdout",
     "output_type": "stream",
     "text": [
      "                 ingredients_text\n",
      "niacin                2013.105343\n",
      "riboflavin            1983.935863\n",
      "folic-acid            1956.303251\n",
      "iron                  1677.868142\n",
      "ferrous-sulfate       1609.420794\n"
     ]
    },
    {
     "data": {
      "image/png": "[encoded data removed]",
      "text/plain": [
       "<Figure size 432x288 with 1 Axes>"
      ]
     },
     "metadata": {
      "needs_background": "light"
     },
     "output_type": "display_data"
    },
    {
     "name": "stdout",
     "output_type": "stream",
     "text": [
      "            ingredients_text\n",
      "almonds          1340.068469\n",
      "peanuts          1004.812435\n",
      "peanut-oil        858.706212\n",
      "pecans            849.084381\n",
      "walnuts           741.622681\n"
     ]
    },
    {
     "data": {
      "image/png": "[encoded data removed]",
      "text/plain": [
       "<Figure size 432x288 with 1 Axes>"
      ]
     },
     "metadata": {
      "needs_background": "light"
     },
     "output_type": "display_data"
    },
    {
     "name": "stdout",
     "output_type": "stream",
     "text": [
      "                            ingredients_text\n",
      "enzymes                          2766.488258\n",
      "pasteurized-milk                 2124.208136\n",
      "cheese-culture                   1964.597206\n",
      "cheese-cultures                  1140.887836\n",
      "pasteurized-part-skim-milk       1072.304013\n"
     ]
    },
    {
     "data": {
      "image/png": "[encoded data removed]",
      "text/plain": [
       "<Figure size 432x288 with 1 Axes>"
      ]
     },
     "metadata": {
      "needs_background": "light"
     },
     "output_type": "display_data"
    },
    {
     "name": "stdout",
     "output_type": "stream",
     "text": [
      "               ingredients_text\n",
      "citric-acid         1693.304957\n",
      "green-beans         1191.414808\n",
      "ascorbic-acid       1156.546455\n",
      "tomatoes            1109.536551\n",
      "vitamin-d3          1089.547548\n"
     ]
    },
    {
     "data": {
      "image/png": "[encoded data removed]",
      "text/plain": [
       "<Figure size 432x288 with 1 Axes>"
      ]
     },
     "metadata": {
      "needs_background": "light"
     },
     "output_type": "display_data"
    },
    {
     "name": "stdout",
     "output_type": "stream",
     "text": [
      "                         ingredients_text\n",
      "shrimp                        1085.769701\n",
      "sodium-tripolyphosphate        772.736200\n",
      "to-retain-moisture             686.759430\n",
      "sodium-nitrite                 616.064196\n",
      "sodium-erythorbate             577.433573\n"
     ]
    },
    {
     "data": {
      "image/png": "[encoded data removed]",
      "text/plain": [
       "<Figure size 432x288 with 1 Axes>"
      ]
     },
     "metadata": {
      "needs_background": "light"
     },
     "output_type": "display_data"
    }
   ],
   "source": [
    "for c in range(n_clust):\n",
    "    print(pd.DataFrame(clust_words[c]).dropna().sort_values('ingredients_text', ascending = False).iloc[:5, ])\n",
    "    \n",
    "    temp_df = clust_df[clust_df.clust == c]\n",
    "    plot_df = pd.DataFrame(temp_df.drop(['clust', 'ingredients_text'], axis = 1).stack()).reset_index()\n",
    "    plot_df.columns = ['fuck this column', 'nutrient', 'val']\n",
    "    sns.boxplot(x = 'nutrient', y = 'val', data = plot_df)\n",
    "    plt.title(\"Cluster: \" + str(c + 1))\n",
    "    plt.ylabel(\"Z\")\n",
    "    plt.xticks(rotation = 45)\n",
    "    plt.show()"
   ]
  },
  {
   "cell_type": "markdown",
   "metadata": {},
   "source": [
    "## Validate Results With Food Category"
   ]
  },
  {
   "cell_type": "code",
   "execution_count": 370,
   "metadata": {},
   "outputs": [
    {
     "data": {
      "text/html": [
       "<div>\n",
       "<style scoped>\n",
       "    .dataframe tbody tr th:only-of-type {\n",
       "        vertical-align: middle;\n",
       "    }\n",
       "\n",
       "    .dataframe tbody tr th {\n",
       "        vertical-align: top;\n",
       "    }\n",
       "\n",
       "    .dataframe thead th {\n",
       "        text-align: right;\n",
       "    }\n",
       "</style>\n",
       "<table border=\"1\" class=\"dataframe\">\n",
       "  <thead>\n",
       "    <tr style=\"text-align: right;\">\n",
       "      <th></th>\n",
       "      <th>ingredients_text</th>\n",
       "      <th>carbohydrates_100g</th>\n",
       "      <th>fiber_100g</th>\n",
       "      <th>sugars_100g</th>\n",
       "      <th>proteins_100g</th>\n",
       "      <th>fat_100g</th>\n",
       "      <th>saturated-fat_100g</th>\n",
       "      <th>clust</th>\n",
       "      <th>categories_en</th>\n",
       "    </tr>\n",
       "  </thead>\n",
       "  <tbody>\n",
       "    <tr>\n",
       "      <th>2</th>\n",
       "      <td>peanuts wheat-flour sugar rice-flour tapioca-s...</td>\n",
       "      <td>1.119606</td>\n",
       "      <td>1.255472</td>\n",
       "      <td>0.371259</td>\n",
       "      <td>0.859435</td>\n",
       "      <td>0.137917</td>\n",
       "      <td>-0.700412</td>\n",
       "      <td>2</td>\n",
       "      <td>NaN</td>\n",
       "    </tr>\n",
       "    <tr>\n",
       "      <th>30</th>\n",
       "      <td>organic-coconut</td>\n",
       "      <td>0.866017</td>\n",
       "      <td>1.141316</td>\n",
       "      <td>-0.250363</td>\n",
       "      <td>-0.346552</td>\n",
       "      <td>0.772444</td>\n",
       "      <td>3.068281</td>\n",
       "      <td>0</td>\n",
       "      <td>NaN</td>\n",
       "    </tr>\n",
       "    <tr>\n",
       "      <th>148</th>\n",
       "      <td>cranberries sugar sunflower-oil</td>\n",
       "      <td>1.896869</td>\n",
       "      <td>2.083100</td>\n",
       "      <td>3.082730</td>\n",
       "      <td>-1.065403</td>\n",
       "      <td>-0.795579</td>\n",
       "      <td>-0.700412</td>\n",
       "      <td>1</td>\n",
       "      <td>NaN</td>\n",
       "    </tr>\n",
       "    <tr>\n",
       "      <th>149</th>\n",
       "      <td>apricots sulfur-dioxide</td>\n",
       "      <td>1.181114</td>\n",
       "      <td>1.369627</td>\n",
       "      <td>2.295565</td>\n",
       "      <td>-0.795968</td>\n",
       "      <td>-0.795579</td>\n",
       "      <td>-0.700412</td>\n",
       "      <td>1</td>\n",
       "      <td>NaN</td>\n",
       "    </tr>\n",
       "    <tr>\n",
       "      <th>171</th>\n",
       "      <td>almonds</td>\n",
       "      <td>-0.279261</td>\n",
       "      <td>3.024883</td>\n",
       "      <td>-0.435906</td>\n",
       "      <td>1.090071</td>\n",
       "      <td>1.817792</td>\n",
       "      <td>-0.229855</td>\n",
       "      <td>3</td>\n",
       "      <td>NaN</td>\n",
       "    </tr>\n",
       "  </tbody>\n",
       "</table>\n",
       "</div>"
      ],
      "text/plain": [
       "                                      ingredients_text  carbohydrates_100g  \\\n",
       "2    peanuts wheat-flour sugar rice-flour tapioca-s...            1.119606   \n",
       "30                                     organic-coconut            0.866017   \n",
       "148                    cranberries sugar sunflower-oil            1.896869   \n",
       "149                            apricots sulfur-dioxide            1.181114   \n",
       "171                                            almonds           -0.279261   \n",
       "\n",
       "     fiber_100g  sugars_100g  proteins_100g  fat_100g  saturated-fat_100g  \\\n",
       "2      1.255472     0.371259       0.859435  0.137917           -0.700412   \n",
       "30     1.141316    -0.250363      -0.346552  0.772444            3.068281   \n",
       "148    2.083100     3.082730      -1.065403 -0.795579           -0.700412   \n",
       "149    1.369627     2.295565      -0.795968 -0.795579           -0.700412   \n",
       "171    3.024883    -0.435906       1.090071  1.817792           -0.229855   \n",
       "\n",
       "     clust categories_en  \n",
       "2        2           NaN  \n",
       "30       0           NaN  \n",
       "148      1           NaN  \n",
       "149      1           NaN  \n",
       "171      3           NaN  "
      ]
     },
     "execution_count": 370,
     "metadata": {},
     "output_type": "execute_result"
    }
   ],
   "source": [
    "clust_df2 = clust_df.join(df['categories_en'])\n",
    "clust_df2.head()"
   ]
  },
  {
   "cell_type": "code",
   "execution_count": 371,
   "metadata": {},
   "outputs": [
    {
     "data": {
      "text/plain": [
       "Missing          11618\n",
       "Plant-based        347\n",
       "Sugary              65\n",
       "Dairies             54\n",
       "Groceries           44\n",
       "Meats               32\n",
       "Salty               26\n",
       "Beverages           17\n",
       "Fresh                9\n",
       "Frozen               8\n",
       "Farming              5\n",
       "Vinegars             3\n",
       "Desserts             3\n",
       "Canned               3\n",
       "Chips                3\n",
       "Fresh-chicken        2\n",
       "Labeled              2\n",
       "Frozen-peas          2\n",
       "fr:Pates             2\n",
       "fr:Farfalles         2\n",
       "Name: categories_en, dtype: int64"
      ]
     },
     "execution_count": 371,
     "metadata": {},
     "output_type": "execute_result"
    }
   ],
   "source": [
    "clust_df2['categories_en'] = clust_df2['categories_en'].fillna('Missing')\n",
    "clust_df2['categories_en'] = [re.sub(\",\", \" \", s) for s in clust_df2['categories_en']]\n",
    "clust_df2['categories_en'] = [s.split()[0] for s in clust_df2['categories_en']]\n",
    "dict(clust_df2['categories_en'].value_counts().head(20))"
   ]
  },
  {
   "cell_type": "code",
   "execution_count": 377,
   "metadata": {},
   "outputs": [],
   "source": [
    "tot_food_counts = dict(clust_df2['categories_en'].value_counts())"
   ]
  },
  {
   "cell_type": "code",
   "execution_count": 375,
   "metadata": {},
   "outputs": [],
   "source": [
    "def clust_food_prevelance(col):\n",
    "    \n",
    "    ### Count Categories\n",
    "    food_counts = dict(col.value_counts())\n",
    "    \n",
    "    \n",
    "    ### TF IDF To Obtain True Cluster Prevelance \n",
    "    for key in food_counts.keys():\n",
    "        food_counts[key] = food_counts[key] * np.log(N / tot_food_counts[key])\n",
    "    \n",
    "    return food_counts"
   ]
  },
  {
   "cell_type": "code",
   "execution_count": 379,
   "metadata": {},
   "outputs": [],
   "source": [
    "clust_foods = clust_df2.groupby('clust')['categories_en'].apply(clust_food_prevelance)"
   ]
  },
  {
   "cell_type": "code",
   "execution_count": 381,
   "metadata": {},
   "outputs": [
    {
     "name": "stdout",
     "output_type": "stream",
     "text": [
      "             categories_en\n",
      "Sugary          188.679442\n",
      "Missing          39.613477\n",
      "Spreads           9.415483\n",
      "Plant-based       7.132316\n",
      "             categories_en\n",
      "Missing          56.827133\n",
      "Beverages        26.329078\n",
      "Sugary           15.723287\n",
      "Plant-based      14.264632\n",
      "Dairies          10.852998\n",
      "             categories_en\n",
      "Plant-based     770.290148\n",
      "Salty           160.092045\n",
      "Missing          92.413056\n",
      "Sugary           47.169860\n",
      "fr:Pates         17.444671\n",
      "             categories_en\n",
      "Sugary           83.857530\n",
      "Missing          78.233859\n",
      "Plant-based      53.492371\n",
      "             categories_en\n",
      "Dairies         113.956475\n",
      "Missing         102.509527\n",
      "Fresh            14.436517\n",
      "Meats            11.899494\n",
      "Brie-cheese       9.415483\n",
      "             categories_en\n",
      "Plant-based     392.277390\n",
      "Groceries       230.883023\n",
      "Missing         227.308531\n",
      "Dairies         162.794965\n",
      "Beverages        85.569504\n",
      "               categories_en\n",
      "Meats             178.492409\n",
      "Missing            44.082407\n",
      "Farming            39.030225\n",
      "Labeled            17.444671\n",
      "Fresh-chicken      17.444671\n"
     ]
    }
   ],
   "source": [
    "for c in range(n_clust):\n",
    "    print(pd.DataFrame(clust_foods[c]).dropna().sort_values('categories_en', ascending = False).iloc[:5, ])"
   ]
  },
  {
   "cell_type": "markdown",
   "metadata": {},
   "source": [
    "# Supervised Task"
   ]
  },
  {
   "cell_type": "code",
   "execution_count": 392,
   "metadata": {},
   "outputs": [],
   "source": [
    "sup_df = clust_df.join(df['nutrition-score-fr_100g']).dropna()"
   ]
  },
  {
   "cell_type": "code",
   "execution_count": 397,
   "metadata": {},
   "outputs": [
    {
     "data": {
      "text/html": [
       "<div>\n",
       "<style scoped>\n",
       "    .dataframe tbody tr th:only-of-type {\n",
       "        vertical-align: middle;\n",
       "    }\n",
       "\n",
       "    .dataframe tbody tr th {\n",
       "        vertical-align: top;\n",
       "    }\n",
       "\n",
       "    .dataframe thead th {\n",
       "        text-align: right;\n",
       "    }\n",
       "</style>\n",
       "<table border=\"1\" class=\"dataframe\">\n",
       "  <thead>\n",
       "    <tr style=\"text-align: right;\">\n",
       "      <th></th>\n",
       "      <th>ingredients_text</th>\n",
       "      <th>carbohydrates_100g</th>\n",
       "      <th>fiber_100g</th>\n",
       "      <th>sugars_100g</th>\n",
       "      <th>proteins_100g</th>\n",
       "      <th>fat_100g</th>\n",
       "      <th>saturated-fat_100g</th>\n",
       "      <th>clust</th>\n",
       "      <th>nutrition-score-fr_100g</th>\n",
       "    </tr>\n",
       "  </thead>\n",
       "  <tbody>\n",
       "    <tr>\n",
       "      <th>2</th>\n",
       "      <td>peanuts wheat-flour sugar rice-flour tapioca-s...</td>\n",
       "      <td>1.119606</td>\n",
       "      <td>1.255472</td>\n",
       "      <td>0.371259</td>\n",
       "      <td>0.859435</td>\n",
       "      <td>0.137917</td>\n",
       "      <td>-0.700412</td>\n",
       "      <td>2</td>\n",
       "      <td>0.0</td>\n",
       "    </tr>\n",
       "    <tr>\n",
       "      <th>148</th>\n",
       "      <td>cranberries sugar sunflower-oil</td>\n",
       "      <td>1.896869</td>\n",
       "      <td>2.083100</td>\n",
       "      <td>3.082730</td>\n",
       "      <td>-1.065403</td>\n",
       "      <td>-0.795579</td>\n",
       "      <td>-0.700412</td>\n",
       "      <td>1</td>\n",
       "      <td>8.0</td>\n",
       "    </tr>\n",
       "    <tr>\n",
       "      <th>149</th>\n",
       "      <td>apricots sulfur-dioxide</td>\n",
       "      <td>1.181114</td>\n",
       "      <td>1.369627</td>\n",
       "      <td>2.295565</td>\n",
       "      <td>-0.795968</td>\n",
       "      <td>-0.795579</td>\n",
       "      <td>-0.700412</td>\n",
       "      <td>1</td>\n",
       "      <td>8.0</td>\n",
       "    </tr>\n",
       "    <tr>\n",
       "      <th>200</th>\n",
       "      <td>wheat-flour butter cream  water yeast sugar sa...</td>\n",
       "      <td>0.550919</td>\n",
       "      <td>-0.399784</td>\n",
       "      <td>-0.332580</td>\n",
       "      <td>-0.225846</td>\n",
       "      <td>0.086695</td>\n",
       "      <td>0.767782</td>\n",
       "      <td>2</td>\n",
       "      <td>18.0</td>\n",
       "    </tr>\n",
       "    <tr>\n",
       "      <th>201</th>\n",
       "      <td>enriched-wheat-flour wheat-flour malted-barley...</td>\n",
       "      <td>0.656066</td>\n",
       "      <td>-0.513939</td>\n",
       "      <td>0.819560</td>\n",
       "      <td>-0.367029</td>\n",
       "      <td>0.027110</td>\n",
       "      <td>-0.177571</td>\n",
       "      <td>2</td>\n",
       "      <td>14.0</td>\n",
       "    </tr>\n",
       "    <tr>\n",
       "      <th>...</th>\n",
       "      <td>...</td>\n",
       "      <td>...</td>\n",
       "      <td>...</td>\n",
       "      <td>...</td>\n",
       "      <td>...</td>\n",
       "      <td>...</td>\n",
       "      <td>...</td>\n",
       "      <td>...</td>\n",
       "      <td>...</td>\n",
       "    </tr>\n",
       "    <tr>\n",
       "      <th>355083</th>\n",
       "      <td>almonds</td>\n",
       "      <td>-0.815304</td>\n",
       "      <td>1.740633</td>\n",
       "      <td>-0.376465</td>\n",
       "      <td>1.090071</td>\n",
       "      <td>0.249769</td>\n",
       "      <td>-0.191702</td>\n",
       "      <td>3</td>\n",
       "      <td>0.0</td>\n",
       "    </tr>\n",
       "    <tr>\n",
       "      <th>355269</th>\n",
       "      <td>shrimp salt</td>\n",
       "      <td>-0.966496</td>\n",
       "      <td>-0.770789</td>\n",
       "      <td>-0.620892</td>\n",
       "      <td>0.202016</td>\n",
       "      <td>-0.795579</td>\n",
       "      <td>-0.700412</td>\n",
       "      <td>6</td>\n",
       "      <td>0.0</td>\n",
       "    </tr>\n",
       "    <tr>\n",
       "      <th>355474</th>\n",
       "      <td>beef sugar salt tomato-paste garlic spices mon...</td>\n",
       "      <td>-0.843825</td>\n",
       "      <td>-0.770789</td>\n",
       "      <td>-0.422573</td>\n",
       "      <td>1.244187</td>\n",
       "      <td>0.230953</td>\n",
       "      <td>0.561472</td>\n",
       "      <td>6</td>\n",
       "      <td>19.0</td>\n",
       "    </tr>\n",
       "    <tr>\n",
       "      <th>355525</th>\n",
       "      <td>eggs</td>\n",
       "      <td>-0.956188</td>\n",
       "      <td>-0.770789</td>\n",
       "      <td>-0.604227</td>\n",
       "      <td>0.314100</td>\n",
       "      <td>-0.267678</td>\n",
       "      <td>-0.262356</td>\n",
       "      <td>6</td>\n",
       "      <td>0.0</td>\n",
       "    </tr>\n",
       "    <tr>\n",
       "      <th>355586</th>\n",
       "      <td>peanuts</td>\n",
       "      <td>-0.622879</td>\n",
       "      <td>1.141316</td>\n",
       "      <td>-0.435906</td>\n",
       "      <td>1.448957</td>\n",
       "      <td>1.643742</td>\n",
       "      <td>-0.229855</td>\n",
       "      <td>3</td>\n",
       "      <td>0.0</td>\n",
       "    </tr>\n",
       "  </tbody>\n",
       "</table>\n",
       "<p>12243 rows × 9 columns</p>\n",
       "</div>"
      ],
      "text/plain": [
       "                                         ingredients_text  carbohydrates_100g  \\\n",
       "2       peanuts wheat-flour sugar rice-flour tapioca-s...            1.119606   \n",
       "148                       cranberries sugar sunflower-oil            1.896869   \n",
       "149                               apricots sulfur-dioxide            1.181114   \n",
       "200     wheat-flour butter cream  water yeast sugar sa...            0.550919   \n",
       "201     enriched-wheat-flour wheat-flour malted-barley...            0.656066   \n",
       "...                                                   ...                 ...   \n",
       "355083                                            almonds           -0.815304   \n",
       "355269                                        shrimp salt           -0.966496   \n",
       "355474  beef sugar salt tomato-paste garlic spices mon...           -0.843825   \n",
       "355525                                               eggs           -0.956188   \n",
       "355586                                            peanuts           -0.622879   \n",
       "\n",
       "        fiber_100g  sugars_100g  proteins_100g  fat_100g  saturated-fat_100g  \\\n",
       "2         1.255472     0.371259       0.859435  0.137917           -0.700412   \n",
       "148       2.083100     3.082730      -1.065403 -0.795579           -0.700412   \n",
       "149       1.369627     2.295565      -0.795968 -0.795579           -0.700412   \n",
       "200      -0.399784    -0.332580      -0.225846  0.086695            0.767782   \n",
       "201      -0.513939     0.819560      -0.367029  0.027110           -0.177571   \n",
       "...            ...          ...            ...       ...                 ...   \n",
       "355083    1.740633    -0.376465       1.090071  0.249769           -0.191702   \n",
       "355269   -0.770789    -0.620892       0.202016 -0.795579           -0.700412   \n",
       "355474   -0.770789    -0.422573       1.244187  0.230953            0.561472   \n",
       "355525   -0.770789    -0.604227       0.314100 -0.267678           -0.262356   \n",
       "355586    1.141316    -0.435906       1.448957  1.643742           -0.229855   \n",
       "\n",
       "        clust  nutrition-score-fr_100g  \n",
       "2           2                      0.0  \n",
       "148         1                      8.0  \n",
       "149         1                      8.0  \n",
       "200         2                     18.0  \n",
       "201         2                     14.0  \n",
       "...       ...                      ...  \n",
       "355083      3                      0.0  \n",
       "355269      6                      0.0  \n",
       "355474      6                     19.0  \n",
       "355525      6                      0.0  \n",
       "355586      3                      0.0  \n",
       "\n",
       "[12243 rows x 9 columns]"
      ]
     },
     "execution_count": 397,
     "metadata": {},
     "output_type": "execute_result"
    }
   ],
   "source": [
    "sup_df"
   ]
  },
  {
   "cell_type": "markdown",
   "metadata": {},
   "source": [
    "## Document Term Matrix For Ingredients"
   ]
  },
  {
   "cell_type": "markdown",
   "metadata": {},
   "source": [
    "Form the document term matrix from the Ingredient Clusters"
   ]
  },
  {
   "cell_type": "code",
   "execution_count": 396,
   "metadata": {},
   "outputs": [
    {
     "data": {
      "text/html": [
       "<div>\n",
       "<style scoped>\n",
       "    .dataframe tbody tr th:only-of-type {\n",
       "        vertical-align: middle;\n",
       "    }\n",
       "\n",
       "    .dataframe tbody tr th {\n",
       "        vertical-align: top;\n",
       "    }\n",
       "\n",
       "    .dataframe thead th {\n",
       "        text-align: right;\n",
       "    }\n",
       "</style>\n",
       "<table border=\"1\" class=\"dataframe\">\n",
       "  <thead>\n",
       "    <tr style=\"text-align: right;\">\n",
       "      <th></th>\n",
       "      <th>clust</th>\n",
       "      <th>level_1</th>\n",
       "      <th>ingredients_text</th>\n",
       "    </tr>\n",
       "  </thead>\n",
       "  <tbody>\n",
       "    <tr>\n",
       "      <th>0</th>\n",
       "      <td>0</td>\n",
       "      <td>cocoa-butter</td>\n",
       "      <td>1340.120845</td>\n",
       "    </tr>\n",
       "    <tr>\n",
       "      <th>1</th>\n",
       "      <td>0</td>\n",
       "      <td>soy-lecithin</td>\n",
       "      <td>1083.036709</td>\n",
       "    </tr>\n",
       "    <tr>\n",
       "      <th>2</th>\n",
       "      <td>0</td>\n",
       "      <td>chocolate-liquor</td>\n",
       "      <td>969.411954</td>\n",
       "    </tr>\n",
       "    <tr>\n",
       "      <th>3</th>\n",
       "      <td>0</td>\n",
       "      <td>vanilla</td>\n",
       "      <td>827.088033</td>\n",
       "    </tr>\n",
       "    <tr>\n",
       "      <th>4</th>\n",
       "      <td>0</td>\n",
       "      <td>milk</td>\n",
       "      <td>520.067768</td>\n",
       "    </tr>\n",
       "    <tr>\n",
       "      <th>...</th>\n",
       "      <td>...</td>\n",
       "      <td>...</td>\n",
       "      <td>...</td>\n",
       "    </tr>\n",
       "    <tr>\n",
       "      <th>5854</th>\n",
       "      <td>6</td>\n",
       "      <td>viande-de-porc</td>\n",
       "      <td>24.950612</td>\n",
       "    </tr>\n",
       "    <tr>\n",
       "      <th>5855</th>\n",
       "      <td>6</td>\n",
       "      <td>antioxydant-:-ascorbate-de-sodium</td>\n",
       "      <td>17.444671</td>\n",
       "    </tr>\n",
       "    <tr>\n",
       "      <th>5856</th>\n",
       "      <td>6</td>\n",
       "      <td>conservateur-:-nitrite-de-sodium</td>\n",
       "      <td>17.444671</td>\n",
       "    </tr>\n",
       "    <tr>\n",
       "      <th>5857</th>\n",
       "      <td>6</td>\n",
       "      <td>extrait-de-levure</td>\n",
       "      <td>9.415483</td>\n",
       "    </tr>\n",
       "    <tr>\n",
       "      <th>5858</th>\n",
       "      <td>6</td>\n",
       "      <td>plantes-aromatiques</td>\n",
       "      <td>9.415483</td>\n",
       "    </tr>\n",
       "  </tbody>\n",
       "</table>\n",
       "<p>5859 rows × 3 columns</p>\n",
       "</div>"
      ],
      "text/plain": [
       "      clust                            level_1  ingredients_text\n",
       "0         0                       cocoa-butter       1340.120845\n",
       "1         0                       soy-lecithin       1083.036709\n",
       "2         0                   chocolate-liquor        969.411954\n",
       "3         0                            vanilla        827.088033\n",
       "4         0                               milk        520.067768\n",
       "...     ...                                ...               ...\n",
       "5854      6                     viande-de-porc         24.950612\n",
       "5855      6  antioxydant-:-ascorbate-de-sodium         17.444671\n",
       "5856      6   conservateur-:-nitrite-de-sodium         17.444671\n",
       "5857      6                  extrait-de-levure          9.415483\n",
       "5858      6                plantes-aromatiques          9.415483\n",
       "\n",
       "[5859 rows x 3 columns]"
      ]
     },
     "execution_count": 396,
     "metadata": {},
     "output_type": "execute_result"
    }
   ],
   "source": [
    "pd.DataFrame(clust_words).reset_index()"
   ]
  },
  {
   "cell_type": "code",
   "execution_count": 19,
   "metadata": {},
   "outputs": [
    {
     "data": {
      "text/html": [
       "<div>\n",
       "<style scoped>\n",
       "    .dataframe tbody tr th:only-of-type {\n",
       "        vertical-align: middle;\n",
       "    }\n",
       "\n",
       "    .dataframe tbody tr th {\n",
       "        vertical-align: top;\n",
       "    }\n",
       "\n",
       "    .dataframe thead th {\n",
       "        text-align: right;\n",
       "    }\n",
       "</style>\n",
       "<table border=\"1\" class=\"dataframe\">\n",
       "  <thead>\n",
       "    <tr style=\"text-align: right;\">\n",
       "      <th></th>\n",
       "      <th>acid</th>\n",
       "      <th>acide</th>\n",
       "      <th>amidon</th>\n",
       "      <th>and</th>\n",
       "      <th>ar</th>\n",
       "      <th>artificial</th>\n",
       "      <th>beurre</th>\n",
       "      <th>bl</th>\n",
       "      <th>butter</th>\n",
       "      <th>cacao</th>\n",
       "      <th>...</th>\n",
       "      <th>tournesol</th>\n",
       "      <th>vegetable</th>\n",
       "      <th>vinegar</th>\n",
       "      <th>vitamin</th>\n",
       "      <th>water</th>\n",
       "      <th>wheat</th>\n",
       "      <th>whey</th>\n",
       "      <th>whole</th>\n",
       "      <th>with</th>\n",
       "      <th>yeast</th>\n",
       "    </tr>\n",
       "  </thead>\n",
       "  <tbody>\n",
       "    <tr>\n",
       "      <th>0</th>\n",
       "      <td>0</td>\n",
       "      <td>0</td>\n",
       "      <td>0</td>\n",
       "      <td>1</td>\n",
       "      <td>0</td>\n",
       "      <td>0</td>\n",
       "      <td>0</td>\n",
       "      <td>0</td>\n",
       "      <td>0</td>\n",
       "      <td>0</td>\n",
       "      <td>...</td>\n",
       "      <td>0</td>\n",
       "      <td>1</td>\n",
       "      <td>0</td>\n",
       "      <td>0</td>\n",
       "      <td>0</td>\n",
       "      <td>0</td>\n",
       "      <td>0</td>\n",
       "      <td>0</td>\n",
       "      <td>0</td>\n",
       "      <td>0</td>\n",
       "    </tr>\n",
       "    <tr>\n",
       "      <th>1</th>\n",
       "      <td>0</td>\n",
       "      <td>0</td>\n",
       "      <td>0</td>\n",
       "      <td>0</td>\n",
       "      <td>0</td>\n",
       "      <td>0</td>\n",
       "      <td>0</td>\n",
       "      <td>0</td>\n",
       "      <td>0</td>\n",
       "      <td>0</td>\n",
       "      <td>...</td>\n",
       "      <td>0</td>\n",
       "      <td>0</td>\n",
       "      <td>0</td>\n",
       "      <td>0</td>\n",
       "      <td>1</td>\n",
       "      <td>2</td>\n",
       "      <td>0</td>\n",
       "      <td>0</td>\n",
       "      <td>0</td>\n",
       "      <td>0</td>\n",
       "    </tr>\n",
       "    <tr>\n",
       "      <th>2</th>\n",
       "      <td>0</td>\n",
       "      <td>0</td>\n",
       "      <td>0</td>\n",
       "      <td>0</td>\n",
       "      <td>0</td>\n",
       "      <td>0</td>\n",
       "      <td>0</td>\n",
       "      <td>0</td>\n",
       "      <td>0</td>\n",
       "      <td>0</td>\n",
       "      <td>...</td>\n",
       "      <td>0</td>\n",
       "      <td>0</td>\n",
       "      <td>0</td>\n",
       "      <td>0</td>\n",
       "      <td>0</td>\n",
       "      <td>0</td>\n",
       "      <td>0</td>\n",
       "      <td>0</td>\n",
       "      <td>0</td>\n",
       "      <td>0</td>\n",
       "    </tr>\n",
       "    <tr>\n",
       "      <th>3</th>\n",
       "      <td>0</td>\n",
       "      <td>0</td>\n",
       "      <td>0</td>\n",
       "      <td>1</td>\n",
       "      <td>0</td>\n",
       "      <td>0</td>\n",
       "      <td>0</td>\n",
       "      <td>0</td>\n",
       "      <td>0</td>\n",
       "      <td>0</td>\n",
       "      <td>...</td>\n",
       "      <td>0</td>\n",
       "      <td>0</td>\n",
       "      <td>0</td>\n",
       "      <td>1</td>\n",
       "      <td>0</td>\n",
       "      <td>0</td>\n",
       "      <td>0</td>\n",
       "      <td>0</td>\n",
       "      <td>0</td>\n",
       "      <td>0</td>\n",
       "    </tr>\n",
       "    <tr>\n",
       "      <th>4</th>\n",
       "      <td>0</td>\n",
       "      <td>0</td>\n",
       "      <td>0</td>\n",
       "      <td>0</td>\n",
       "      <td>0</td>\n",
       "      <td>0</td>\n",
       "      <td>0</td>\n",
       "      <td>0</td>\n",
       "      <td>0</td>\n",
       "      <td>0</td>\n",
       "      <td>...</td>\n",
       "      <td>0</td>\n",
       "      <td>0</td>\n",
       "      <td>0</td>\n",
       "      <td>0</td>\n",
       "      <td>2</td>\n",
       "      <td>3</td>\n",
       "      <td>0</td>\n",
       "      <td>0</td>\n",
       "      <td>0</td>\n",
       "      <td>0</td>\n",
       "    </tr>\n",
       "  </tbody>\n",
       "</table>\n",
       "<p>5 rows × 84 columns</p>\n",
       "</div>"
      ],
      "text/plain": [
       "   acid  acide  amidon  and  ar  artificial  beurre  bl  butter  cacao  ...  \\\n",
       "0     0      0       0    1   0           0       0   0       0      0  ...   \n",
       "1     0      0       0    0   0           0       0   0       0      0  ...   \n",
       "2     0      0       0    0   0           0       0   0       0      0  ...   \n",
       "3     0      0       0    1   0           0       0   0       0      0  ...   \n",
       "4     0      0       0    0   0           0       0   0       0      0  ...   \n",
       "\n",
       "   tournesol  vegetable  vinegar  vitamin  water  wheat  whey  whole  with  \\\n",
       "0          0          1        0        0      0      0     0      0     0   \n",
       "1          0          0        0        0      1      2     0      0     0   \n",
       "2          0          0        0        0      0      0     0      0     0   \n",
       "3          0          0        0        1      0      0     0      0     0   \n",
       "4          0          0        0        0      2      3     0      0     0   \n",
       "\n",
       "   yeast  \n",
       "0      0  \n",
       "1      0  \n",
       "2      0  \n",
       "3      0  \n",
       "4      0  \n",
       "\n",
       "[5 rows x 84 columns]"
      ]
     },
     "execution_count": 19,
     "metadata": {},
     "output_type": "execute_result"
    }
   ],
   "source": [
    "vec = CountVectorizer()\n",
    "X = vec.fit_transform(keep_ingredients)\n",
    "dtm = pd.DataFrame(X.toarray(), columns = vec.get_feature_names())\n",
    "dtm.to_csv(\"/Users/gabrieltaylor/Python/STAT542/dtm.csv\")\n",
    "dtm.head()"
   ]
  }
 ],
 "metadata": {
  "kernelspec": {
   "display_name": "Python 3",
   "language": "python",
   "name": "python3"
  },
  "language_info": {
   "codemirror_mode": {
    "name": "ipython",
    "version": 3
   },
   "file_extension": ".py",
   "mimetype": "text/x-python",
   "name": "python",
   "nbconvert_exporter": "python",
   "pygments_lexer": "ipython3",
   "version": "3.7.3"
  }
 },
 "nbformat": 4,
 "nbformat_minor": 4
}
